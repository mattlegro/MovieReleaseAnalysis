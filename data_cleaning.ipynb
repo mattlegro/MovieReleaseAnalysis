{
 "cells": [
  {
   "cell_type": "code",
   "execution_count": 1,
   "metadata": {
    "ExecuteTime": {
     "end_time": "2021-05-01T00:01:43.194813Z",
     "start_time": "2021-05-01T00:01:42.904606Z"
    }
   },
   "outputs": [],
   "source": [
    "# importing modules\n",
    "import os\n",
    "import pandas as pd\n",
    "import numpy as np\n",
    "from glob import glob\n",
    "import tmdbsimple as tmdb\n",
    "import requests"
   ]
  },
  {
   "cell_type": "code",
   "execution_count": 2,
   "metadata": {
    "ExecuteTime": {
     "end_time": "2021-05-01T00:01:43.875620Z",
     "start_time": "2021-05-01T00:01:43.864623Z"
    }
   },
   "outputs": [
    {
     "data": {
      "text/plain": [
       "['./dataFiles\\\\bom.movie_gross.csv',\n",
       " './dataFiles\\\\expanded_tmdb.csv',\n",
       " './dataFiles\\\\movie_collection.csv',\n",
       " './dataFiles\\\\name.basics.csv',\n",
       " './dataFiles\\\\title.akas.csv',\n",
       " './dataFiles\\\\title.basics.csv',\n",
       " './dataFiles\\\\title.crew.csv',\n",
       " './dataFiles\\\\title.principals.csv',\n",
       " './dataFiles\\\\title.ratings.csv',\n",
       " './dataFiles\\\\tmdb.movies.csv',\n",
       " './dataFiles\\\\tn.movie_budgets.csv']"
      ]
     },
     "execution_count": 2,
     "metadata": {},
     "output_type": "execute_result"
    }
   ],
   "source": [
    "csv_list = glob(\"./dataFiles/*.csv\")\n",
    "csv_list"
   ]
  },
  {
   "cell_type": "code",
   "execution_count": 3,
   "metadata": {
    "ExecuteTime": {
     "end_time": "2021-05-01T00:01:46.018871Z",
     "start_time": "2021-05-01T00:01:46.008922Z"
    }
   },
   "outputs": [],
   "source": [
    "cleaned_filenames = [filename.split('\\\\')[1].replace('.csv', '').replace('.', '_')\n",
    "                     for filename in csv_list]"
   ]
  },
  {
   "cell_type": "code",
   "execution_count": 4,
   "metadata": {
    "ExecuteTime": {
     "end_time": "2021-05-01T00:01:50.528528Z",
     "start_time": "2021-05-01T00:01:48.596997Z"
    }
   },
   "outputs": [],
   "source": [
    "orig_dfs = {}\n",
    "for idx, file in enumerate(csv_list):\n",
    "    orig_dfs.update({cleaned_filenames[idx]: pd.read_csv(file)})"
   ]
  },
  {
   "cell_type": "code",
   "execution_count": 5,
   "metadata": {
    "ExecuteTime": {
     "end_time": "2021-05-01T00:01:51.191288Z",
     "start_time": "2021-05-01T00:01:51.176821Z"
    }
   },
   "outputs": [
    {
     "data": {
      "text/html": [
       "<div>\n",
       "<style scoped>\n",
       "    .dataframe tbody tr th:only-of-type {\n",
       "        vertical-align: middle;\n",
       "    }\n",
       "\n",
       "    .dataframe tbody tr th {\n",
       "        vertical-align: top;\n",
       "    }\n",
       "\n",
       "    .dataframe thead th {\n",
       "        text-align: right;\n",
       "    }\n",
       "</style>\n",
       "<table border=\"1\" class=\"dataframe\">\n",
       "  <thead>\n",
       "    <tr style=\"text-align: right;\">\n",
       "      <th></th>\n",
       "      <th>title</th>\n",
       "      <th>studio</th>\n",
       "      <th>domestic_gross</th>\n",
       "      <th>foreign_gross</th>\n",
       "      <th>year</th>\n",
       "    </tr>\n",
       "  </thead>\n",
       "  <tbody>\n",
       "    <tr>\n",
       "      <th>0</th>\n",
       "      <td>Toy Story 3</td>\n",
       "      <td>BV</td>\n",
       "      <td>415000000.0</td>\n",
       "      <td>652000000</td>\n",
       "      <td>2010</td>\n",
       "    </tr>\n",
       "    <tr>\n",
       "      <th>1</th>\n",
       "      <td>Alice in Wonderland (2010)</td>\n",
       "      <td>BV</td>\n",
       "      <td>334200000.0</td>\n",
       "      <td>691300000</td>\n",
       "      <td>2010</td>\n",
       "    </tr>\n",
       "    <tr>\n",
       "      <th>2</th>\n",
       "      <td>Harry Potter and the Deathly Hallows Part 1</td>\n",
       "      <td>WB</td>\n",
       "      <td>296000000.0</td>\n",
       "      <td>664300000</td>\n",
       "      <td>2010</td>\n",
       "    </tr>\n",
       "    <tr>\n",
       "      <th>3</th>\n",
       "      <td>Inception</td>\n",
       "      <td>WB</td>\n",
       "      <td>292600000.0</td>\n",
       "      <td>535700000</td>\n",
       "      <td>2010</td>\n",
       "    </tr>\n",
       "    <tr>\n",
       "      <th>4</th>\n",
       "      <td>Shrek Forever After</td>\n",
       "      <td>P/DW</td>\n",
       "      <td>238700000.0</td>\n",
       "      <td>513900000</td>\n",
       "      <td>2010</td>\n",
       "    </tr>\n",
       "  </tbody>\n",
       "</table>\n",
       "</div>"
      ],
      "text/plain": [
       "                                         title studio  domestic_gross  \\\n",
       "0                                  Toy Story 3     BV     415000000.0   \n",
       "1                   Alice in Wonderland (2010)     BV     334200000.0   \n",
       "2  Harry Potter and the Deathly Hallows Part 1     WB     296000000.0   \n",
       "3                                    Inception     WB     292600000.0   \n",
       "4                          Shrek Forever After   P/DW     238700000.0   \n",
       "\n",
       "  foreign_gross  year  \n",
       "0     652000000  2010  \n",
       "1     691300000  2010  \n",
       "2     664300000  2010  \n",
       "3     535700000  2010  \n",
       "4     513900000  2010  "
      ]
     },
     "execution_count": 5,
     "metadata": {},
     "output_type": "execute_result"
    }
   ],
   "source": [
    "orig_dfs['bom_movie_gross'].head()"
   ]
  },
  {
   "cell_type": "markdown",
   "metadata": {},
   "source": [
    "Now that we have all the files loaded into dataframes in an easily accessible structure, lets investigate them all to see what information we have available and make connections between the data included in each file. Besides, we can see what modifications we may need to make to data types, to account for missing values, etc. Going forward we will get a lot of  information to keep track of, so I will make a separate excel doc for use as a reference / table schema to relate these dataframes in the future. "
   ]
  },
  {
   "cell_type": "code",
   "execution_count": 6,
   "metadata": {
    "ExecuteTime": {
     "end_time": "2021-05-01T00:01:54.696848Z",
     "start_time": "2021-05-01T00:01:54.368725Z"
    }
   },
   "outputs": [
    {
     "name": "stdout",
     "output_type": "stream",
     "text": [
      "===============New DF===============\n",
      "Title:  bom_movie_gross\n",
      "<class 'pandas.core.frame.DataFrame'>\n",
      "RangeIndex: 3387 entries, 0 to 3386\n",
      "Data columns (total 5 columns):\n",
      " #   Column          Non-Null Count  Dtype  \n",
      "---  ------          --------------  -----  \n",
      " 0   title           3387 non-null   object \n",
      " 1   studio          3382 non-null   object \n",
      " 2   domestic_gross  3359 non-null   float64\n",
      " 3   foreign_gross   2037 non-null   object \n",
      " 4   year            3387 non-null   int64  \n",
      "dtypes: float64(1), int64(1), object(3)\n",
      "memory usage: 132.4+ KB\n",
      "None\n",
      "================End DF===============\n",
      "===============New DF===============\n",
      "Title:  expanded_tmdb\n",
      "<class 'pandas.core.frame.DataFrame'>\n",
      "RangeIndex: 26517 entries, 0 to 26516\n",
      "Data columns (total 15 columns):\n",
      " #   Column                Non-Null Count  Dtype  \n",
      "---  ------                --------------  -----  \n",
      " 0   genre_ids             26517 non-null  object \n",
      " 1   id                    26517 non-null  int64  \n",
      " 2   original_language     26517 non-null  object \n",
      " 3   original_title        26517 non-null  object \n",
      " 4   popularity            26517 non-null  float64\n",
      " 5   release_date          26517 non-null  object \n",
      " 6   title                 26517 non-null  object \n",
      " 7   vote_average          26517 non-null  float64\n",
      " 8   vote_count            26517 non-null  int64  \n",
      " 9   runtime               25877 non-null  float64\n",
      " 10  budget_est            26141 non-null  float64\n",
      " 11  revenue               26141 non-null  float64\n",
      " 12  imdb_id               24612 non-null  object \n",
      " 13  req_title             26141 non-null  float64\n",
      " 14  production_companies  26141 non-null  object \n",
      "dtypes: float64(6), int64(2), object(7)\n",
      "memory usage: 3.0+ MB\n",
      "None\n",
      "================End DF===============\n",
      "===============New DF===============\n",
      "Title:  movie_collection\n",
      "<class 'pandas.core.frame.DataFrame'>\n",
      "RangeIndex: 2373 entries, 0 to 2372\n",
      "Data columns (total 11 columns):\n",
      " #   Column           Non-Null Count  Dtype  \n",
      "---  ------           --------------  -----  \n",
      " 0   tconst           2373 non-null   object \n",
      " 1   Title            2373 non-null   object \n",
      " 2   Genres           2373 non-null   object \n",
      " 3   runtime_minutes  2373 non-null   float64\n",
      " 4   vote_average     2373 non-null   float64\n",
      " 5   vote_count       2373 non-null   float64\n",
      " 6   budget_est       2373 non-null   float64\n",
      " 7   worldwide_gross  2373 non-null   float64\n",
      " 8   release_day      2373 non-null   int64  \n",
      " 9   release_month    2373 non-null   int64  \n",
      " 10  release_year     2373 non-null   int64  \n",
      "dtypes: float64(5), int64(3), object(3)\n",
      "memory usage: 204.1+ KB\n",
      "None\n",
      "================End DF===============\n",
      "===============New DF===============\n",
      "Title:  name_basics\n",
      "<class 'pandas.core.frame.DataFrame'>\n",
      "RangeIndex: 606648 entries, 0 to 606647\n",
      "Data columns (total 6 columns):\n",
      " #   Column              Non-Null Count   Dtype  \n",
      "---  ------              --------------   -----  \n",
      " 0   nconst              606648 non-null  object \n",
      " 1   primary_name        606648 non-null  object \n",
      " 2   birth_year          82736 non-null   float64\n",
      " 3   death_year          6783 non-null    float64\n",
      " 4   primary_profession  555308 non-null  object \n",
      " 5   known_for_titles    576444 non-null  object \n",
      "dtypes: float64(2), object(4)\n",
      "memory usage: 27.8+ MB\n",
      "None\n",
      "================End DF===============\n",
      "===============New DF===============\n",
      "Title:  title_akas\n",
      "<class 'pandas.core.frame.DataFrame'>\n",
      "RangeIndex: 331703 entries, 0 to 331702\n",
      "Data columns (total 8 columns):\n",
      " #   Column             Non-Null Count   Dtype  \n",
      "---  ------             --------------   -----  \n",
      " 0   title_id           331703 non-null  object \n",
      " 1   ordering           331703 non-null  int64  \n",
      " 2   title              331703 non-null  object \n",
      " 3   region             278410 non-null  object \n",
      " 4   language           41715 non-null   object \n",
      " 5   types              168447 non-null  object \n",
      " 6   attributes         14925 non-null   object \n",
      " 7   is_original_title  331678 non-null  float64\n",
      "dtypes: float64(1), int64(1), object(6)\n",
      "memory usage: 20.2+ MB\n",
      "None\n",
      "================End DF===============\n",
      "===============New DF===============\n",
      "Title:  title_basics\n",
      "<class 'pandas.core.frame.DataFrame'>\n",
      "RangeIndex: 146144 entries, 0 to 146143\n",
      "Data columns (total 6 columns):\n",
      " #   Column           Non-Null Count   Dtype  \n",
      "---  ------           --------------   -----  \n",
      " 0   tconst           146144 non-null  object \n",
      " 1   primary_title    146144 non-null  object \n",
      " 2   original_title   146123 non-null  object \n",
      " 3   start_year       146144 non-null  int64  \n",
      " 4   runtime_minutes  114405 non-null  float64\n",
      " 5   genres           140736 non-null  object \n",
      "dtypes: float64(1), int64(1), object(4)\n",
      "memory usage: 6.7+ MB\n",
      "None\n",
      "================End DF===============\n",
      "===============New DF===============\n",
      "Title:  title_crew\n",
      "<class 'pandas.core.frame.DataFrame'>\n",
      "RangeIndex: 146144 entries, 0 to 146143\n",
      "Data columns (total 3 columns):\n",
      " #   Column     Non-Null Count   Dtype \n",
      "---  ------     --------------   ----- \n",
      " 0   tconst     146144 non-null  object\n",
      " 1   directors  140417 non-null  object\n",
      " 2   writers    110261 non-null  object\n",
      "dtypes: object(3)\n",
      "memory usage: 3.3+ MB\n",
      "None\n",
      "================End DF===============\n",
      "===============New DF===============\n",
      "Title:  title_principals\n",
      "<class 'pandas.core.frame.DataFrame'>\n",
      "RangeIndex: 1028186 entries, 0 to 1028185\n",
      "Data columns (total 6 columns):\n",
      " #   Column      Non-Null Count    Dtype \n",
      "---  ------      --------------    ----- \n",
      " 0   tconst      1028186 non-null  object\n",
      " 1   ordering    1028186 non-null  int64 \n",
      " 2   nconst      1028186 non-null  object\n",
      " 3   category    1028186 non-null  object\n",
      " 4   job         177684 non-null   object\n",
      " 5   characters  393360 non-null   object\n",
      "dtypes: int64(1), object(5)\n",
      "memory usage: 47.1+ MB\n",
      "None\n",
      "================End DF===============\n",
      "===============New DF===============\n",
      "Title:  title_ratings\n",
      "<class 'pandas.core.frame.DataFrame'>\n",
      "RangeIndex: 73856 entries, 0 to 73855\n",
      "Data columns (total 3 columns):\n",
      " #   Column         Non-Null Count  Dtype  \n",
      "---  ------         --------------  -----  \n",
      " 0   tconst         73856 non-null  object \n",
      " 1   averagerating  73856 non-null  float64\n",
      " 2   numvotes       73856 non-null  int64  \n",
      "dtypes: float64(1), int64(1), object(1)\n",
      "memory usage: 1.7+ MB\n",
      "None\n",
      "================End DF===============\n",
      "===============New DF===============\n",
      "Title:  tmdb_movies\n",
      "<class 'pandas.core.frame.DataFrame'>\n",
      "RangeIndex: 26517 entries, 0 to 26516\n",
      "Data columns (total 10 columns):\n",
      " #   Column             Non-Null Count  Dtype  \n",
      "---  ------             --------------  -----  \n",
      " 0   Unnamed: 0         26517 non-null  int64  \n",
      " 1   genre_ids          26517 non-null  object \n",
      " 2   id                 26517 non-null  int64  \n",
      " 3   original_language  26517 non-null  object \n",
      " 4   original_title     26517 non-null  object \n",
      " 5   popularity         26517 non-null  float64\n",
      " 6   release_date       26517 non-null  object \n",
      " 7   title              26517 non-null  object \n",
      " 8   vote_average       26517 non-null  float64\n",
      " 9   vote_count         26517 non-null  int64  \n",
      "dtypes: float64(2), int64(3), object(5)\n",
      "memory usage: 2.0+ MB\n",
      "None\n",
      "================End DF===============\n",
      "===============New DF===============\n",
      "Title:  tn_movie_budgets\n",
      "<class 'pandas.core.frame.DataFrame'>\n",
      "RangeIndex: 5782 entries, 0 to 5781\n",
      "Data columns (total 6 columns):\n",
      " #   Column             Non-Null Count  Dtype \n",
      "---  ------             --------------  ----- \n",
      " 0   id                 5782 non-null   int64 \n",
      " 1   release_date       5782 non-null   object\n",
      " 2   movie              5782 non-null   object\n",
      " 3   production_budget  5782 non-null   object\n",
      " 4   domestic_gross     5782 non-null   object\n",
      " 5   worldwide_gross    5782 non-null   object\n",
      "dtypes: int64(1), object(5)\n",
      "memory usage: 271.2+ KB\n",
      "None\n",
      "================End DF===============\n"
     ]
    }
   ],
   "source": [
    "for item in orig_dfs.items():\n",
    "        print(\"===============New DF===============\")\n",
    "        print(f'Title:  {item[0]}')\n",
    "        print(item[1].info())\n",
    "        print(\"================End DF===============\")"
   ]
  },
  {
   "cell_type": "markdown",
   "metadata": {},
   "source": [
    "So far, we can notice that, based on column names, there are some potential connections between the different dataframes. Additionally, there are columns that are hard to interpret from their labels, and there are some missing a large majority of values. Lastly, we can note that there are columns with data types that might be undesirable, such as gross columns stored as strings, and date columns stored as objs or ints/floats. First, to get a better understanding of what is in each column, lets look at the head of each dataframe (since print(df.head()) doesn't look as nice in the notebook, create cell for each one instead)."
   ]
  },
  {
   "cell_type": "code",
   "execution_count": 7,
   "metadata": {
    "ExecuteTime": {
     "end_time": "2021-05-01T00:01:56.029250Z",
     "start_time": "2021-05-01T00:01:56.014319Z"
    }
   },
   "outputs": [
    {
     "data": {
      "text/html": [
       "<div>\n",
       "<style scoped>\n",
       "    .dataframe tbody tr th:only-of-type {\n",
       "        vertical-align: middle;\n",
       "    }\n",
       "\n",
       "    .dataframe tbody tr th {\n",
       "        vertical-align: top;\n",
       "    }\n",
       "\n",
       "    .dataframe thead th {\n",
       "        text-align: right;\n",
       "    }\n",
       "</style>\n",
       "<table border=\"1\" class=\"dataframe\">\n",
       "  <thead>\n",
       "    <tr style=\"text-align: right;\">\n",
       "      <th></th>\n",
       "      <th>title</th>\n",
       "      <th>studio</th>\n",
       "      <th>domestic_gross</th>\n",
       "      <th>foreign_gross</th>\n",
       "      <th>year</th>\n",
       "    </tr>\n",
       "  </thead>\n",
       "  <tbody>\n",
       "    <tr>\n",
       "      <th>0</th>\n",
       "      <td>Toy Story 3</td>\n",
       "      <td>BV</td>\n",
       "      <td>415000000.0</td>\n",
       "      <td>652000000</td>\n",
       "      <td>2010</td>\n",
       "    </tr>\n",
       "    <tr>\n",
       "      <th>1</th>\n",
       "      <td>Alice in Wonderland (2010)</td>\n",
       "      <td>BV</td>\n",
       "      <td>334200000.0</td>\n",
       "      <td>691300000</td>\n",
       "      <td>2010</td>\n",
       "    </tr>\n",
       "    <tr>\n",
       "      <th>2</th>\n",
       "      <td>Harry Potter and the Deathly Hallows Part 1</td>\n",
       "      <td>WB</td>\n",
       "      <td>296000000.0</td>\n",
       "      <td>664300000</td>\n",
       "      <td>2010</td>\n",
       "    </tr>\n",
       "    <tr>\n",
       "      <th>3</th>\n",
       "      <td>Inception</td>\n",
       "      <td>WB</td>\n",
       "      <td>292600000.0</td>\n",
       "      <td>535700000</td>\n",
       "      <td>2010</td>\n",
       "    </tr>\n",
       "    <tr>\n",
       "      <th>4</th>\n",
       "      <td>Shrek Forever After</td>\n",
       "      <td>P/DW</td>\n",
       "      <td>238700000.0</td>\n",
       "      <td>513900000</td>\n",
       "      <td>2010</td>\n",
       "    </tr>\n",
       "  </tbody>\n",
       "</table>\n",
       "</div>"
      ],
      "text/plain": [
       "                                         title studio  domestic_gross  \\\n",
       "0                                  Toy Story 3     BV     415000000.0   \n",
       "1                   Alice in Wonderland (2010)     BV     334200000.0   \n",
       "2  Harry Potter and the Deathly Hallows Part 1     WB     296000000.0   \n",
       "3                                    Inception     WB     292600000.0   \n",
       "4                          Shrek Forever After   P/DW     238700000.0   \n",
       "\n",
       "  foreign_gross  year  \n",
       "0     652000000  2010  \n",
       "1     691300000  2010  \n",
       "2     664300000  2010  \n",
       "3     535700000  2010  \n",
       "4     513900000  2010  "
      ]
     },
     "execution_count": 7,
     "metadata": {},
     "output_type": "execute_result"
    }
   ],
   "source": [
    "orig_dfs['bom_movie_gross'].head()"
   ]
  },
  {
   "cell_type": "code",
   "execution_count": 8,
   "metadata": {
    "ExecuteTime": {
     "end_time": "2021-05-01T00:01:56.789468Z",
     "start_time": "2021-05-01T00:01:56.771981Z"
    }
   },
   "outputs": [
    {
     "data": {
      "text/html": [
       "<div>\n",
       "<style scoped>\n",
       "    .dataframe tbody tr th:only-of-type {\n",
       "        vertical-align: middle;\n",
       "    }\n",
       "\n",
       "    .dataframe tbody tr th {\n",
       "        vertical-align: top;\n",
       "    }\n",
       "\n",
       "    .dataframe thead th {\n",
       "        text-align: right;\n",
       "    }\n",
       "</style>\n",
       "<table border=\"1\" class=\"dataframe\">\n",
       "  <thead>\n",
       "    <tr style=\"text-align: right;\">\n",
       "      <th></th>\n",
       "      <th>nconst</th>\n",
       "      <th>primary_name</th>\n",
       "      <th>birth_year</th>\n",
       "      <th>death_year</th>\n",
       "      <th>primary_profession</th>\n",
       "      <th>known_for_titles</th>\n",
       "    </tr>\n",
       "  </thead>\n",
       "  <tbody>\n",
       "    <tr>\n",
       "      <th>0</th>\n",
       "      <td>nm0061671</td>\n",
       "      <td>Mary Ellen Bauder</td>\n",
       "      <td>NaN</td>\n",
       "      <td>NaN</td>\n",
       "      <td>miscellaneous,production_manager,producer</td>\n",
       "      <td>tt0837562,tt2398241,tt0844471,tt0118553</td>\n",
       "    </tr>\n",
       "    <tr>\n",
       "      <th>1</th>\n",
       "      <td>nm0061865</td>\n",
       "      <td>Joseph Bauer</td>\n",
       "      <td>NaN</td>\n",
       "      <td>NaN</td>\n",
       "      <td>composer,music_department,sound_department</td>\n",
       "      <td>tt0896534,tt6791238,tt0287072,tt1682940</td>\n",
       "    </tr>\n",
       "    <tr>\n",
       "      <th>2</th>\n",
       "      <td>nm0062070</td>\n",
       "      <td>Bruce Baum</td>\n",
       "      <td>NaN</td>\n",
       "      <td>NaN</td>\n",
       "      <td>miscellaneous,actor,writer</td>\n",
       "      <td>tt1470654,tt0363631,tt0104030,tt0102898</td>\n",
       "    </tr>\n",
       "    <tr>\n",
       "      <th>3</th>\n",
       "      <td>nm0062195</td>\n",
       "      <td>Axel Baumann</td>\n",
       "      <td>NaN</td>\n",
       "      <td>NaN</td>\n",
       "      <td>camera_department,cinematographer,art_department</td>\n",
       "      <td>tt0114371,tt2004304,tt1618448,tt1224387</td>\n",
       "    </tr>\n",
       "    <tr>\n",
       "      <th>4</th>\n",
       "      <td>nm0062798</td>\n",
       "      <td>Pete Baxter</td>\n",
       "      <td>NaN</td>\n",
       "      <td>NaN</td>\n",
       "      <td>production_designer,art_department,set_decorator</td>\n",
       "      <td>tt0452644,tt0452692,tt3458030,tt2178256</td>\n",
       "    </tr>\n",
       "  </tbody>\n",
       "</table>\n",
       "</div>"
      ],
      "text/plain": [
       "      nconst       primary_name  birth_year  death_year  \\\n",
       "0  nm0061671  Mary Ellen Bauder         NaN         NaN   \n",
       "1  nm0061865       Joseph Bauer         NaN         NaN   \n",
       "2  nm0062070         Bruce Baum         NaN         NaN   \n",
       "3  nm0062195       Axel Baumann         NaN         NaN   \n",
       "4  nm0062798        Pete Baxter         NaN         NaN   \n",
       "\n",
       "                                 primary_profession  \\\n",
       "0         miscellaneous,production_manager,producer   \n",
       "1        composer,music_department,sound_department   \n",
       "2                        miscellaneous,actor,writer   \n",
       "3  camera_department,cinematographer,art_department   \n",
       "4  production_designer,art_department,set_decorator   \n",
       "\n",
       "                          known_for_titles  \n",
       "0  tt0837562,tt2398241,tt0844471,tt0118553  \n",
       "1  tt0896534,tt6791238,tt0287072,tt1682940  \n",
       "2  tt1470654,tt0363631,tt0104030,tt0102898  \n",
       "3  tt0114371,tt2004304,tt1618448,tt1224387  \n",
       "4  tt0452644,tt0452692,tt3458030,tt2178256  "
      ]
     },
     "execution_count": 8,
     "metadata": {},
     "output_type": "execute_result"
    }
   ],
   "source": [
    "orig_dfs['name_basics'].head()"
   ]
  },
  {
   "cell_type": "code",
   "execution_count": 9,
   "metadata": {
    "ExecuteTime": {
     "end_time": "2021-05-01T00:01:57.872411Z",
     "start_time": "2021-05-01T00:01:57.854245Z"
    }
   },
   "outputs": [
    {
     "data": {
      "text/html": [
       "<div>\n",
       "<style scoped>\n",
       "    .dataframe tbody tr th:only-of-type {\n",
       "        vertical-align: middle;\n",
       "    }\n",
       "\n",
       "    .dataframe tbody tr th {\n",
       "        vertical-align: top;\n",
       "    }\n",
       "\n",
       "    .dataframe thead th {\n",
       "        text-align: right;\n",
       "    }\n",
       "</style>\n",
       "<table border=\"1\" class=\"dataframe\">\n",
       "  <thead>\n",
       "    <tr style=\"text-align: right;\">\n",
       "      <th></th>\n",
       "      <th>title_id</th>\n",
       "      <th>ordering</th>\n",
       "      <th>title</th>\n",
       "      <th>region</th>\n",
       "      <th>language</th>\n",
       "      <th>types</th>\n",
       "      <th>attributes</th>\n",
       "      <th>is_original_title</th>\n",
       "    </tr>\n",
       "  </thead>\n",
       "  <tbody>\n",
       "    <tr>\n",
       "      <th>0</th>\n",
       "      <td>tt0369610</td>\n",
       "      <td>10</td>\n",
       "      <td>Джурасик свят</td>\n",
       "      <td>BG</td>\n",
       "      <td>bg</td>\n",
       "      <td>NaN</td>\n",
       "      <td>NaN</td>\n",
       "      <td>0.0</td>\n",
       "    </tr>\n",
       "    <tr>\n",
       "      <th>1</th>\n",
       "      <td>tt0369610</td>\n",
       "      <td>11</td>\n",
       "      <td>Jurashikku warudo</td>\n",
       "      <td>JP</td>\n",
       "      <td>NaN</td>\n",
       "      <td>imdbDisplay</td>\n",
       "      <td>NaN</td>\n",
       "      <td>0.0</td>\n",
       "    </tr>\n",
       "    <tr>\n",
       "      <th>2</th>\n",
       "      <td>tt0369610</td>\n",
       "      <td>12</td>\n",
       "      <td>Jurassic World: O Mundo dos Dinossauros</td>\n",
       "      <td>BR</td>\n",
       "      <td>NaN</td>\n",
       "      <td>imdbDisplay</td>\n",
       "      <td>NaN</td>\n",
       "      <td>0.0</td>\n",
       "    </tr>\n",
       "    <tr>\n",
       "      <th>3</th>\n",
       "      <td>tt0369610</td>\n",
       "      <td>13</td>\n",
       "      <td>O Mundo dos Dinossauros</td>\n",
       "      <td>BR</td>\n",
       "      <td>NaN</td>\n",
       "      <td>NaN</td>\n",
       "      <td>short title</td>\n",
       "      <td>0.0</td>\n",
       "    </tr>\n",
       "    <tr>\n",
       "      <th>4</th>\n",
       "      <td>tt0369610</td>\n",
       "      <td>14</td>\n",
       "      <td>Jurassic World</td>\n",
       "      <td>FR</td>\n",
       "      <td>NaN</td>\n",
       "      <td>imdbDisplay</td>\n",
       "      <td>NaN</td>\n",
       "      <td>0.0</td>\n",
       "    </tr>\n",
       "  </tbody>\n",
       "</table>\n",
       "</div>"
      ],
      "text/plain": [
       "    title_id  ordering                                    title region  \\\n",
       "0  tt0369610        10                            Джурасик свят     BG   \n",
       "1  tt0369610        11                        Jurashikku warudo     JP   \n",
       "2  tt0369610        12  Jurassic World: O Mundo dos Dinossauros     BR   \n",
       "3  tt0369610        13                  O Mundo dos Dinossauros     BR   \n",
       "4  tt0369610        14                           Jurassic World     FR   \n",
       "\n",
       "  language        types   attributes  is_original_title  \n",
       "0       bg          NaN          NaN                0.0  \n",
       "1      NaN  imdbDisplay          NaN                0.0  \n",
       "2      NaN  imdbDisplay          NaN                0.0  \n",
       "3      NaN          NaN  short title                0.0  \n",
       "4      NaN  imdbDisplay          NaN                0.0  "
      ]
     },
     "execution_count": 9,
     "metadata": {},
     "output_type": "execute_result"
    }
   ],
   "source": [
    "orig_dfs['title_akas'].head()"
   ]
  },
  {
   "cell_type": "code",
   "execution_count": 10,
   "metadata": {
    "ExecuteTime": {
     "end_time": "2021-05-01T00:01:58.601180Z",
     "start_time": "2021-05-01T00:01:58.586188Z"
    }
   },
   "outputs": [
    {
     "data": {
      "text/html": [
       "<div>\n",
       "<style scoped>\n",
       "    .dataframe tbody tr th:only-of-type {\n",
       "        vertical-align: middle;\n",
       "    }\n",
       "\n",
       "    .dataframe tbody tr th {\n",
       "        vertical-align: top;\n",
       "    }\n",
       "\n",
       "    .dataframe thead th {\n",
       "        text-align: right;\n",
       "    }\n",
       "</style>\n",
       "<table border=\"1\" class=\"dataframe\">\n",
       "  <thead>\n",
       "    <tr style=\"text-align: right;\">\n",
       "      <th></th>\n",
       "      <th>tconst</th>\n",
       "      <th>primary_title</th>\n",
       "      <th>original_title</th>\n",
       "      <th>start_year</th>\n",
       "      <th>runtime_minutes</th>\n",
       "      <th>genres</th>\n",
       "    </tr>\n",
       "  </thead>\n",
       "  <tbody>\n",
       "    <tr>\n",
       "      <th>0</th>\n",
       "      <td>tt0063540</td>\n",
       "      <td>Sunghursh</td>\n",
       "      <td>Sunghursh</td>\n",
       "      <td>2013</td>\n",
       "      <td>175.0</td>\n",
       "      <td>Action,Crime,Drama</td>\n",
       "    </tr>\n",
       "    <tr>\n",
       "      <th>1</th>\n",
       "      <td>tt0066787</td>\n",
       "      <td>One Day Before the Rainy Season</td>\n",
       "      <td>Ashad Ka Ek Din</td>\n",
       "      <td>2019</td>\n",
       "      <td>114.0</td>\n",
       "      <td>Biography,Drama</td>\n",
       "    </tr>\n",
       "    <tr>\n",
       "      <th>2</th>\n",
       "      <td>tt0069049</td>\n",
       "      <td>The Other Side of the Wind</td>\n",
       "      <td>The Other Side of the Wind</td>\n",
       "      <td>2018</td>\n",
       "      <td>122.0</td>\n",
       "      <td>Drama</td>\n",
       "    </tr>\n",
       "    <tr>\n",
       "      <th>3</th>\n",
       "      <td>tt0069204</td>\n",
       "      <td>Sabse Bada Sukh</td>\n",
       "      <td>Sabse Bada Sukh</td>\n",
       "      <td>2018</td>\n",
       "      <td>NaN</td>\n",
       "      <td>Comedy,Drama</td>\n",
       "    </tr>\n",
       "    <tr>\n",
       "      <th>4</th>\n",
       "      <td>tt0100275</td>\n",
       "      <td>The Wandering Soap Opera</td>\n",
       "      <td>La Telenovela Errante</td>\n",
       "      <td>2017</td>\n",
       "      <td>80.0</td>\n",
       "      <td>Comedy,Drama,Fantasy</td>\n",
       "    </tr>\n",
       "  </tbody>\n",
       "</table>\n",
       "</div>"
      ],
      "text/plain": [
       "      tconst                    primary_title              original_title  \\\n",
       "0  tt0063540                        Sunghursh                   Sunghursh   \n",
       "1  tt0066787  One Day Before the Rainy Season             Ashad Ka Ek Din   \n",
       "2  tt0069049       The Other Side of the Wind  The Other Side of the Wind   \n",
       "3  tt0069204                  Sabse Bada Sukh             Sabse Bada Sukh   \n",
       "4  tt0100275         The Wandering Soap Opera       La Telenovela Errante   \n",
       "\n",
       "   start_year  runtime_minutes                genres  \n",
       "0        2013            175.0    Action,Crime,Drama  \n",
       "1        2019            114.0       Biography,Drama  \n",
       "2        2018            122.0                 Drama  \n",
       "3        2018              NaN          Comedy,Drama  \n",
       "4        2017             80.0  Comedy,Drama,Fantasy  "
      ]
     },
     "execution_count": 10,
     "metadata": {},
     "output_type": "execute_result"
    }
   ],
   "source": [
    "orig_dfs['title_basics'].head()"
   ]
  },
  {
   "cell_type": "code",
   "execution_count": 11,
   "metadata": {
    "ExecuteTime": {
     "end_time": "2021-05-01T00:01:59.361810Z",
     "start_time": "2021-05-01T00:01:59.343856Z"
    }
   },
   "outputs": [
    {
     "data": {
      "text/html": [
       "<div>\n",
       "<style scoped>\n",
       "    .dataframe tbody tr th:only-of-type {\n",
       "        vertical-align: middle;\n",
       "    }\n",
       "\n",
       "    .dataframe tbody tr th {\n",
       "        vertical-align: top;\n",
       "    }\n",
       "\n",
       "    .dataframe thead th {\n",
       "        text-align: right;\n",
       "    }\n",
       "</style>\n",
       "<table border=\"1\" class=\"dataframe\">\n",
       "  <thead>\n",
       "    <tr style=\"text-align: right;\">\n",
       "      <th></th>\n",
       "      <th>tconst</th>\n",
       "      <th>directors</th>\n",
       "      <th>writers</th>\n",
       "    </tr>\n",
       "  </thead>\n",
       "  <tbody>\n",
       "    <tr>\n",
       "      <th>0</th>\n",
       "      <td>tt0285252</td>\n",
       "      <td>nm0899854</td>\n",
       "      <td>nm0899854</td>\n",
       "    </tr>\n",
       "    <tr>\n",
       "      <th>1</th>\n",
       "      <td>tt0438973</td>\n",
       "      <td>NaN</td>\n",
       "      <td>nm0175726,nm1802864</td>\n",
       "    </tr>\n",
       "    <tr>\n",
       "      <th>2</th>\n",
       "      <td>tt0462036</td>\n",
       "      <td>nm1940585</td>\n",
       "      <td>nm1940585</td>\n",
       "    </tr>\n",
       "    <tr>\n",
       "      <th>3</th>\n",
       "      <td>tt0835418</td>\n",
       "      <td>nm0151540</td>\n",
       "      <td>nm0310087,nm0841532</td>\n",
       "    </tr>\n",
       "    <tr>\n",
       "      <th>4</th>\n",
       "      <td>tt0878654</td>\n",
       "      <td>nm0089502,nm2291498,nm2292011</td>\n",
       "      <td>nm0284943</td>\n",
       "    </tr>\n",
       "  </tbody>\n",
       "</table>\n",
       "</div>"
      ],
      "text/plain": [
       "      tconst                      directors              writers\n",
       "0  tt0285252                      nm0899854            nm0899854\n",
       "1  tt0438973                            NaN  nm0175726,nm1802864\n",
       "2  tt0462036                      nm1940585            nm1940585\n",
       "3  tt0835418                      nm0151540  nm0310087,nm0841532\n",
       "4  tt0878654  nm0089502,nm2291498,nm2292011            nm0284943"
      ]
     },
     "execution_count": 11,
     "metadata": {},
     "output_type": "execute_result"
    }
   ],
   "source": [
    "orig_dfs['title_crew'].head()"
   ]
  },
  {
   "cell_type": "code",
   "execution_count": 12,
   "metadata": {
    "ExecuteTime": {
     "end_time": "2021-05-01T00:02:00.151748Z",
     "start_time": "2021-05-01T00:02:00.141799Z"
    }
   },
   "outputs": [
    {
     "data": {
      "text/html": [
       "<div>\n",
       "<style scoped>\n",
       "    .dataframe tbody tr th:only-of-type {\n",
       "        vertical-align: middle;\n",
       "    }\n",
       "\n",
       "    .dataframe tbody tr th {\n",
       "        vertical-align: top;\n",
       "    }\n",
       "\n",
       "    .dataframe thead th {\n",
       "        text-align: right;\n",
       "    }\n",
       "</style>\n",
       "<table border=\"1\" class=\"dataframe\">\n",
       "  <thead>\n",
       "    <tr style=\"text-align: right;\">\n",
       "      <th></th>\n",
       "      <th>tconst</th>\n",
       "      <th>ordering</th>\n",
       "      <th>nconst</th>\n",
       "      <th>category</th>\n",
       "      <th>job</th>\n",
       "      <th>characters</th>\n",
       "    </tr>\n",
       "  </thead>\n",
       "  <tbody>\n",
       "    <tr>\n",
       "      <th>0</th>\n",
       "      <td>tt0111414</td>\n",
       "      <td>1</td>\n",
       "      <td>nm0246005</td>\n",
       "      <td>actor</td>\n",
       "      <td>NaN</td>\n",
       "      <td>[\"The Man\"]</td>\n",
       "    </tr>\n",
       "    <tr>\n",
       "      <th>1</th>\n",
       "      <td>tt0111414</td>\n",
       "      <td>2</td>\n",
       "      <td>nm0398271</td>\n",
       "      <td>director</td>\n",
       "      <td>NaN</td>\n",
       "      <td>NaN</td>\n",
       "    </tr>\n",
       "    <tr>\n",
       "      <th>2</th>\n",
       "      <td>tt0111414</td>\n",
       "      <td>3</td>\n",
       "      <td>nm3739909</td>\n",
       "      <td>producer</td>\n",
       "      <td>producer</td>\n",
       "      <td>NaN</td>\n",
       "    </tr>\n",
       "    <tr>\n",
       "      <th>3</th>\n",
       "      <td>tt0323808</td>\n",
       "      <td>10</td>\n",
       "      <td>nm0059247</td>\n",
       "      <td>editor</td>\n",
       "      <td>NaN</td>\n",
       "      <td>NaN</td>\n",
       "    </tr>\n",
       "    <tr>\n",
       "      <th>4</th>\n",
       "      <td>tt0323808</td>\n",
       "      <td>1</td>\n",
       "      <td>nm3579312</td>\n",
       "      <td>actress</td>\n",
       "      <td>NaN</td>\n",
       "      <td>[\"Beth Boothby\"]</td>\n",
       "    </tr>\n",
       "  </tbody>\n",
       "</table>\n",
       "</div>"
      ],
      "text/plain": [
       "      tconst  ordering     nconst  category       job        characters\n",
       "0  tt0111414         1  nm0246005     actor       NaN       [\"The Man\"]\n",
       "1  tt0111414         2  nm0398271  director       NaN               NaN\n",
       "2  tt0111414         3  nm3739909  producer  producer               NaN\n",
       "3  tt0323808        10  nm0059247    editor       NaN               NaN\n",
       "4  tt0323808         1  nm3579312   actress       NaN  [\"Beth Boothby\"]"
      ]
     },
     "execution_count": 12,
     "metadata": {},
     "output_type": "execute_result"
    }
   ],
   "source": [
    "orig_dfs['title_principals'].head()"
   ]
  },
  {
   "cell_type": "code",
   "execution_count": 13,
   "metadata": {
    "ExecuteTime": {
     "end_time": "2021-05-01T00:02:00.865603Z",
     "start_time": "2021-05-01T00:02:00.850615Z"
    }
   },
   "outputs": [
    {
     "data": {
      "text/html": [
       "<div>\n",
       "<style scoped>\n",
       "    .dataframe tbody tr th:only-of-type {\n",
       "        vertical-align: middle;\n",
       "    }\n",
       "\n",
       "    .dataframe tbody tr th {\n",
       "        vertical-align: top;\n",
       "    }\n",
       "\n",
       "    .dataframe thead th {\n",
       "        text-align: right;\n",
       "    }\n",
       "</style>\n",
       "<table border=\"1\" class=\"dataframe\">\n",
       "  <thead>\n",
       "    <tr style=\"text-align: right;\">\n",
       "      <th></th>\n",
       "      <th>tconst</th>\n",
       "      <th>averagerating</th>\n",
       "      <th>numvotes</th>\n",
       "    </tr>\n",
       "  </thead>\n",
       "  <tbody>\n",
       "    <tr>\n",
       "      <th>0</th>\n",
       "      <td>tt10356526</td>\n",
       "      <td>8.3</td>\n",
       "      <td>31</td>\n",
       "    </tr>\n",
       "    <tr>\n",
       "      <th>1</th>\n",
       "      <td>tt10384606</td>\n",
       "      <td>8.9</td>\n",
       "      <td>559</td>\n",
       "    </tr>\n",
       "    <tr>\n",
       "      <th>2</th>\n",
       "      <td>tt1042974</td>\n",
       "      <td>6.4</td>\n",
       "      <td>20</td>\n",
       "    </tr>\n",
       "    <tr>\n",
       "      <th>3</th>\n",
       "      <td>tt1043726</td>\n",
       "      <td>4.2</td>\n",
       "      <td>50352</td>\n",
       "    </tr>\n",
       "    <tr>\n",
       "      <th>4</th>\n",
       "      <td>tt1060240</td>\n",
       "      <td>6.5</td>\n",
       "      <td>21</td>\n",
       "    </tr>\n",
       "  </tbody>\n",
       "</table>\n",
       "</div>"
      ],
      "text/plain": [
       "       tconst  averagerating  numvotes\n",
       "0  tt10356526            8.3        31\n",
       "1  tt10384606            8.9       559\n",
       "2   tt1042974            6.4        20\n",
       "3   tt1043726            4.2     50352\n",
       "4   tt1060240            6.5        21"
      ]
     },
     "execution_count": 13,
     "metadata": {},
     "output_type": "execute_result"
    }
   ],
   "source": [
    "orig_dfs['title_ratings'].head()"
   ]
  },
  {
   "cell_type": "code",
   "execution_count": 14,
   "metadata": {
    "ExecuteTime": {
     "end_time": "2021-05-01T00:02:01.561724Z",
     "start_time": "2021-05-01T00:02:01.543773Z"
    }
   },
   "outputs": [
    {
     "data": {
      "text/html": [
       "<div>\n",
       "<style scoped>\n",
       "    .dataframe tbody tr th:only-of-type {\n",
       "        vertical-align: middle;\n",
       "    }\n",
       "\n",
       "    .dataframe tbody tr th {\n",
       "        vertical-align: top;\n",
       "    }\n",
       "\n",
       "    .dataframe thead th {\n",
       "        text-align: right;\n",
       "    }\n",
       "</style>\n",
       "<table border=\"1\" class=\"dataframe\">\n",
       "  <thead>\n",
       "    <tr style=\"text-align: right;\">\n",
       "      <th></th>\n",
       "      <th>Unnamed: 0</th>\n",
       "      <th>genre_ids</th>\n",
       "      <th>id</th>\n",
       "      <th>original_language</th>\n",
       "      <th>original_title</th>\n",
       "      <th>popularity</th>\n",
       "      <th>release_date</th>\n",
       "      <th>title</th>\n",
       "      <th>vote_average</th>\n",
       "      <th>vote_count</th>\n",
       "    </tr>\n",
       "  </thead>\n",
       "  <tbody>\n",
       "    <tr>\n",
       "      <th>0</th>\n",
       "      <td>0</td>\n",
       "      <td>[12, 14, 10751]</td>\n",
       "      <td>12444</td>\n",
       "      <td>en</td>\n",
       "      <td>Harry Potter and the Deathly Hallows: Part 1</td>\n",
       "      <td>33.533</td>\n",
       "      <td>2010-11-19</td>\n",
       "      <td>Harry Potter and the Deathly Hallows: Part 1</td>\n",
       "      <td>7.7</td>\n",
       "      <td>10788</td>\n",
       "    </tr>\n",
       "    <tr>\n",
       "      <th>1</th>\n",
       "      <td>1</td>\n",
       "      <td>[14, 12, 16, 10751]</td>\n",
       "      <td>10191</td>\n",
       "      <td>en</td>\n",
       "      <td>How to Train Your Dragon</td>\n",
       "      <td>28.734</td>\n",
       "      <td>2010-03-26</td>\n",
       "      <td>How to Train Your Dragon</td>\n",
       "      <td>7.7</td>\n",
       "      <td>7610</td>\n",
       "    </tr>\n",
       "    <tr>\n",
       "      <th>2</th>\n",
       "      <td>2</td>\n",
       "      <td>[12, 28, 878]</td>\n",
       "      <td>10138</td>\n",
       "      <td>en</td>\n",
       "      <td>Iron Man 2</td>\n",
       "      <td>28.515</td>\n",
       "      <td>2010-05-07</td>\n",
       "      <td>Iron Man 2</td>\n",
       "      <td>6.8</td>\n",
       "      <td>12368</td>\n",
       "    </tr>\n",
       "    <tr>\n",
       "      <th>3</th>\n",
       "      <td>3</td>\n",
       "      <td>[16, 35, 10751]</td>\n",
       "      <td>862</td>\n",
       "      <td>en</td>\n",
       "      <td>Toy Story</td>\n",
       "      <td>28.005</td>\n",
       "      <td>1995-11-22</td>\n",
       "      <td>Toy Story</td>\n",
       "      <td>7.9</td>\n",
       "      <td>10174</td>\n",
       "    </tr>\n",
       "    <tr>\n",
       "      <th>4</th>\n",
       "      <td>4</td>\n",
       "      <td>[28, 878, 12]</td>\n",
       "      <td>27205</td>\n",
       "      <td>en</td>\n",
       "      <td>Inception</td>\n",
       "      <td>27.920</td>\n",
       "      <td>2010-07-16</td>\n",
       "      <td>Inception</td>\n",
       "      <td>8.3</td>\n",
       "      <td>22186</td>\n",
       "    </tr>\n",
       "  </tbody>\n",
       "</table>\n",
       "</div>"
      ],
      "text/plain": [
       "   Unnamed: 0            genre_ids     id original_language  \\\n",
       "0           0      [12, 14, 10751]  12444                en   \n",
       "1           1  [14, 12, 16, 10751]  10191                en   \n",
       "2           2        [12, 28, 878]  10138                en   \n",
       "3           3      [16, 35, 10751]    862                en   \n",
       "4           4        [28, 878, 12]  27205                en   \n",
       "\n",
       "                                 original_title  popularity release_date  \\\n",
       "0  Harry Potter and the Deathly Hallows: Part 1      33.533   2010-11-19   \n",
       "1                      How to Train Your Dragon      28.734   2010-03-26   \n",
       "2                                    Iron Man 2      28.515   2010-05-07   \n",
       "3                                     Toy Story      28.005   1995-11-22   \n",
       "4                                     Inception      27.920   2010-07-16   \n",
       "\n",
       "                                          title  vote_average  vote_count  \n",
       "0  Harry Potter and the Deathly Hallows: Part 1           7.7       10788  \n",
       "1                      How to Train Your Dragon           7.7        7610  \n",
       "2                                    Iron Man 2           6.8       12368  \n",
       "3                                     Toy Story           7.9       10174  \n",
       "4                                     Inception           8.3       22186  "
      ]
     },
     "execution_count": 14,
     "metadata": {},
     "output_type": "execute_result"
    }
   ],
   "source": [
    "orig_dfs['tmdb_movies'].head()"
   ]
  },
  {
   "cell_type": "code",
   "execution_count": 15,
   "metadata": {
    "ExecuteTime": {
     "end_time": "2021-05-01T00:02:02.227882Z",
     "start_time": "2021-05-01T00:02:02.211925Z"
    },
    "scrolled": true
   },
   "outputs": [
    {
     "data": {
      "text/html": [
       "<div>\n",
       "<style scoped>\n",
       "    .dataframe tbody tr th:only-of-type {\n",
       "        vertical-align: middle;\n",
       "    }\n",
       "\n",
       "    .dataframe tbody tr th {\n",
       "        vertical-align: top;\n",
       "    }\n",
       "\n",
       "    .dataframe thead th {\n",
       "        text-align: right;\n",
       "    }\n",
       "</style>\n",
       "<table border=\"1\" class=\"dataframe\">\n",
       "  <thead>\n",
       "    <tr style=\"text-align: right;\">\n",
       "      <th></th>\n",
       "      <th>id</th>\n",
       "      <th>release_date</th>\n",
       "      <th>movie</th>\n",
       "      <th>production_budget</th>\n",
       "      <th>domestic_gross</th>\n",
       "      <th>worldwide_gross</th>\n",
       "    </tr>\n",
       "  </thead>\n",
       "  <tbody>\n",
       "    <tr>\n",
       "      <th>0</th>\n",
       "      <td>1</td>\n",
       "      <td>Dec 18, 2009</td>\n",
       "      <td>Avatar</td>\n",
       "      <td>$425,000,000</td>\n",
       "      <td>$760,507,625</td>\n",
       "      <td>$2,776,345,279</td>\n",
       "    </tr>\n",
       "    <tr>\n",
       "      <th>1</th>\n",
       "      <td>2</td>\n",
       "      <td>May 20, 2011</td>\n",
       "      <td>Pirates of the Caribbean: On Stranger Tides</td>\n",
       "      <td>$410,600,000</td>\n",
       "      <td>$241,063,875</td>\n",
       "      <td>$1,045,663,875</td>\n",
       "    </tr>\n",
       "    <tr>\n",
       "      <th>2</th>\n",
       "      <td>3</td>\n",
       "      <td>Jun 7, 2019</td>\n",
       "      <td>Dark Phoenix</td>\n",
       "      <td>$350,000,000</td>\n",
       "      <td>$42,762,350</td>\n",
       "      <td>$149,762,350</td>\n",
       "    </tr>\n",
       "    <tr>\n",
       "      <th>3</th>\n",
       "      <td>4</td>\n",
       "      <td>May 1, 2015</td>\n",
       "      <td>Avengers: Age of Ultron</td>\n",
       "      <td>$330,600,000</td>\n",
       "      <td>$459,005,868</td>\n",
       "      <td>$1,403,013,963</td>\n",
       "    </tr>\n",
       "    <tr>\n",
       "      <th>4</th>\n",
       "      <td>5</td>\n",
       "      <td>Dec 15, 2017</td>\n",
       "      <td>Star Wars Ep. VIII: The Last Jedi</td>\n",
       "      <td>$317,000,000</td>\n",
       "      <td>$620,181,382</td>\n",
       "      <td>$1,316,721,747</td>\n",
       "    </tr>\n",
       "    <tr>\n",
       "      <th>5</th>\n",
       "      <td>6</td>\n",
       "      <td>Dec 18, 2015</td>\n",
       "      <td>Star Wars Ep. VII: The Force Awakens</td>\n",
       "      <td>$306,000,000</td>\n",
       "      <td>$936,662,225</td>\n",
       "      <td>$2,053,311,220</td>\n",
       "    </tr>\n",
       "    <tr>\n",
       "      <th>6</th>\n",
       "      <td>7</td>\n",
       "      <td>Apr 27, 2018</td>\n",
       "      <td>Avengers: Infinity War</td>\n",
       "      <td>$300,000,000</td>\n",
       "      <td>$678,815,482</td>\n",
       "      <td>$2,048,134,200</td>\n",
       "    </tr>\n",
       "    <tr>\n",
       "      <th>7</th>\n",
       "      <td>8</td>\n",
       "      <td>May 24, 2007</td>\n",
       "      <td>Pirates of the Caribbean: At Worldâs End</td>\n",
       "      <td>$300,000,000</td>\n",
       "      <td>$309,420,425</td>\n",
       "      <td>$963,420,425</td>\n",
       "    </tr>\n",
       "    <tr>\n",
       "      <th>8</th>\n",
       "      <td>9</td>\n",
       "      <td>Nov 17, 2017</td>\n",
       "      <td>Justice League</td>\n",
       "      <td>$300,000,000</td>\n",
       "      <td>$229,024,295</td>\n",
       "      <td>$655,945,209</td>\n",
       "    </tr>\n",
       "    <tr>\n",
       "      <th>9</th>\n",
       "      <td>10</td>\n",
       "      <td>Nov 6, 2015</td>\n",
       "      <td>Spectre</td>\n",
       "      <td>$300,000,000</td>\n",
       "      <td>$200,074,175</td>\n",
       "      <td>$879,620,923</td>\n",
       "    </tr>\n",
       "  </tbody>\n",
       "</table>\n",
       "</div>"
      ],
      "text/plain": [
       "   id  release_date                                        movie  \\\n",
       "0   1  Dec 18, 2009                                       Avatar   \n",
       "1   2  May 20, 2011  Pirates of the Caribbean: On Stranger Tides   \n",
       "2   3   Jun 7, 2019                                 Dark Phoenix   \n",
       "3   4   May 1, 2015                      Avengers: Age of Ultron   \n",
       "4   5  Dec 15, 2017            Star Wars Ep. VIII: The Last Jedi   \n",
       "5   6  Dec 18, 2015         Star Wars Ep. VII: The Force Awakens   \n",
       "6   7  Apr 27, 2018                       Avengers: Infinity War   \n",
       "7   8  May 24, 2007   Pirates of the Caribbean: At Worldâs End   \n",
       "8   9  Nov 17, 2017                               Justice League   \n",
       "9  10   Nov 6, 2015                                      Spectre   \n",
       "\n",
       "  production_budget domestic_gross worldwide_gross  \n",
       "0      $425,000,000   $760,507,625  $2,776,345,279  \n",
       "1      $410,600,000   $241,063,875  $1,045,663,875  \n",
       "2      $350,000,000    $42,762,350    $149,762,350  \n",
       "3      $330,600,000   $459,005,868  $1,403,013,963  \n",
       "4      $317,000,000   $620,181,382  $1,316,721,747  \n",
       "5      $306,000,000   $936,662,225  $2,053,311,220  \n",
       "6      $300,000,000   $678,815,482  $2,048,134,200  \n",
       "7      $300,000,000   $309,420,425    $963,420,425  \n",
       "8      $300,000,000   $229,024,295    $655,945,209  \n",
       "9      $300,000,000   $200,074,175    $879,620,923  "
      ]
     },
     "execution_count": 15,
     "metadata": {},
     "output_type": "execute_result"
    }
   ],
   "source": [
    "orig_dfs['tn_movie_budgets'].head(10)"
   ]
  },
  {
   "cell_type": "markdown",
   "metadata": {},
   "source": [
    "Seeing these, there are some obvious joins / connections to make on things we can be nearly confident in referencing the same thing, such as on identifiers tconst and nconst. There are some columns we are somewhat confident match but will have to be careful about, such as the different movie title columns, and some columns we are not sure yet referencing the same movie (or have equivalent values if they do) but potentially could be, such as the ratings and quoted domestic and foreign gross values. Lastly, there are some extra indexing columns we can drop, such as unnamed and id in the last two tables. The ordering columns as well perhaps, as they seem to index rows for multiple records for the same title. Let's get rid of cluttering rows we know aren't useful first. Then we can look at combining dataframes / eliminating other columns."
   ]
  },
  {
   "cell_type": "code",
   "execution_count": 16,
   "metadata": {
    "ExecuteTime": {
     "end_time": "2021-05-01T00:02:04.538344Z",
     "start_time": "2021-05-01T00:02:04.480327Z"
    }
   },
   "outputs": [],
   "source": [
    "orig_dfs['tmdb_movies'].drop(columns = ['Unnamed: 0'], inplace = True)\n",
    "orig_dfs['tn_movie_budgets'].drop(columns = ['id'], inplace = True)\n",
    "orig_dfs['title_principals'].drop(columns = ['ordering'], inplace = True)\n",
    "orig_dfs['title_akas'].drop(columns = ['ordering'], inplace = True)"
   ]
  },
  {
   "cell_type": "markdown",
   "metadata": {},
   "source": [
    "Now, let's look at other problem columns and fix them up. Starting with bom_movie_gross and moving down the line, we see that in that dataframe there is a studio column that could be more interpretable, since they are currently abbreviations. Let's first see what all the unique abbreviations are."
   ]
  },
  {
   "cell_type": "code",
   "execution_count": 17,
   "metadata": {
    "ExecuteTime": {
     "end_time": "2021-05-01T00:02:06.212547Z",
     "start_time": "2021-05-01T00:02:06.204599Z"
    }
   },
   "outputs": [
    {
     "data": {
      "text/plain": [
       "array(['BV', 'WB', 'P/DW', 'Sum.', 'Par.', 'Uni.', 'Fox', 'Wein.', 'Sony',\n",
       "       'FoxS', 'SGem', 'WB (NL)', 'LGF', 'MBox', 'CL', 'W/Dim.', 'CBS',\n",
       "       'Focus', 'MGM', 'Over.', 'Mira.', 'IFC', 'CJ', 'NM', 'SPC', 'ParV',\n",
       "       'Gold.', 'JS', 'RAtt.', 'Magn.', 'Free', '3D', 'UTV', 'Rela.',\n",
       "       'Zeit.', 'Anch.', 'PDA', 'Lorb.', 'App.', 'Drft.', 'Osci.', 'IW',\n",
       "       'Rog.', nan, 'Eros', 'Relbig.', 'Viv.', 'Hann.', 'Strand', 'NGE',\n",
       "       'Scre.', 'Kino', 'Abr.', 'CZ', 'ATO', 'First', 'GK', 'FInd.',\n",
       "       'NFC', 'TFC', 'Pala.', 'Imag.', 'NAV', 'Arth.', 'CLS', 'Mont.',\n",
       "       'Olive', 'CGld', 'FOAK', 'IVP', 'Yash', 'ICir', 'FM', 'Vita.',\n",
       "       'WOW', 'Truly', 'Indic.', 'FD', 'Vari.', 'TriS', 'ORF', 'IM',\n",
       "       'Elev.', 'Cohen', 'NeoC', 'Jan.', 'MNE', 'Trib.', 'Rocket',\n",
       "       'OMNI/FSR', 'KKM', 'Argo.', 'SMod', 'Libre', 'FRun', 'WHE', 'P4',\n",
       "       'KC', 'SD', 'AM', 'MPFT', 'Icar.', 'AGF', 'A23', 'Da.', 'NYer',\n",
       "       'Rialto', 'DF', 'KL', 'ALP', 'LG/S', 'WGUSA', 'MPI', 'RTWC', 'FIP',\n",
       "       'RF', 'ArcEnt', 'PalUni', 'EpicPics', 'EOne', 'LD', 'AF', 'TFA',\n",
       "       'Myr.', 'BM&DH', 'SEG', 'PalT', 'Outs', 'OutF', 'BSM', 'WAMCR',\n",
       "       'PM&E', 'A24', 'Cdgm.', 'Distrib.', 'Imax', 'PH', 'HTR', 'ELS',\n",
       "       'PI', 'E1', 'TVC', 'FEF', 'EXCL', 'MSF', 'P/108', 'FCW', 'XL',\n",
       "       'Shout!', 'SV', 'CE', 'VPD', 'KE', 'Saban', 'CF&SR', 'Triu', 'DR',\n",
       "       'Crnth', 'Ampl.', 'CP', 'Proud', 'BGP', 'Abk.', 'DLA', 'B360',\n",
       "       'BWP', 'SEA', 'RME', 'KS', 'VE', 'LGP', 'EC', 'FUN', 'STX', 'AR',\n",
       "       'BG', 'PFR', 'BST', 'BH Tilt', 'BSC', 'U/P', 'UHE', 'CLF', 'FR',\n",
       "       'AaF', 'Orch.', 'Alc', 'PBS', 'SHO', 'Grav.', 'Gathr', 'Asp.',\n",
       "       'ADC', 'Rel.', 'SM', 'AZ', 'UEP', 'ITL', 'TA', 'MR', 'BBC',\n",
       "       'CFilms', 'Part.', 'FOR', 'TAFC', 'JBG', 'PNT', 'CineGalaxy',\n",
       "       'Fathom', 'Zee', 'Men.', 'YFG', 'Gaatri', 'Mon', 'Ghop',\n",
       "       'Cleopatra', 'Dreamwest', 'SDS', 'Linn', 'Electric', 'Jampa', 'HC',\n",
       "       'GrtIndia', 'Neon', 'ENTMP', 'Good Deed', 'ParC', 'Aviron',\n",
       "       'Annapurna', 'Amazon', 'Affirm', 'MOM', 'Orion', 'CFI', 'UTMW',\n",
       "       'Crimson', 'CAVU', 'EF', 'Arrow', 'Hiber', 'Studio 8',\n",
       "       'Global Road', 'Trafalgar', 'Greenwich', 'Spanglish', 'Blue Fox',\n",
       "       'RLJ', 'Swen', 'PackYourBag', 'Gaum.', 'Grindstone',\n",
       "       'Conglomerate', 'MUBI', 'Darin Southa', 'Super', 'CARUSEL', 'PDF',\n",
       "       'Synergetic'], dtype=object)"
      ]
     },
     "execution_count": 17,
     "metadata": {},
     "output_type": "execute_result"
    }
   ],
   "source": [
    "orig_dfs['bom_movie_gross'].studio.unique()"
   ]
  },
  {
   "cell_type": "markdown",
   "metadata": {},
   "source": [
    "Okay, well, there's alot. Most or some of them probably do not exist anymore.. maybe we will wait on this."
   ]
  },
  {
   "cell_type": "markdown",
   "metadata": {},
   "source": [
    "A useful discovery from the The Movie Database API page for turning genre_id  to interpretable strings in that table:\n",
    "MOVIES\n",
    "Action          28\n",
    "Adventure       12\n",
    "Animation       16\n",
    "Comedy          35\n",
    "Crime           80\n",
    "Documentary     99\n",
    "Drama           18\n",
    "Family          10751\n",
    "Fantasy         14\n",
    "History         36\n",
    "Horror          27\n",
    "Music           10402\n",
    "Mystery         9648\n",
    "Romance         10749\n",
    "Science Fiction 878\n",
    "TV Movie        10770\n",
    "Thriller        53\n",
    "War             10752\n",
    "Western         37"
   ]
  },
  {
   "cell_type": "markdown",
   "metadata": {},
   "source": [
    "We could use this to replace the genre ID's with text."
   ]
  },
  {
   "cell_type": "markdown",
   "metadata": {},
   "source": [
    "Now, we may be able to condense the number of tables while leaving appropriate opportunity for joins. We just need to start checking where records are truly pointing toward the same information, then bringing information together. For example, we can imagine for a unique movie, the following information would be useful to collect for generating visualizations: tconst(table primary key), primary_title (for display purposes), genre(s), release_year, run_time, production_studio, production_budget, domestic_gross, domestic_ROI, worldwide_gross, worldwide_ROI. We can collect the rest of the useful data in two other tables probably. Brainstorming, I would be interested in one table having columns tconst, rating, num_votes and popularity, and a second table having tconst, and then columns for each crew job type (producer, director, writer, actor, etc.) containing lists of the crew of that type for that film. Let's look at the sizes of each dataframe to see if there are ones we can join to / build off of while retaining the maximum amount of information."
   ]
  },
  {
   "cell_type": "code",
   "execution_count": 18,
   "metadata": {
    "ExecuteTime": {
     "end_time": "2021-05-01T00:02:08.376934Z",
     "start_time": "2021-05-01T00:02:08.361377Z"
    }
   },
   "outputs": [
    {
     "name": "stdout",
     "output_type": "stream",
     "text": [
      "===============New DF===============\n",
      "Title:  bom_movie_gross\n",
      "(3387, 5)\n",
      "================End DF===============\n",
      "===============New DF===============\n",
      "Title:  expanded_tmdb\n",
      "(26517, 15)\n",
      "================End DF===============\n",
      "===============New DF===============\n",
      "Title:  movie_collection\n",
      "(2373, 11)\n",
      "================End DF===============\n",
      "===============New DF===============\n",
      "Title:  name_basics\n",
      "(606648, 6)\n",
      "================End DF===============\n",
      "===============New DF===============\n",
      "Title:  title_akas\n",
      "(331703, 7)\n",
      "================End DF===============\n",
      "===============New DF===============\n",
      "Title:  title_basics\n",
      "(146144, 6)\n",
      "================End DF===============\n",
      "===============New DF===============\n",
      "Title:  title_crew\n",
      "(146144, 3)\n",
      "================End DF===============\n",
      "===============New DF===============\n",
      "Title:  title_principals\n",
      "(1028186, 5)\n",
      "================End DF===============\n",
      "===============New DF===============\n",
      "Title:  title_ratings\n",
      "(73856, 3)\n",
      "================End DF===============\n",
      "===============New DF===============\n",
      "Title:  tmdb_movies\n",
      "(26517, 9)\n",
      "================End DF===============\n",
      "===============New DF===============\n",
      "Title:  tn_movie_budgets\n",
      "(5782, 5)\n",
      "================End DF===============\n"
     ]
    }
   ],
   "source": [
    "for item in orig_dfs.items():\n",
    "        print(\"===============New DF===============\")\n",
    "        print(f'Title:  {item[0]}')\n",
    "        print(item[1].shape)\n",
    "        print(\"================End DF===============\")"
   ]
  },
  {
   "cell_type": "markdown",
   "metadata": {},
   "source": [
    "So we are seeing that we have data for many more movies than we have budget information for. Since we are trying to produce profitable movies, being able to determine indicators driving profit is necessary, unless we can become very confident that something is an effective proxy for profit such as rating or popularity. It is possible that between the tables with budgetary information, i.e. 'bom_movie_gross' and 'tn_movie_budgets' we can cover more movies than either alone, and hopefully fill out some of the other information with the other tables we have. However, we only have the budget information for those from the 'tn_movie_budgets' table, which means we can only calculate ROI's for movies from that table, unless we can find the information elsewhere OR are happy filling in values for NULLs. We can look into that but it is hard to imagine that budget can easily be predicted and its assigned value has a huge impact on ROI."
   ]
  },
  {
   "cell_type": "markdown",
   "metadata": {},
   "source": [
    "Upon doing some research, I have determined by looking at lists on the The Numbers and The Movie Database websites that the domestic, foreign, and worldwide gross numbers from each site are close enough that they can be considered the same. Additionally, the 'worldwide_gross' from the 'tn_movie_budgets' table is the same as the sum of the 'domestic' and 'foreign_gross' columns of the 'bom_movie_gross' table, so we can make an aggregate column in the Box Office Mojo table and also produce a 'foreign_gross' column for the The Numbers table. Down the line, it may be possible to scrape The Numbers or Box Office Mojo for budgetary information for more movies."
   ]
  },
  {
   "cell_type": "markdown",
   "metadata": {},
   "source": [
    "Additionally, there is a way to query TMDB using an IMDB tconst through a python module called tmdbsimple:\n",
    "\n",
    "import tmdbsimple as tmdb\n",
    "tmdb.API_KEY = '<your api key>'\n",
    "response = tmdb.Find('tt0266543').info(external_source='imdb_id')\n",
    "response\n",
    "\n",
    "{'movie_results': [{'id': 12,\n",
    "   'video': False,\n",
    "   'vote_count': 13478,\n",
    "   'vote_average': 7.8,\n",
    "   'title': 'Finding Nemo',\n",
    "   'release_date': '2003-05-30',\n",
    "   'original_language': 'en',\n",
    "   'original_title': 'Finding Nemo',\n",
    "   'genre_ids': [16, 10751],\n",
    "   'backdrop_path': '/dFYguAfeVt19qAbzJ5mArn7DEJw.jpg',\n",
    "   'adult': False,\n",
    "   'overview': \"Nemo, an adventurous young clownfish, is unexpectedly taken from his Great Barrier Reef home to a dentist's office aquarium. It's up to his worrisome father Marlin and a friendly but forgetful fish Dory to bring Nemo home -- meeting vegetarian sharks, surfer dude turtles, hypnotic jellyfish, hungry seagulls, and more along the way.\",\n",
    "   'poster_path': '/xVNSgrsvpcAHPnyKf2phYxyppNZ.jpg',\n",
    "   'popularity': 31.27}],\n",
    " 'person_results': [],\n",
    " 'tv_results': [],\n",
    " 'tv_episode_results': [],\n",
    " 'tv_season_results': []}\n",
    "    \n",
    "Or, simply using a get request you can get the above info and more, seen at https://developers.themoviedb.org/3/movies/get-movie-details. \n",
    "    \n",
    "It may be worth looking into that package or otherwise scraping the web API to get a complete dataset from one source.\n"
   ]
  },
  {
   "cell_type": "markdown",
   "metadata": {},
   "source": [
    "Anyway, let's begin by joining the two tables we have with budgetary information and see what we get. "
   ]
  },
  {
   "cell_type": "code",
   "execution_count": 19,
   "metadata": {
    "ExecuteTime": {
     "end_time": "2021-05-01T00:02:12.262865Z",
     "start_time": "2021-05-01T00:02:12.235937Z"
    }
   },
   "outputs": [
    {
     "data": {
      "text/html": [
       "<div>\n",
       "<style scoped>\n",
       "    .dataframe tbody tr th:only-of-type {\n",
       "        vertical-align: middle;\n",
       "    }\n",
       "\n",
       "    .dataframe tbody tr th {\n",
       "        vertical-align: top;\n",
       "    }\n",
       "\n",
       "    .dataframe thead th {\n",
       "        text-align: right;\n",
       "    }\n",
       "</style>\n",
       "<table border=\"1\" class=\"dataframe\">\n",
       "  <thead>\n",
       "    <tr style=\"text-align: right;\">\n",
       "      <th></th>\n",
       "      <th>release_date</th>\n",
       "      <th>movie</th>\n",
       "      <th>production_budget</th>\n",
       "      <th>domestic_gross_x</th>\n",
       "      <th>worldwide_gross</th>\n",
       "      <th>title</th>\n",
       "      <th>studio</th>\n",
       "      <th>domestic_gross_y</th>\n",
       "      <th>foreign_gross</th>\n",
       "      <th>year</th>\n",
       "    </tr>\n",
       "  </thead>\n",
       "  <tbody>\n",
       "    <tr>\n",
       "      <th>0</th>\n",
       "      <td>Jun 18, 2010</td>\n",
       "      <td>Toy Story 3</td>\n",
       "      <td>$200,000,000</td>\n",
       "      <td>$415,004,880</td>\n",
       "      <td>$1,068,879,522</td>\n",
       "      <td>Toy Story 3</td>\n",
       "      <td>BV</td>\n",
       "      <td>415000000.0</td>\n",
       "      <td>652000000</td>\n",
       "      <td>2010</td>\n",
       "    </tr>\n",
       "    <tr>\n",
       "      <th>1</th>\n",
       "      <td>NaN</td>\n",
       "      <td>NaN</td>\n",
       "      <td>NaN</td>\n",
       "      <td>NaN</td>\n",
       "      <td>NaN</td>\n",
       "      <td>Alice in Wonderland (2010)</td>\n",
       "      <td>BV</td>\n",
       "      <td>334200000.0</td>\n",
       "      <td>691300000</td>\n",
       "      <td>2010</td>\n",
       "    </tr>\n",
       "    <tr>\n",
       "      <th>2</th>\n",
       "      <td>NaN</td>\n",
       "      <td>NaN</td>\n",
       "      <td>NaN</td>\n",
       "      <td>NaN</td>\n",
       "      <td>NaN</td>\n",
       "      <td>Harry Potter and the Deathly Hallows Part 1</td>\n",
       "      <td>WB</td>\n",
       "      <td>296000000.0</td>\n",
       "      <td>664300000</td>\n",
       "      <td>2010</td>\n",
       "    </tr>\n",
       "    <tr>\n",
       "      <th>3</th>\n",
       "      <td>Jul 16, 2010</td>\n",
       "      <td>Inception</td>\n",
       "      <td>$160,000,000</td>\n",
       "      <td>$292,576,195</td>\n",
       "      <td>$835,524,642</td>\n",
       "      <td>Inception</td>\n",
       "      <td>WB</td>\n",
       "      <td>292600000.0</td>\n",
       "      <td>535700000</td>\n",
       "      <td>2010</td>\n",
       "    </tr>\n",
       "    <tr>\n",
       "      <th>4</th>\n",
       "      <td>May 21, 2010</td>\n",
       "      <td>Shrek Forever After</td>\n",
       "      <td>$165,000,000</td>\n",
       "      <td>$238,736,787</td>\n",
       "      <td>$756,244,673</td>\n",
       "      <td>Shrek Forever After</td>\n",
       "      <td>P/DW</td>\n",
       "      <td>238700000.0</td>\n",
       "      <td>513900000</td>\n",
       "      <td>2010</td>\n",
       "    </tr>\n",
       "    <tr>\n",
       "      <th>5</th>\n",
       "      <td>Jun 30, 2010</td>\n",
       "      <td>The Twilight Saga: Eclipse</td>\n",
       "      <td>$68,000,000</td>\n",
       "      <td>$300,531,751</td>\n",
       "      <td>$706,102,828</td>\n",
       "      <td>The Twilight Saga: Eclipse</td>\n",
       "      <td>Sum.</td>\n",
       "      <td>300500000.0</td>\n",
       "      <td>398000000</td>\n",
       "      <td>2010</td>\n",
       "    </tr>\n",
       "    <tr>\n",
       "      <th>6</th>\n",
       "      <td>May 7, 2010</td>\n",
       "      <td>Iron Man 2</td>\n",
       "      <td>$170,000,000</td>\n",
       "      <td>$312,433,331</td>\n",
       "      <td>$621,156,389</td>\n",
       "      <td>Iron Man 2</td>\n",
       "      <td>Par.</td>\n",
       "      <td>312400000.0</td>\n",
       "      <td>311500000</td>\n",
       "      <td>2010</td>\n",
       "    </tr>\n",
       "    <tr>\n",
       "      <th>7</th>\n",
       "      <td>Nov 24, 2010</td>\n",
       "      <td>Tangled</td>\n",
       "      <td>$260,000,000</td>\n",
       "      <td>$200,821,936</td>\n",
       "      <td>$586,477,240</td>\n",
       "      <td>Tangled</td>\n",
       "      <td>BV</td>\n",
       "      <td>200800000.0</td>\n",
       "      <td>391000000</td>\n",
       "      <td>2010</td>\n",
       "    </tr>\n",
       "    <tr>\n",
       "      <th>8</th>\n",
       "      <td>Jul 9, 2010</td>\n",
       "      <td>Despicable Me</td>\n",
       "      <td>$69,000,000</td>\n",
       "      <td>$251,513,985</td>\n",
       "      <td>$543,464,573</td>\n",
       "      <td>Despicable Me</td>\n",
       "      <td>Uni.</td>\n",
       "      <td>251500000.0</td>\n",
       "      <td>291600000</td>\n",
       "      <td>2010</td>\n",
       "    </tr>\n",
       "    <tr>\n",
       "      <th>9</th>\n",
       "      <td>Mar 26, 2010</td>\n",
       "      <td>How to Train Your Dragon</td>\n",
       "      <td>$165,000,000</td>\n",
       "      <td>$217,581,232</td>\n",
       "      <td>$494,870,992</td>\n",
       "      <td>How to Train Your Dragon</td>\n",
       "      <td>P/DW</td>\n",
       "      <td>217600000.0</td>\n",
       "      <td>277300000</td>\n",
       "      <td>2010</td>\n",
       "    </tr>\n",
       "    <tr>\n",
       "      <th>10</th>\n",
       "      <td>NaN</td>\n",
       "      <td>NaN</td>\n",
       "      <td>NaN</td>\n",
       "      <td>NaN</td>\n",
       "      <td>NaN</td>\n",
       "      <td>Clash of the Titans (2010)</td>\n",
       "      <td>WB</td>\n",
       "      <td>163200000.0</td>\n",
       "      <td>330000000</td>\n",
       "      <td>2010</td>\n",
       "    </tr>\n",
       "    <tr>\n",
       "      <th>11</th>\n",
       "      <td>Dec 10, 2010</td>\n",
       "      <td>The Chronicles of Narnia: The Voyage of the Da...</td>\n",
       "      <td>$155,000,000</td>\n",
       "      <td>$104,386,950</td>\n",
       "      <td>$418,186,950</td>\n",
       "      <td>The Chronicles of Narnia: The Voyage of the Da...</td>\n",
       "      <td>Fox</td>\n",
       "      <td>104400000.0</td>\n",
       "      <td>311300000</td>\n",
       "      <td>2010</td>\n",
       "    </tr>\n",
       "    <tr>\n",
       "      <th>12</th>\n",
       "      <td>NaN</td>\n",
       "      <td>NaN</td>\n",
       "      <td>NaN</td>\n",
       "      <td>NaN</td>\n",
       "      <td>NaN</td>\n",
       "      <td>The King's Speech</td>\n",
       "      <td>Wein.</td>\n",
       "      <td>135500000.0</td>\n",
       "      <td>275400000</td>\n",
       "      <td>2010</td>\n",
       "    </tr>\n",
       "    <tr>\n",
       "      <th>13</th>\n",
       "      <td>NaN</td>\n",
       "      <td>NaN</td>\n",
       "      <td>NaN</td>\n",
       "      <td>NaN</td>\n",
       "      <td>NaN</td>\n",
       "      <td>Tron Legacy</td>\n",
       "      <td>BV</td>\n",
       "      <td>172100000.0</td>\n",
       "      <td>228000000</td>\n",
       "      <td>2010</td>\n",
       "    </tr>\n",
       "    <tr>\n",
       "      <th>14</th>\n",
       "      <td>Jun 11, 2010</td>\n",
       "      <td>The Karate Kid</td>\n",
       "      <td>$40,000,000</td>\n",
       "      <td>$176,591,618</td>\n",
       "      <td>$351,774,938</td>\n",
       "      <td>The Karate Kid</td>\n",
       "      <td>Sony</td>\n",
       "      <td>176600000.0</td>\n",
       "      <td>182500000</td>\n",
       "      <td>2010</td>\n",
       "    </tr>\n",
       "    <tr>\n",
       "      <th>15</th>\n",
       "      <td>Jun 22, 1984</td>\n",
       "      <td>The Karate Kid</td>\n",
       "      <td>$8,000,000</td>\n",
       "      <td>$90,815,558</td>\n",
       "      <td>$90,815,558</td>\n",
       "      <td>The Karate Kid</td>\n",
       "      <td>Sony</td>\n",
       "      <td>176600000.0</td>\n",
       "      <td>182500000</td>\n",
       "      <td>2010</td>\n",
       "    </tr>\n",
       "    <tr>\n",
       "      <th>16</th>\n",
       "      <td>NaN</td>\n",
       "      <td>NaN</td>\n",
       "      <td>NaN</td>\n",
       "      <td>NaN</td>\n",
       "      <td>NaN</td>\n",
       "      <td>Prince of Persia: The Sands of Time</td>\n",
       "      <td>BV</td>\n",
       "      <td>90800000.0</td>\n",
       "      <td>245600000</td>\n",
       "      <td>2010</td>\n",
       "    </tr>\n",
       "    <tr>\n",
       "      <th>17</th>\n",
       "      <td>Dec 3, 2010</td>\n",
       "      <td>Black Swan</td>\n",
       "      <td>$13,000,000</td>\n",
       "      <td>$106,954,678</td>\n",
       "      <td>$331,266,710</td>\n",
       "      <td>Black Swan</td>\n",
       "      <td>FoxS</td>\n",
       "      <td>107000000.0</td>\n",
       "      <td>222400000</td>\n",
       "      <td>2010</td>\n",
       "    </tr>\n",
       "    <tr>\n",
       "      <th>18</th>\n",
       "      <td>Nov 5, 2010</td>\n",
       "      <td>Megamind</td>\n",
       "      <td>$130,000,000</td>\n",
       "      <td>$148,415,853</td>\n",
       "      <td>$321,887,208</td>\n",
       "      <td>Megamind</td>\n",
       "      <td>P/DW</td>\n",
       "      <td>148400000.0</td>\n",
       "      <td>173500000</td>\n",
       "      <td>2010</td>\n",
       "    </tr>\n",
       "    <tr>\n",
       "      <th>19</th>\n",
       "      <td>May 14, 2010</td>\n",
       "      <td>Robin Hood</td>\n",
       "      <td>$210,000,000</td>\n",
       "      <td>$105,487,148</td>\n",
       "      <td>$322,459,006</td>\n",
       "      <td>Robin Hood</td>\n",
       "      <td>Uni.</td>\n",
       "      <td>105300000.0</td>\n",
       "      <td>216400000</td>\n",
       "      <td>2010</td>\n",
       "    </tr>\n",
       "  </tbody>\n",
       "</table>\n",
       "</div>"
      ],
      "text/plain": [
       "    release_date                                              movie  \\\n",
       "0   Jun 18, 2010                                        Toy Story 3   \n",
       "1            NaN                                                NaN   \n",
       "2            NaN                                                NaN   \n",
       "3   Jul 16, 2010                                          Inception   \n",
       "4   May 21, 2010                                Shrek Forever After   \n",
       "5   Jun 30, 2010                         The Twilight Saga: Eclipse   \n",
       "6    May 7, 2010                                         Iron Man 2   \n",
       "7   Nov 24, 2010                                            Tangled   \n",
       "8    Jul 9, 2010                                      Despicable Me   \n",
       "9   Mar 26, 2010                           How to Train Your Dragon   \n",
       "10           NaN                                                NaN   \n",
       "11  Dec 10, 2010  The Chronicles of Narnia: The Voyage of the Da...   \n",
       "12           NaN                                                NaN   \n",
       "13           NaN                                                NaN   \n",
       "14  Jun 11, 2010                                     The Karate Kid   \n",
       "15  Jun 22, 1984                                     The Karate Kid   \n",
       "16           NaN                                                NaN   \n",
       "17   Dec 3, 2010                                         Black Swan   \n",
       "18   Nov 5, 2010                                           Megamind   \n",
       "19  May 14, 2010                                         Robin Hood   \n",
       "\n",
       "   production_budget domestic_gross_x worldwide_gross  \\\n",
       "0       $200,000,000     $415,004,880  $1,068,879,522   \n",
       "1                NaN              NaN             NaN   \n",
       "2                NaN              NaN             NaN   \n",
       "3       $160,000,000     $292,576,195    $835,524,642   \n",
       "4       $165,000,000     $238,736,787    $756,244,673   \n",
       "5        $68,000,000     $300,531,751    $706,102,828   \n",
       "6       $170,000,000     $312,433,331    $621,156,389   \n",
       "7       $260,000,000     $200,821,936    $586,477,240   \n",
       "8        $69,000,000     $251,513,985    $543,464,573   \n",
       "9       $165,000,000     $217,581,232    $494,870,992   \n",
       "10               NaN              NaN             NaN   \n",
       "11      $155,000,000     $104,386,950    $418,186,950   \n",
       "12               NaN              NaN             NaN   \n",
       "13               NaN              NaN             NaN   \n",
       "14       $40,000,000     $176,591,618    $351,774,938   \n",
       "15        $8,000,000      $90,815,558     $90,815,558   \n",
       "16               NaN              NaN             NaN   \n",
       "17       $13,000,000     $106,954,678    $331,266,710   \n",
       "18      $130,000,000     $148,415,853    $321,887,208   \n",
       "19      $210,000,000     $105,487,148    $322,459,006   \n",
       "\n",
       "                                                title studio  \\\n",
       "0                                         Toy Story 3     BV   \n",
       "1                          Alice in Wonderland (2010)     BV   \n",
       "2         Harry Potter and the Deathly Hallows Part 1     WB   \n",
       "3                                           Inception     WB   \n",
       "4                                 Shrek Forever After   P/DW   \n",
       "5                          The Twilight Saga: Eclipse   Sum.   \n",
       "6                                          Iron Man 2   Par.   \n",
       "7                                             Tangled     BV   \n",
       "8                                       Despicable Me   Uni.   \n",
       "9                            How to Train Your Dragon   P/DW   \n",
       "10                         Clash of the Titans (2010)     WB   \n",
       "11  The Chronicles of Narnia: The Voyage of the Da...    Fox   \n",
       "12                                  The King's Speech  Wein.   \n",
       "13                                        Tron Legacy     BV   \n",
       "14                                     The Karate Kid   Sony   \n",
       "15                                     The Karate Kid   Sony   \n",
       "16                Prince of Persia: The Sands of Time     BV   \n",
       "17                                         Black Swan   FoxS   \n",
       "18                                           Megamind   P/DW   \n",
       "19                                         Robin Hood   Uni.   \n",
       "\n",
       "    domestic_gross_y foreign_gross  year  \n",
       "0        415000000.0     652000000  2010  \n",
       "1        334200000.0     691300000  2010  \n",
       "2        296000000.0     664300000  2010  \n",
       "3        292600000.0     535700000  2010  \n",
       "4        238700000.0     513900000  2010  \n",
       "5        300500000.0     398000000  2010  \n",
       "6        312400000.0     311500000  2010  \n",
       "7        200800000.0     391000000  2010  \n",
       "8        251500000.0     291600000  2010  \n",
       "9        217600000.0     277300000  2010  \n",
       "10       163200000.0     330000000  2010  \n",
       "11       104400000.0     311300000  2010  \n",
       "12       135500000.0     275400000  2010  \n",
       "13       172100000.0     228000000  2010  \n",
       "14       176600000.0     182500000  2010  \n",
       "15       176600000.0     182500000  2010  \n",
       "16        90800000.0     245600000  2010  \n",
       "17       107000000.0     222400000  2010  \n",
       "18       148400000.0     173500000  2010  \n",
       "19       105300000.0     216400000  2010  "
      ]
     },
     "execution_count": 19,
     "metadata": {},
     "output_type": "execute_result"
    }
   ],
   "source": [
    "budget_merge = orig_dfs['tn_movie_budgets'].merge(orig_dfs['bom_movie_gross'],\n",
    "                                                  how='right',\n",
    "                                                  left_on='movie',\n",
    "                                                  right_on='title')\n",
    "budget_merge.head(20)"
   ]
  },
  {
   "cell_type": "code",
   "execution_count": 20,
   "metadata": {
    "ExecuteTime": {
     "end_time": "2021-05-01T00:02:12.928500Z",
     "start_time": "2021-05-01T00:02:12.924484Z"
    }
   },
   "outputs": [
    {
     "data": {
      "text/plain": [
       "(3396, 10)"
      ]
     },
     "execution_count": 20,
     "metadata": {},
     "output_type": "execute_result"
    }
   ],
   "source": [
    "budget_merge.shape"
   ]
  },
  {
   "cell_type": "markdown",
   "metadata": {},
   "source": [
    "To be honest, after looking at this stuff, it is very tempting to take the tmdb movies dataframe and use those IDs or otherwise generate a completely new and much larger dataset from TMDB. It can result in having budget information for way more movies. However, I notice that their budget estimates are quit low compared to The Numbers estimates, and seeing as both are really guesses and are user maintained / reported it is hard to know which to be more confident about. So long as we are consistent, it should be fine. I think, as opposed to replacing the entire dataset, we can use their API to get a few columns of additional information for the tmdb_movies dataframe, i.e. their imdb ID number (eg. tt######) for connecting reliably with other tables, maybe the production studio, and the listed budget and revenue for each film, since that will solve the problem of having to look at an intersection of the information collected from Box Office Mojo and The Numbers.\n",
    "\n",
    "We can do this very easily using the tmdbsimple python module I mentioned above. First, we had to create an account and request an API key for TMDB. For safekeeping, here is my API key for TMDB: 0c49f68468be72ef8df12e077b3ab923\n",
    "\n",
    "Below is an example of how to get the budget for a movie (Harry Potter: DH1) we have in our tmdb dataframe:"
   ]
  },
  {
   "cell_type": "code",
   "execution_count": 21,
   "metadata": {
    "ExecuteTime": {
     "end_time": "2021-05-01T00:02:14.170825Z",
     "start_time": "2021-05-01T00:02:14.098511Z"
    }
   },
   "outputs": [],
   "source": [
    "tmdb.API_KEY = '0c49f68468be72ef8df12e077b3ab923'\n",
    "test_movie = tmdb.Movies(12444)\n",
    "response = test_movie.info()"
   ]
  },
  {
   "cell_type": "code",
   "execution_count": 22,
   "metadata": {
    "ExecuteTime": {
     "end_time": "2021-05-01T00:02:14.863159Z",
     "start_time": "2021-05-01T00:02:14.845179Z"
    }
   },
   "outputs": [
    {
     "name": "stdout",
     "output_type": "stream",
     "text": [
      "146\n",
      "250000000\n",
      "Warner Bros. Pictures\n",
      "954305868\n",
      "7.8\n",
      "14484\n",
      "tt0926084\n"
     ]
    }
   ],
   "source": [
    "print(test_movie.runtime)\n",
    "print(test_movie.budget)\n",
    "print(test_movie.production_companies[0]['name'])\n",
    "print(test_movie.revenue)\n",
    "print(test_movie.vote_average)\n",
    "print(test_movie.vote_count)\n",
    "print(test_movie.imdb_id)"
   ]
  },
  {
   "cell_type": "markdown",
   "metadata": {},
   "source": [
    "Let's use these values to verify equivalency between this information and some in the other dataframes we already have."
   ]
  },
  {
   "cell_type": "code",
   "execution_count": 23,
   "metadata": {
    "ExecuteTime": {
     "end_time": "2021-05-01T00:02:18.668722Z",
     "start_time": "2021-05-01T00:02:18.648747Z"
    }
   },
   "outputs": [
    {
     "data": {
      "text/html": [
       "<div>\n",
       "<style scoped>\n",
       "    .dataframe tbody tr th:only-of-type {\n",
       "        vertical-align: middle;\n",
       "    }\n",
       "\n",
       "    .dataframe tbody tr th {\n",
       "        vertical-align: top;\n",
       "    }\n",
       "\n",
       "    .dataframe thead th {\n",
       "        text-align: right;\n",
       "    }\n",
       "</style>\n",
       "<table border=\"1\" class=\"dataframe\">\n",
       "  <thead>\n",
       "    <tr style=\"text-align: right;\">\n",
       "      <th></th>\n",
       "      <th>tconst</th>\n",
       "      <th>primary_title</th>\n",
       "      <th>original_title</th>\n",
       "      <th>start_year</th>\n",
       "      <th>runtime_minutes</th>\n",
       "      <th>genres</th>\n",
       "    </tr>\n",
       "  </thead>\n",
       "  <tbody>\n",
       "    <tr>\n",
       "      <th>457</th>\n",
       "      <td>tt0926084</td>\n",
       "      <td>Harry Potter and the Deathly Hallows: Part 1</td>\n",
       "      <td>Harry Potter and the Deathly Hallows: Part 1</td>\n",
       "      <td>2010</td>\n",
       "      <td>146.0</td>\n",
       "      <td>Adventure,Fantasy,Mystery</td>\n",
       "    </tr>\n",
       "  </tbody>\n",
       "</table>\n",
       "</div>"
      ],
      "text/plain": [
       "        tconst                                 primary_title  \\\n",
       "457  tt0926084  Harry Potter and the Deathly Hallows: Part 1   \n",
       "\n",
       "                                   original_title  start_year  \\\n",
       "457  Harry Potter and the Deathly Hallows: Part 1        2010   \n",
       "\n",
       "     runtime_minutes                     genres  \n",
       "457            146.0  Adventure,Fantasy,Mystery  "
      ]
     },
     "execution_count": 23,
     "metadata": {},
     "output_type": "execute_result"
    }
   ],
   "source": [
    "orig_dfs['title_basics'].loc[orig_dfs['title_basics']['tconst'] == 'tt0926084']"
   ]
  },
  {
   "cell_type": "code",
   "execution_count": 24,
   "metadata": {
    "ExecuteTime": {
     "end_time": "2021-05-01T00:02:21.552002Z",
     "start_time": "2021-05-01T00:02:21.535017Z"
    }
   },
   "outputs": [
    {
     "data": {
      "text/html": [
       "<div>\n",
       "<style scoped>\n",
       "    .dataframe tbody tr th:only-of-type {\n",
       "        vertical-align: middle;\n",
       "    }\n",
       "\n",
       "    .dataframe tbody tr th {\n",
       "        vertical-align: top;\n",
       "    }\n",
       "\n",
       "    .dataframe thead th {\n",
       "        text-align: right;\n",
       "    }\n",
       "</style>\n",
       "<table border=\"1\" class=\"dataframe\">\n",
       "  <thead>\n",
       "    <tr style=\"text-align: right;\">\n",
       "      <th></th>\n",
       "      <th>tconst</th>\n",
       "      <th>averagerating</th>\n",
       "      <th>numvotes</th>\n",
       "    </tr>\n",
       "  </thead>\n",
       "  <tbody>\n",
       "    <tr>\n",
       "      <th>65053</th>\n",
       "      <td>tt0926084</td>\n",
       "      <td>7.7</td>\n",
       "      <td>425530</td>\n",
       "    </tr>\n",
       "  </tbody>\n",
       "</table>\n",
       "</div>"
      ],
      "text/plain": [
       "          tconst  averagerating  numvotes\n",
       "65053  tt0926084            7.7    425530"
      ]
     },
     "execution_count": 24,
     "metadata": {},
     "output_type": "execute_result"
    }
   ],
   "source": [
    "orig_dfs['title_ratings'].loc[orig_dfs['title_ratings']['tconst'] == 'tt0926084']"
   ]
  },
  {
   "cell_type": "code",
   "execution_count": 25,
   "metadata": {
    "ExecuteTime": {
     "end_time": "2021-05-01T00:02:22.156375Z",
     "start_time": "2021-05-01T00:02:22.150406Z"
    }
   },
   "outputs": [
    {
     "data": {
      "text/html": [
       "<div>\n",
       "<style scoped>\n",
       "    .dataframe tbody tr th:only-of-type {\n",
       "        vertical-align: middle;\n",
       "    }\n",
       "\n",
       "    .dataframe tbody tr th {\n",
       "        vertical-align: top;\n",
       "    }\n",
       "\n",
       "    .dataframe thead th {\n",
       "        text-align: right;\n",
       "    }\n",
       "</style>\n",
       "<table border=\"1\" class=\"dataframe\">\n",
       "  <thead>\n",
       "    <tr style=\"text-align: right;\">\n",
       "      <th></th>\n",
       "      <th>release_date</th>\n",
       "      <th>movie</th>\n",
       "      <th>production_budget</th>\n",
       "      <th>domestic_gross</th>\n",
       "      <th>worldwide_gross</th>\n",
       "    </tr>\n",
       "  </thead>\n",
       "  <tbody>\n",
       "  </tbody>\n",
       "</table>\n",
       "</div>"
      ],
      "text/plain": [
       "Empty DataFrame\n",
       "Columns: [release_date, movie, production_budget, domestic_gross, worldwide_gross]\n",
       "Index: []"
      ]
     },
     "execution_count": 25,
     "metadata": {},
     "output_type": "execute_result"
    }
   ],
   "source": [
    "orig_dfs['tn_movie_budgets'].loc[orig_dfs['tn_movie_budgets']['movie'] == 'Harry Potter and the Deathly Hallows: Part 1']"
   ]
  },
  {
   "cell_type": "code",
   "execution_count": 26,
   "metadata": {
    "ExecuteTime": {
     "end_time": "2021-05-01T00:02:22.666149Z",
     "start_time": "2021-05-01T00:02:22.651211Z"
    }
   },
   "outputs": [
    {
     "data": {
      "text/html": [
       "<div>\n",
       "<style scoped>\n",
       "    .dataframe tbody tr th:only-of-type {\n",
       "        vertical-align: middle;\n",
       "    }\n",
       "\n",
       "    .dataframe tbody tr th {\n",
       "        vertical-align: top;\n",
       "    }\n",
       "\n",
       "    .dataframe thead th {\n",
       "        text-align: right;\n",
       "    }\n",
       "</style>\n",
       "<table border=\"1\" class=\"dataframe\">\n",
       "  <thead>\n",
       "    <tr style=\"text-align: right;\">\n",
       "      <th></th>\n",
       "      <th>title</th>\n",
       "      <th>studio</th>\n",
       "      <th>domestic_gross</th>\n",
       "      <th>foreign_gross</th>\n",
       "      <th>year</th>\n",
       "    </tr>\n",
       "  </thead>\n",
       "  <tbody>\n",
       "    <tr>\n",
       "      <th>2</th>\n",
       "      <td>Harry Potter and the Deathly Hallows Part 1</td>\n",
       "      <td>WB</td>\n",
       "      <td>296000000.0</td>\n",
       "      <td>664300000</td>\n",
       "      <td>2010</td>\n",
       "    </tr>\n",
       "  </tbody>\n",
       "</table>\n",
       "</div>"
      ],
      "text/plain": [
       "                                         title studio  domestic_gross  \\\n",
       "2  Harry Potter and the Deathly Hallows Part 1     WB     296000000.0   \n",
       "\n",
       "  foreign_gross  year  \n",
       "2     664300000  2010  "
      ]
     },
     "execution_count": 26,
     "metadata": {},
     "output_type": "execute_result"
    }
   ],
   "source": [
    "orig_dfs['bom_movie_gross'].loc[orig_dfs['bom_movie_gross']['title'] == 'Harry Potter and the Deathly Hallows Part 1']"
   ]
  },
  {
   "cell_type": "markdown",
   "metadata": {},
   "source": [
    "Okay, we are seeing conformance in some and not in others, by looking at these records and also manually comparing some values on the actual websites. Notice that grabbing the imdb id allows us to easily connect to other tables as it is indeed the same as tconst, as expected. Likewise, while not exactly equal, TMDB's revenue info seems to be the same as worldwide_gross in tn_movie_budgets (and the same as domestic plus foreign gross in bom_movie_gross, were the record to exist). The production studio appears to be the same, however TMDB will return a list of companies that the name needs to be grabbed from (it may work to just grab the first company in the list if there is more than one as in the example above). Finally, we previously recognize that estimated budgets from TMDB are lower, sometimes much lower than the estimates from The Numbers. However, it is probably better to consistently use values from TMDB than to fill in missing values when joining the other two tables with financial information and limiting the size of available data significantly. On the other hand, we note that, compared to the genres from IMDB, the ones from TMDB aren't necessarily the same, though they may include common values. It may be worth it to compare the two columns and keep like genres as it is most likely those are the primary genre categories and are common between the two sets. Next, we can recognize that each site (IMDB vs TMDB) have separate rating systems, with incongruencies in the number of votes and the average rating, though in this case the ratings are very close. It may work to choose the rating with the most votes at some point."
   ]
  },
  {
   "cell_type": "markdown",
   "metadata": {},
   "source": [
    "Well, now that we can easily access all this information, lets write a function to aaply to our tmdb_movies dataframe and add columns with all the desirable information."
   ]
  },
  {
   "cell_type": "code",
   "execution_count": 27,
   "metadata": {
    "ExecuteTime": {
     "end_time": "2021-05-01T00:02:25.363105Z",
     "start_time": "2021-05-01T00:02:25.355105Z"
    }
   },
   "outputs": [
    {
     "data": {
      "text/html": [
       "<div>\n",
       "<style scoped>\n",
       "    .dataframe tbody tr th:only-of-type {\n",
       "        vertical-align: middle;\n",
       "    }\n",
       "\n",
       "    .dataframe tbody tr th {\n",
       "        vertical-align: top;\n",
       "    }\n",
       "\n",
       "    .dataframe thead th {\n",
       "        text-align: right;\n",
       "    }\n",
       "</style>\n",
       "<table border=\"1\" class=\"dataframe\">\n",
       "  <thead>\n",
       "    <tr style=\"text-align: right;\">\n",
       "      <th></th>\n",
       "      <th>genre_ids</th>\n",
       "      <th>id</th>\n",
       "      <th>original_language</th>\n",
       "      <th>original_title</th>\n",
       "      <th>popularity</th>\n",
       "      <th>release_date</th>\n",
       "      <th>title</th>\n",
       "      <th>vote_average</th>\n",
       "      <th>vote_count</th>\n",
       "    </tr>\n",
       "  </thead>\n",
       "  <tbody>\n",
       "    <tr>\n",
       "      <th>0</th>\n",
       "      <td>[12, 14, 10751]</td>\n",
       "      <td>12444</td>\n",
       "      <td>en</td>\n",
       "      <td>Harry Potter and the Deathly Hallows: Part 1</td>\n",
       "      <td>33.533</td>\n",
       "      <td>2010-11-19</td>\n",
       "      <td>Harry Potter and the Deathly Hallows: Part 1</td>\n",
       "      <td>7.7</td>\n",
       "      <td>10788</td>\n",
       "    </tr>\n",
       "    <tr>\n",
       "      <th>1</th>\n",
       "      <td>[14, 12, 16, 10751]</td>\n",
       "      <td>10191</td>\n",
       "      <td>en</td>\n",
       "      <td>How to Train Your Dragon</td>\n",
       "      <td>28.734</td>\n",
       "      <td>2010-03-26</td>\n",
       "      <td>How to Train Your Dragon</td>\n",
       "      <td>7.7</td>\n",
       "      <td>7610</td>\n",
       "    </tr>\n",
       "    <tr>\n",
       "      <th>2</th>\n",
       "      <td>[12, 28, 878]</td>\n",
       "      <td>10138</td>\n",
       "      <td>en</td>\n",
       "      <td>Iron Man 2</td>\n",
       "      <td>28.515</td>\n",
       "      <td>2010-05-07</td>\n",
       "      <td>Iron Man 2</td>\n",
       "      <td>6.8</td>\n",
       "      <td>12368</td>\n",
       "    </tr>\n",
       "    <tr>\n",
       "      <th>3</th>\n",
       "      <td>[16, 35, 10751]</td>\n",
       "      <td>862</td>\n",
       "      <td>en</td>\n",
       "      <td>Toy Story</td>\n",
       "      <td>28.005</td>\n",
       "      <td>1995-11-22</td>\n",
       "      <td>Toy Story</td>\n",
       "      <td>7.9</td>\n",
       "      <td>10174</td>\n",
       "    </tr>\n",
       "    <tr>\n",
       "      <th>4</th>\n",
       "      <td>[28, 878, 12]</td>\n",
       "      <td>27205</td>\n",
       "      <td>en</td>\n",
       "      <td>Inception</td>\n",
       "      <td>27.920</td>\n",
       "      <td>2010-07-16</td>\n",
       "      <td>Inception</td>\n",
       "      <td>8.3</td>\n",
       "      <td>22186</td>\n",
       "    </tr>\n",
       "  </tbody>\n",
       "</table>\n",
       "</div>"
      ],
      "text/plain": [
       "             genre_ids     id original_language  \\\n",
       "0      [12, 14, 10751]  12444                en   \n",
       "1  [14, 12, 16, 10751]  10191                en   \n",
       "2        [12, 28, 878]  10138                en   \n",
       "3      [16, 35, 10751]    862                en   \n",
       "4        [28, 878, 12]  27205                en   \n",
       "\n",
       "                                 original_title  popularity release_date  \\\n",
       "0  Harry Potter and the Deathly Hallows: Part 1      33.533   2010-11-19   \n",
       "1                      How to Train Your Dragon      28.734   2010-03-26   \n",
       "2                                    Iron Man 2      28.515   2010-05-07   \n",
       "3                                     Toy Story      28.005   1995-11-22   \n",
       "4                                     Inception      27.920   2010-07-16   \n",
       "\n",
       "                                          title  vote_average  vote_count  \n",
       "0  Harry Potter and the Deathly Hallows: Part 1           7.7       10788  \n",
       "1                      How to Train Your Dragon           7.7        7610  \n",
       "2                                    Iron Man 2           6.8       12368  \n",
       "3                                     Toy Story           7.9       10174  \n",
       "4                                     Inception           8.3       22186  "
      ]
     },
     "execution_count": 27,
     "metadata": {},
     "output_type": "execute_result"
    }
   ],
   "source": [
    "orig_dfs['tmdb_movies'].head()"
   ]
  },
  {
   "cell_type": "code",
   "execution_count": 28,
   "metadata": {
    "ExecuteTime": {
     "end_time": "2021-05-01T00:02:31.176217Z",
     "start_time": "2021-05-01T00:02:31.169784Z"
    }
   },
   "outputs": [],
   "source": [
    "def grab_data_tmdb(row):\n",
    "    movie_id = row['id']\n",
    "    row_list = []\n",
    "    try:\n",
    "        movie_info = tmdb.Movies(movie_id).info()\n",
    "    except:\n",
    "        print('Missing or changed Movie ID')\n",
    "        row_list = [np.nan] * 6\n",
    "    else:\n",
    "        row_list.extend( [ movie_info['runtime'],\n",
    "                          movie_info['budget'],\n",
    "                          movie_info['revenue'],\n",
    "                          movie_info['imdb_id'] ] )\n",
    "        if movie_info['title'] != row['original_title'] and movie_info['title'] != row['title']:\n",
    "            print('Non-matching Movie Titles')\n",
    "            row_list.append(1)\n",
    "        else:\n",
    "            row_list.append(0)\n",
    "        production_raw = movie_info['production_companies']\n",
    "        company_names = []\n",
    "        for company in production_raw:\n",
    "            company_names.append(company['name'])\n",
    "        row_list.append(company_names)\n",
    "    finally:\n",
    "        return row.append(pd.Series(row_list, index = ['runtime','budget_est','revenue','imdb_id','req_title','production_companies']))"
   ]
  },
  {
   "cell_type": "code",
   "execution_count": 29,
   "metadata": {
    "ExecuteTime": {
     "end_time": "2021-05-01T00:02:33.561116Z",
     "start_time": "2021-05-01T00:02:33.549609Z"
    }
   },
   "outputs": [],
   "source": [
    "# expanded_tmdb = orig_dfs['tmdb_movies'].apply(grab_data_tmdb,axis = 1)"
   ]
  },
  {
   "cell_type": "code",
   "execution_count": 31,
   "metadata": {
    "ExecuteTime": {
     "end_time": "2021-05-01T00:03:41.514073Z",
     "start_time": "2021-05-01T00:03:41.497616Z"
    }
   },
   "outputs": [],
   "source": [
    "# expanded_tmdb.head()"
   ]
  },
  {
   "cell_type": "markdown",
   "metadata": {},
   "source": [
    "Nice! Seems to have worked. Above, there was some output indicating missing or potentially changed movie IDs, so we will have to look into that. We will also have to see how many films didn't have data for the columns we hoped to retrieve. However, since it took an hour to collect the extra data via API requests, lets save the expanded dataframe as a new csv for future retrieval."
   ]
  },
  {
   "cell_type": "code",
   "execution_count": 32,
   "metadata": {
    "ExecuteTime": {
     "end_time": "2021-05-01T00:03:42.942866Z",
     "start_time": "2021-05-01T00:03:42.937374Z"
    }
   },
   "outputs": [],
   "source": [
    "# expanded_tmdb.to_csv('./dataFiles/expanded_tmdb.csv',index=False)"
   ]
  },
  {
   "cell_type": "code",
   "execution_count": 33,
   "metadata": {
    "ExecuteTime": {
     "end_time": "2021-05-01T00:03:44.759701Z",
     "start_time": "2021-05-01T00:03:44.684373Z"
    }
   },
   "outputs": [],
   "source": [
    "expanded_tmdb = pd.read_csv('./dataFiles/expanded_tmdb.csv')"
   ]
  },
  {
   "cell_type": "code",
   "execution_count": 34,
   "metadata": {
    "ExecuteTime": {
     "end_time": "2021-05-01T00:03:45.519700Z",
     "start_time": "2021-05-01T00:03:45.503237Z"
    }
   },
   "outputs": [
    {
     "data": {
      "text/html": [
       "<div>\n",
       "<style scoped>\n",
       "    .dataframe tbody tr th:only-of-type {\n",
       "        vertical-align: middle;\n",
       "    }\n",
       "\n",
       "    .dataframe tbody tr th {\n",
       "        vertical-align: top;\n",
       "    }\n",
       "\n",
       "    .dataframe thead th {\n",
       "        text-align: right;\n",
       "    }\n",
       "</style>\n",
       "<table border=\"1\" class=\"dataframe\">\n",
       "  <thead>\n",
       "    <tr style=\"text-align: right;\">\n",
       "      <th></th>\n",
       "      <th>genre_ids</th>\n",
       "      <th>id</th>\n",
       "      <th>original_language</th>\n",
       "      <th>original_title</th>\n",
       "      <th>popularity</th>\n",
       "      <th>release_date</th>\n",
       "      <th>title</th>\n",
       "      <th>vote_average</th>\n",
       "      <th>vote_count</th>\n",
       "      <th>runtime</th>\n",
       "      <th>budget_est</th>\n",
       "      <th>revenue</th>\n",
       "      <th>imdb_id</th>\n",
       "      <th>req_title</th>\n",
       "      <th>production_companies</th>\n",
       "    </tr>\n",
       "  </thead>\n",
       "  <tbody>\n",
       "    <tr>\n",
       "      <th>0</th>\n",
       "      <td>[12, 14, 10751]</td>\n",
       "      <td>12444</td>\n",
       "      <td>en</td>\n",
       "      <td>Harry Potter and the Deathly Hallows: Part 1</td>\n",
       "      <td>33.533</td>\n",
       "      <td>2010-11-19</td>\n",
       "      <td>Harry Potter and the Deathly Hallows: Part 1</td>\n",
       "      <td>7.7</td>\n",
       "      <td>10788</td>\n",
       "      <td>146.0</td>\n",
       "      <td>250000000.0</td>\n",
       "      <td>954305868.0</td>\n",
       "      <td>tt0926084</td>\n",
       "      <td>0.0</td>\n",
       "      <td>['Warner Bros. Pictures', 'Heyday Films']</td>\n",
       "    </tr>\n",
       "    <tr>\n",
       "      <th>1</th>\n",
       "      <td>[14, 12, 16, 10751]</td>\n",
       "      <td>10191</td>\n",
       "      <td>en</td>\n",
       "      <td>How to Train Your Dragon</td>\n",
       "      <td>28.734</td>\n",
       "      <td>2010-03-26</td>\n",
       "      <td>How to Train Your Dragon</td>\n",
       "      <td>7.7</td>\n",
       "      <td>7610</td>\n",
       "      <td>98.0</td>\n",
       "      <td>165000000.0</td>\n",
       "      <td>494878759.0</td>\n",
       "      <td>tt0892769</td>\n",
       "      <td>0.0</td>\n",
       "      <td>['DreamWorks Animation']</td>\n",
       "    </tr>\n",
       "    <tr>\n",
       "      <th>2</th>\n",
       "      <td>[12, 28, 878]</td>\n",
       "      <td>10138</td>\n",
       "      <td>en</td>\n",
       "      <td>Iron Man 2</td>\n",
       "      <td>28.515</td>\n",
       "      <td>2010-05-07</td>\n",
       "      <td>Iron Man 2</td>\n",
       "      <td>6.8</td>\n",
       "      <td>12368</td>\n",
       "      <td>124.0</td>\n",
       "      <td>200000000.0</td>\n",
       "      <td>623933331.0</td>\n",
       "      <td>tt1228705</td>\n",
       "      <td>0.0</td>\n",
       "      <td>['Marvel Studios', 'Paramount', 'Marvel Entert...</td>\n",
       "    </tr>\n",
       "    <tr>\n",
       "      <th>3</th>\n",
       "      <td>[16, 35, 10751]</td>\n",
       "      <td>862</td>\n",
       "      <td>en</td>\n",
       "      <td>Toy Story</td>\n",
       "      <td>28.005</td>\n",
       "      <td>1995-11-22</td>\n",
       "      <td>Toy Story</td>\n",
       "      <td>7.9</td>\n",
       "      <td>10174</td>\n",
       "      <td>81.0</td>\n",
       "      <td>30000000.0</td>\n",
       "      <td>373554033.0</td>\n",
       "      <td>tt0114709</td>\n",
       "      <td>0.0</td>\n",
       "      <td>['Pixar']</td>\n",
       "    </tr>\n",
       "    <tr>\n",
       "      <th>4</th>\n",
       "      <td>[28, 878, 12]</td>\n",
       "      <td>27205</td>\n",
       "      <td>en</td>\n",
       "      <td>Inception</td>\n",
       "      <td>27.920</td>\n",
       "      <td>2010-07-16</td>\n",
       "      <td>Inception</td>\n",
       "      <td>8.3</td>\n",
       "      <td>22186</td>\n",
       "      <td>148.0</td>\n",
       "      <td>160000000.0</td>\n",
       "      <td>825532764.0</td>\n",
       "      <td>tt1375666</td>\n",
       "      <td>0.0</td>\n",
       "      <td>['Legendary Pictures', 'Syncopy', 'Warner Bros...</td>\n",
       "    </tr>\n",
       "  </tbody>\n",
       "</table>\n",
       "</div>"
      ],
      "text/plain": [
       "             genre_ids     id original_language  \\\n",
       "0      [12, 14, 10751]  12444                en   \n",
       "1  [14, 12, 16, 10751]  10191                en   \n",
       "2        [12, 28, 878]  10138                en   \n",
       "3      [16, 35, 10751]    862                en   \n",
       "4        [28, 878, 12]  27205                en   \n",
       "\n",
       "                                 original_title  popularity release_date  \\\n",
       "0  Harry Potter and the Deathly Hallows: Part 1      33.533   2010-11-19   \n",
       "1                      How to Train Your Dragon      28.734   2010-03-26   \n",
       "2                                    Iron Man 2      28.515   2010-05-07   \n",
       "3                                     Toy Story      28.005   1995-11-22   \n",
       "4                                     Inception      27.920   2010-07-16   \n",
       "\n",
       "                                          title  vote_average  vote_count  \\\n",
       "0  Harry Potter and the Deathly Hallows: Part 1           7.7       10788   \n",
       "1                      How to Train Your Dragon           7.7        7610   \n",
       "2                                    Iron Man 2           6.8       12368   \n",
       "3                                     Toy Story           7.9       10174   \n",
       "4                                     Inception           8.3       22186   \n",
       "\n",
       "   runtime   budget_est      revenue    imdb_id  req_title  \\\n",
       "0    146.0  250000000.0  954305868.0  tt0926084        0.0   \n",
       "1     98.0  165000000.0  494878759.0  tt0892769        0.0   \n",
       "2    124.0  200000000.0  623933331.0  tt1228705        0.0   \n",
       "3     81.0   30000000.0  373554033.0  tt0114709        0.0   \n",
       "4    148.0  160000000.0  825532764.0  tt1375666        0.0   \n",
       "\n",
       "                                production_companies  \n",
       "0          ['Warner Bros. Pictures', 'Heyday Films']  \n",
       "1                           ['DreamWorks Animation']  \n",
       "2  ['Marvel Studios', 'Paramount', 'Marvel Entert...  \n",
       "3                                          ['Pixar']  \n",
       "4  ['Legendary Pictures', 'Syncopy', 'Warner Bros...  "
      ]
     },
     "execution_count": 34,
     "metadata": {},
     "output_type": "execute_result"
    }
   ],
   "source": [
    "expanded_tmdb.head()"
   ]
  },
  {
   "cell_type": "markdown",
   "metadata": {},
   "source": [
    "Now, let's see if we actually got any extra data. Since our budgetary information is most important, let's see how much of the original dataframe we were able to find this extra information for:"
   ]
  },
  {
   "cell_type": "code",
   "execution_count": 35,
   "metadata": {
    "ExecuteTime": {
     "end_time": "2021-05-01T00:03:48.448251Z",
     "start_time": "2021-05-01T00:03:48.428752Z"
    }
   },
   "outputs": [],
   "source": [
    "cleaned_tmdb = expanded_tmdb.loc[(expanded_tmdb['budget_est'] != 0) &\n",
    "                                        (expanded_tmdb['revenue'] != 0) &\n",
    "                                        (expanded_tmdb['req_title'] != 1)]"
   ]
  },
  {
   "cell_type": "code",
   "execution_count": 36,
   "metadata": {
    "ExecuteTime": {
     "end_time": "2021-05-01T00:03:49.003061Z",
     "start_time": "2021-05-01T00:03:48.987108Z"
    }
   },
   "outputs": [
    {
     "data": {
      "text/plain": [
       "(2348, 16)"
      ]
     },
     "execution_count": 36,
     "metadata": {},
     "output_type": "execute_result"
    }
   ],
   "source": [
    "cleaned_tmdb = cleaned_tmdb.dropna(axis = 0)\n",
    "cleaned_tmdb = cleaned_tmdb.reset_index()\n",
    "cleaned_tmdb.shape"
   ]
  },
  {
   "cell_type": "markdown",
   "metadata": {},
   "source": [
    "Okay.. not great. So, out of roughly 27000 movies, we were able to collect budget and revenue data for just under 10% of the records. Note: we also required that the title from the request response was the same as either the original_title or title column value from the original dataframe. This is to account for movie IDs that have been changed in the database since the original data file was retrieved, which is stated as possible in their API documentation. If we wanted to do extra work to check responses where the title did not match either, i.e. req_title = 1 in the expanded dataframe, we could potentially have an additional 450 records with financial information. At this time, it does not seem worth expending the effort, as anything up to date probably contains the most popular and highest grossing films as is. So, in a roundabout way, all we have done is to reduce the tmdb_movies dataframe to a smaller size but with extra useful information, including (hopefully, if TMDB has properly sourced and updated this information) the ability to easily make connections to the imdb tables using tconst. Let's clean this table a little bit further below."
   ]
  },
  {
   "cell_type": "code",
   "execution_count": 37,
   "metadata": {
    "ExecuteTime": {
     "end_time": "2021-05-01T00:03:50.694914Z",
     "start_time": "2021-05-01T00:03:50.679374Z"
    }
   },
   "outputs": [],
   "source": [
    "cleaned_tmdb = cleaned_tmdb.drop(columns = ['index','req_title'])"
   ]
  },
  {
   "cell_type": "code",
   "execution_count": 38,
   "metadata": {
    "ExecuteTime": {
     "end_time": "2021-05-01T00:03:51.467773Z",
     "start_time": "2021-05-01T00:03:51.449815Z"
    }
   },
   "outputs": [],
   "source": [
    "cleaned_tmdb = cleaned_tmdb.rename(columns = {'id': 'tmdb_id'})"
   ]
  },
  {
   "cell_type": "markdown",
   "metadata": {},
   "source": [
    "Since our dream of a big dataset all from TMDB more or less failed without going further, we will get back to combining the tables we have with that information. As a reminder, lets .head() them here for quick reference."
   ]
  },
  {
   "cell_type": "code",
   "execution_count": 39,
   "metadata": {
    "ExecuteTime": {
     "end_time": "2021-05-01T00:03:53.422980Z",
     "start_time": "2021-05-01T00:03:53.408607Z"
    }
   },
   "outputs": [
    {
     "data": {
      "text/html": [
       "<div>\n",
       "<style scoped>\n",
       "    .dataframe tbody tr th:only-of-type {\n",
       "        vertical-align: middle;\n",
       "    }\n",
       "\n",
       "    .dataframe tbody tr th {\n",
       "        vertical-align: top;\n",
       "    }\n",
       "\n",
       "    .dataframe thead th {\n",
       "        text-align: right;\n",
       "    }\n",
       "</style>\n",
       "<table border=\"1\" class=\"dataframe\">\n",
       "  <thead>\n",
       "    <tr style=\"text-align: right;\">\n",
       "      <th></th>\n",
       "      <th>genre_ids</th>\n",
       "      <th>tmdb_id</th>\n",
       "      <th>original_language</th>\n",
       "      <th>original_title</th>\n",
       "      <th>popularity</th>\n",
       "      <th>release_date</th>\n",
       "      <th>title</th>\n",
       "      <th>vote_average</th>\n",
       "      <th>vote_count</th>\n",
       "      <th>runtime</th>\n",
       "      <th>budget_est</th>\n",
       "      <th>revenue</th>\n",
       "      <th>imdb_id</th>\n",
       "      <th>production_companies</th>\n",
       "    </tr>\n",
       "  </thead>\n",
       "  <tbody>\n",
       "    <tr>\n",
       "      <th>0</th>\n",
       "      <td>[12, 14, 10751]</td>\n",
       "      <td>12444</td>\n",
       "      <td>en</td>\n",
       "      <td>Harry Potter and the Deathly Hallows: Part 1</td>\n",
       "      <td>33.533</td>\n",
       "      <td>2010-11-19</td>\n",
       "      <td>Harry Potter and the Deathly Hallows: Part 1</td>\n",
       "      <td>7.7</td>\n",
       "      <td>10788</td>\n",
       "      <td>146.0</td>\n",
       "      <td>250000000.0</td>\n",
       "      <td>954305868.0</td>\n",
       "      <td>tt0926084</td>\n",
       "      <td>['Warner Bros. Pictures', 'Heyday Films']</td>\n",
       "    </tr>\n",
       "    <tr>\n",
       "      <th>1</th>\n",
       "      <td>[14, 12, 16, 10751]</td>\n",
       "      <td>10191</td>\n",
       "      <td>en</td>\n",
       "      <td>How to Train Your Dragon</td>\n",
       "      <td>28.734</td>\n",
       "      <td>2010-03-26</td>\n",
       "      <td>How to Train Your Dragon</td>\n",
       "      <td>7.7</td>\n",
       "      <td>7610</td>\n",
       "      <td>98.0</td>\n",
       "      <td>165000000.0</td>\n",
       "      <td>494878759.0</td>\n",
       "      <td>tt0892769</td>\n",
       "      <td>['DreamWorks Animation']</td>\n",
       "    </tr>\n",
       "    <tr>\n",
       "      <th>2</th>\n",
       "      <td>[12, 28, 878]</td>\n",
       "      <td>10138</td>\n",
       "      <td>en</td>\n",
       "      <td>Iron Man 2</td>\n",
       "      <td>28.515</td>\n",
       "      <td>2010-05-07</td>\n",
       "      <td>Iron Man 2</td>\n",
       "      <td>6.8</td>\n",
       "      <td>12368</td>\n",
       "      <td>124.0</td>\n",
       "      <td>200000000.0</td>\n",
       "      <td>623933331.0</td>\n",
       "      <td>tt1228705</td>\n",
       "      <td>['Marvel Studios', 'Paramount', 'Marvel Entert...</td>\n",
       "    </tr>\n",
       "    <tr>\n",
       "      <th>3</th>\n",
       "      <td>[16, 35, 10751]</td>\n",
       "      <td>862</td>\n",
       "      <td>en</td>\n",
       "      <td>Toy Story</td>\n",
       "      <td>28.005</td>\n",
       "      <td>1995-11-22</td>\n",
       "      <td>Toy Story</td>\n",
       "      <td>7.9</td>\n",
       "      <td>10174</td>\n",
       "      <td>81.0</td>\n",
       "      <td>30000000.0</td>\n",
       "      <td>373554033.0</td>\n",
       "      <td>tt0114709</td>\n",
       "      <td>['Pixar']</td>\n",
       "    </tr>\n",
       "    <tr>\n",
       "      <th>4</th>\n",
       "      <td>[28, 878, 12]</td>\n",
       "      <td>27205</td>\n",
       "      <td>en</td>\n",
       "      <td>Inception</td>\n",
       "      <td>27.920</td>\n",
       "      <td>2010-07-16</td>\n",
       "      <td>Inception</td>\n",
       "      <td>8.3</td>\n",
       "      <td>22186</td>\n",
       "      <td>148.0</td>\n",
       "      <td>160000000.0</td>\n",
       "      <td>825532764.0</td>\n",
       "      <td>tt1375666</td>\n",
       "      <td>['Legendary Pictures', 'Syncopy', 'Warner Bros...</td>\n",
       "    </tr>\n",
       "  </tbody>\n",
       "</table>\n",
       "</div>"
      ],
      "text/plain": [
       "             genre_ids  tmdb_id original_language  \\\n",
       "0      [12, 14, 10751]    12444                en   \n",
       "1  [14, 12, 16, 10751]    10191                en   \n",
       "2        [12, 28, 878]    10138                en   \n",
       "3      [16, 35, 10751]      862                en   \n",
       "4        [28, 878, 12]    27205                en   \n",
       "\n",
       "                                 original_title  popularity release_date  \\\n",
       "0  Harry Potter and the Deathly Hallows: Part 1      33.533   2010-11-19   \n",
       "1                      How to Train Your Dragon      28.734   2010-03-26   \n",
       "2                                    Iron Man 2      28.515   2010-05-07   \n",
       "3                                     Toy Story      28.005   1995-11-22   \n",
       "4                                     Inception      27.920   2010-07-16   \n",
       "\n",
       "                                          title  vote_average  vote_count  \\\n",
       "0  Harry Potter and the Deathly Hallows: Part 1           7.7       10788   \n",
       "1                      How to Train Your Dragon           7.7        7610   \n",
       "2                                    Iron Man 2           6.8       12368   \n",
       "3                                     Toy Story           7.9       10174   \n",
       "4                                     Inception           8.3       22186   \n",
       "\n",
       "   runtime   budget_est      revenue    imdb_id  \\\n",
       "0    146.0  250000000.0  954305868.0  tt0926084   \n",
       "1     98.0  165000000.0  494878759.0  tt0892769   \n",
       "2    124.0  200000000.0  623933331.0  tt1228705   \n",
       "3     81.0   30000000.0  373554033.0  tt0114709   \n",
       "4    148.0  160000000.0  825532764.0  tt1375666   \n",
       "\n",
       "                                production_companies  \n",
       "0          ['Warner Bros. Pictures', 'Heyday Films']  \n",
       "1                           ['DreamWorks Animation']  \n",
       "2  ['Marvel Studios', 'Paramount', 'Marvel Entert...  \n",
       "3                                          ['Pixar']  \n",
       "4  ['Legendary Pictures', 'Syncopy', 'Warner Bros...  "
      ]
     },
     "execution_count": 39,
     "metadata": {},
     "output_type": "execute_result"
    }
   ],
   "source": [
    "cleaned_tmdb.head()"
   ]
  },
  {
   "cell_type": "code",
   "execution_count": 40,
   "metadata": {
    "ExecuteTime": {
     "end_time": "2021-05-01T00:03:54.104603Z",
     "start_time": "2021-05-01T00:03:54.092069Z"
    }
   },
   "outputs": [
    {
     "data": {
      "text/html": [
       "<div>\n",
       "<style scoped>\n",
       "    .dataframe tbody tr th:only-of-type {\n",
       "        vertical-align: middle;\n",
       "    }\n",
       "\n",
       "    .dataframe tbody tr th {\n",
       "        vertical-align: top;\n",
       "    }\n",
       "\n",
       "    .dataframe thead th {\n",
       "        text-align: right;\n",
       "    }\n",
       "</style>\n",
       "<table border=\"1\" class=\"dataframe\">\n",
       "  <thead>\n",
       "    <tr style=\"text-align: right;\">\n",
       "      <th></th>\n",
       "      <th>title</th>\n",
       "      <th>studio</th>\n",
       "      <th>domestic_gross</th>\n",
       "      <th>foreign_gross</th>\n",
       "      <th>year</th>\n",
       "    </tr>\n",
       "  </thead>\n",
       "  <tbody>\n",
       "    <tr>\n",
       "      <th>0</th>\n",
       "      <td>Toy Story 3</td>\n",
       "      <td>BV</td>\n",
       "      <td>415000000.0</td>\n",
       "      <td>652000000</td>\n",
       "      <td>2010</td>\n",
       "    </tr>\n",
       "    <tr>\n",
       "      <th>1</th>\n",
       "      <td>Alice in Wonderland (2010)</td>\n",
       "      <td>BV</td>\n",
       "      <td>334200000.0</td>\n",
       "      <td>691300000</td>\n",
       "      <td>2010</td>\n",
       "    </tr>\n",
       "    <tr>\n",
       "      <th>2</th>\n",
       "      <td>Harry Potter and the Deathly Hallows Part 1</td>\n",
       "      <td>WB</td>\n",
       "      <td>296000000.0</td>\n",
       "      <td>664300000</td>\n",
       "      <td>2010</td>\n",
       "    </tr>\n",
       "    <tr>\n",
       "      <th>3</th>\n",
       "      <td>Inception</td>\n",
       "      <td>WB</td>\n",
       "      <td>292600000.0</td>\n",
       "      <td>535700000</td>\n",
       "      <td>2010</td>\n",
       "    </tr>\n",
       "    <tr>\n",
       "      <th>4</th>\n",
       "      <td>Shrek Forever After</td>\n",
       "      <td>P/DW</td>\n",
       "      <td>238700000.0</td>\n",
       "      <td>513900000</td>\n",
       "      <td>2010</td>\n",
       "    </tr>\n",
       "  </tbody>\n",
       "</table>\n",
       "</div>"
      ],
      "text/plain": [
       "                                         title studio  domestic_gross  \\\n",
       "0                                  Toy Story 3     BV     415000000.0   \n",
       "1                   Alice in Wonderland (2010)     BV     334200000.0   \n",
       "2  Harry Potter and the Deathly Hallows Part 1     WB     296000000.0   \n",
       "3                                    Inception     WB     292600000.0   \n",
       "4                          Shrek Forever After   P/DW     238700000.0   \n",
       "\n",
       "  foreign_gross  year  \n",
       "0     652000000  2010  \n",
       "1     691300000  2010  \n",
       "2     664300000  2010  \n",
       "3     535700000  2010  \n",
       "4     513900000  2010  "
      ]
     },
     "execution_count": 40,
     "metadata": {},
     "output_type": "execute_result"
    }
   ],
   "source": [
    "orig_dfs['bom_movie_gross'].head()"
   ]
  },
  {
   "cell_type": "code",
   "execution_count": 41,
   "metadata": {
    "ExecuteTime": {
     "end_time": "2021-05-01T00:03:54.801143Z",
     "start_time": "2021-05-01T00:03:54.787147Z"
    }
   },
   "outputs": [
    {
     "data": {
      "text/html": [
       "<div>\n",
       "<style scoped>\n",
       "    .dataframe tbody tr th:only-of-type {\n",
       "        vertical-align: middle;\n",
       "    }\n",
       "\n",
       "    .dataframe tbody tr th {\n",
       "        vertical-align: top;\n",
       "    }\n",
       "\n",
       "    .dataframe thead th {\n",
       "        text-align: right;\n",
       "    }\n",
       "</style>\n",
       "<table border=\"1\" class=\"dataframe\">\n",
       "  <thead>\n",
       "    <tr style=\"text-align: right;\">\n",
       "      <th></th>\n",
       "      <th>release_date</th>\n",
       "      <th>movie</th>\n",
       "      <th>production_budget</th>\n",
       "      <th>domestic_gross</th>\n",
       "      <th>worldwide_gross</th>\n",
       "    </tr>\n",
       "  </thead>\n",
       "  <tbody>\n",
       "    <tr>\n",
       "      <th>0</th>\n",
       "      <td>Dec 18, 2009</td>\n",
       "      <td>Avatar</td>\n",
       "      <td>$425,000,000</td>\n",
       "      <td>$760,507,625</td>\n",
       "      <td>$2,776,345,279</td>\n",
       "    </tr>\n",
       "    <tr>\n",
       "      <th>1</th>\n",
       "      <td>May 20, 2011</td>\n",
       "      <td>Pirates of the Caribbean: On Stranger Tides</td>\n",
       "      <td>$410,600,000</td>\n",
       "      <td>$241,063,875</td>\n",
       "      <td>$1,045,663,875</td>\n",
       "    </tr>\n",
       "    <tr>\n",
       "      <th>2</th>\n",
       "      <td>Jun 7, 2019</td>\n",
       "      <td>Dark Phoenix</td>\n",
       "      <td>$350,000,000</td>\n",
       "      <td>$42,762,350</td>\n",
       "      <td>$149,762,350</td>\n",
       "    </tr>\n",
       "    <tr>\n",
       "      <th>3</th>\n",
       "      <td>May 1, 2015</td>\n",
       "      <td>Avengers: Age of Ultron</td>\n",
       "      <td>$330,600,000</td>\n",
       "      <td>$459,005,868</td>\n",
       "      <td>$1,403,013,963</td>\n",
       "    </tr>\n",
       "    <tr>\n",
       "      <th>4</th>\n",
       "      <td>Dec 15, 2017</td>\n",
       "      <td>Star Wars Ep. VIII: The Last Jedi</td>\n",
       "      <td>$317,000,000</td>\n",
       "      <td>$620,181,382</td>\n",
       "      <td>$1,316,721,747</td>\n",
       "    </tr>\n",
       "  </tbody>\n",
       "</table>\n",
       "</div>"
      ],
      "text/plain": [
       "   release_date                                        movie  \\\n",
       "0  Dec 18, 2009                                       Avatar   \n",
       "1  May 20, 2011  Pirates of the Caribbean: On Stranger Tides   \n",
       "2   Jun 7, 2019                                 Dark Phoenix   \n",
       "3   May 1, 2015                      Avengers: Age of Ultron   \n",
       "4  Dec 15, 2017            Star Wars Ep. VIII: The Last Jedi   \n",
       "\n",
       "  production_budget domestic_gross worldwide_gross  \n",
       "0      $425,000,000   $760,507,625  $2,776,345,279  \n",
       "1      $410,600,000   $241,063,875  $1,045,663,875  \n",
       "2      $350,000,000    $42,762,350    $149,762,350  \n",
       "3      $330,600,000   $459,005,868  $1,403,013,963  \n",
       "4      $317,000,000   $620,181,382  $1,316,721,747  "
      ]
     },
     "execution_count": 41,
     "metadata": {},
     "output_type": "execute_result"
    }
   ],
   "source": [
    "orig_dfs['tn_movie_budgets'].head()"
   ]
  },
  {
   "cell_type": "markdown",
   "metadata": {},
   "source": [
    "Lets double check the .info and some .value_counts() for each, to see if they're all ready for merging."
   ]
  },
  {
   "cell_type": "code",
   "execution_count": 42,
   "metadata": {
    "ExecuteTime": {
     "end_time": "2021-05-01T00:03:56.054715Z",
     "start_time": "2021-05-01T00:03:56.047735Z"
    }
   },
   "outputs": [
    {
     "name": "stdout",
     "output_type": "stream",
     "text": [
      "<class 'pandas.core.frame.DataFrame'>\n",
      "RangeIndex: 2348 entries, 0 to 2347\n",
      "Data columns (total 14 columns):\n",
      " #   Column                Non-Null Count  Dtype  \n",
      "---  ------                --------------  -----  \n",
      " 0   genre_ids             2348 non-null   object \n",
      " 1   tmdb_id               2348 non-null   int64  \n",
      " 2   original_language     2348 non-null   object \n",
      " 3   original_title        2348 non-null   object \n",
      " 4   popularity            2348 non-null   float64\n",
      " 5   release_date          2348 non-null   object \n",
      " 6   title                 2348 non-null   object \n",
      " 7   vote_average          2348 non-null   float64\n",
      " 8   vote_count            2348 non-null   int64  \n",
      " 9   runtime               2348 non-null   float64\n",
      " 10  budget_est            2348 non-null   float64\n",
      " 11  revenue               2348 non-null   float64\n",
      " 12  imdb_id               2348 non-null   object \n",
      " 13  production_companies  2348 non-null   object \n",
      "dtypes: float64(5), int64(2), object(7)\n",
      "memory usage: 256.9+ KB\n"
     ]
    }
   ],
   "source": [
    "cleaned_tmdb.info()"
   ]
  },
  {
   "cell_type": "code",
   "execution_count": 43,
   "metadata": {
    "ExecuteTime": {
     "end_time": "2021-05-01T00:03:56.812233Z",
     "start_time": "2021-05-01T00:03:56.791289Z"
    }
   },
   "outputs": [
    {
     "name": "stdout",
     "output_type": "stream",
     "text": [
      "<class 'pandas.core.frame.DataFrame'>\n",
      "RangeIndex: 3387 entries, 0 to 3386\n",
      "Data columns (total 5 columns):\n",
      " #   Column          Non-Null Count  Dtype  \n",
      "---  ------          --------------  -----  \n",
      " 0   title           3387 non-null   object \n",
      " 1   studio          3382 non-null   object \n",
      " 2   domestic_gross  3359 non-null   float64\n",
      " 3   foreign_gross   2037 non-null   object \n",
      " 4   year            3387 non-null   int64  \n",
      "dtypes: float64(1), int64(1), object(3)\n",
      "memory usage: 132.4+ KB\n"
     ]
    }
   ],
   "source": [
    "orig_dfs['bom_movie_gross'].info()"
   ]
  },
  {
   "cell_type": "code",
   "execution_count": 44,
   "metadata": {
    "ExecuteTime": {
     "end_time": "2021-05-01T00:03:57.696403Z",
     "start_time": "2021-05-01T00:03:57.678424Z"
    }
   },
   "outputs": [
    {
     "data": {
      "text/plain": [
       "1200000      23\n",
       "1100000      14\n",
       "4200000      12\n",
       "1900000      12\n",
       "1300000      11\n",
       "             ..\n",
       "648000        1\n",
       "32299999      1\n",
       "136600000     1\n",
       "113300000     1\n",
       "172100000     1\n",
       "Name: foreign_gross, Length: 1204, dtype: int64"
      ]
     },
     "execution_count": 44,
     "metadata": {},
     "output_type": "execute_result"
    }
   ],
   "source": [
    "orig_dfs['bom_movie_gross'].foreign_gross.value_counts()"
   ]
  },
  {
   "cell_type": "code",
   "execution_count": 45,
   "metadata": {
    "ExecuteTime": {
     "end_time": "2021-05-01T00:03:58.281340Z",
     "start_time": "2021-05-01T00:03:58.269784Z"
    }
   },
   "outputs": [
    {
     "name": "stdout",
     "output_type": "stream",
     "text": [
      "<class 'pandas.core.frame.DataFrame'>\n",
      "RangeIndex: 5782 entries, 0 to 5781\n",
      "Data columns (total 5 columns):\n",
      " #   Column             Non-Null Count  Dtype \n",
      "---  ------             --------------  ----- \n",
      " 0   release_date       5782 non-null   object\n",
      " 1   movie              5782 non-null   object\n",
      " 2   production_budget  5782 non-null   object\n",
      " 3   domestic_gross     5782 non-null   object\n",
      " 4   worldwide_gross    5782 non-null   object\n",
      "dtypes: object(5)\n",
      "memory usage: 226.0+ KB\n"
     ]
    }
   ],
   "source": [
    "orig_dfs['tn_movie_budgets'].info()"
   ]
  },
  {
   "cell_type": "code",
   "execution_count": 46,
   "metadata": {
    "ExecuteTime": {
     "end_time": "2021-05-01T00:03:59.025022Z",
     "start_time": "2021-05-01T00:03:59.018014Z"
    }
   },
   "outputs": [
    {
     "data": {
      "text/plain": [
       "$20,000,000     231\n",
       "$10,000,000     212\n",
       "$30,000,000     177\n",
       "$15,000,000     173\n",
       "$25,000,000     171\n",
       "               ... \n",
       "$103,000          1\n",
       "$23,600,000       1\n",
       "$420,000          1\n",
       "$152,000,000      1\n",
       "$71,500,000       1\n",
       "Name: production_budget, Length: 509, dtype: int64"
      ]
     },
     "execution_count": 46,
     "metadata": {},
     "output_type": "execute_result"
    }
   ],
   "source": [
    "orig_dfs['tn_movie_budgets'].production_budget.value_counts()"
   ]
  },
  {
   "cell_type": "code",
   "execution_count": 47,
   "metadata": {
    "ExecuteTime": {
     "end_time": "2021-05-01T00:03:59.704450Z",
     "start_time": "2021-05-01T00:03:59.683481Z"
    }
   },
   "outputs": [
    {
     "data": {
      "text/plain": [
       "$0             367\n",
       "$8,000,000       9\n",
       "$2,000,000       6\n",
       "$7,000,000       6\n",
       "$15,000,000      4\n",
       "              ... \n",
       "$32,572          1\n",
       "$38,119,483      1\n",
       "$28,649,556      1\n",
       "$70,689,968      1\n",
       "$27,066,941      1\n",
       "Name: worldwide_gross, Length: 5356, dtype: int64"
      ]
     },
     "execution_count": 47,
     "metadata": {},
     "output_type": "execute_result"
    }
   ],
   "source": [
    "orig_dfs['tn_movie_budgets'].worldwide_gross.value_counts()"
   ]
  },
  {
   "cell_type": "markdown",
   "metadata": {},
   "source": [
    "Okay, so it looks like in the BOM data there are a lot of NULLs in foreign_gross, whereas for the TN data there are a lot of zero values, which could be either unreleased movies or movies for which this data hasn't been collected / reported. Additionally, all of the TN columns are object type, so we need to change the type of those columns to int64. Since we need at least this information for both, lets convert data types then get rid of any rows with NaNs or zeros in each dataframe before merging."
   ]
  },
  {
   "cell_type": "code",
   "execution_count": 48,
   "metadata": {
    "ExecuteTime": {
     "end_time": "2021-05-01T00:04:02.017046Z",
     "start_time": "2021-05-01T00:04:02.002092Z"
    }
   },
   "outputs": [
    {
     "name": "stdout",
     "output_type": "stream",
     "text": [
      "<class 'pandas.core.frame.DataFrame'>\n",
      "RangeIndex: 2007 entries, 0 to 2006\n",
      "Data columns (total 5 columns):\n",
      " #   Column          Non-Null Count  Dtype  \n",
      "---  ------          --------------  -----  \n",
      " 0   title           2007 non-null   object \n",
      " 1   studio          2007 non-null   object \n",
      " 2   domestic_gross  2007 non-null   float64\n",
      " 3   foreign_gross   2007 non-null   object \n",
      " 4   year            2007 non-null   int64  \n",
      "dtypes: float64(1), int64(1), object(3)\n",
      "memory usage: 78.5+ KB\n"
     ]
    }
   ],
   "source": [
    "cleaned_bom = orig_dfs['bom_movie_gross'].dropna(axis = 0)\n",
    "cleaned_bom = cleaned_bom.reset_index()\n",
    "cleaned_bom = cleaned_bom.drop(columns = 'index')\n",
    "cleaned_bom.info()"
   ]
  },
  {
   "cell_type": "code",
   "execution_count": 49,
   "metadata": {
    "ExecuteTime": {
     "end_time": "2021-05-01T00:04:02.421162Z",
     "start_time": "2021-05-01T00:04:02.412225Z"
    }
   },
   "outputs": [
    {
     "data": {
      "text/plain": [
       "1200000      23\n",
       "1100000      13\n",
       "4200000      12\n",
       "1900000      11\n",
       "2500000      11\n",
       "             ..\n",
       "136600000     1\n",
       "113300000     1\n",
       "128300000     1\n",
       "149000        1\n",
       "172100000     1\n",
       "Name: foreign_gross, Length: 1193, dtype: int64"
      ]
     },
     "execution_count": 49,
     "metadata": {},
     "output_type": "execute_result"
    }
   ],
   "source": [
    "cleaned_bom.foreign_gross.value_counts()"
   ]
  },
  {
   "cell_type": "code",
   "execution_count": 50,
   "metadata": {
    "ExecuteTime": {
     "end_time": "2021-05-01T00:04:03.147129Z",
     "start_time": "2021-05-01T00:04:03.120635Z"
    }
   },
   "outputs": [
    {
     "data": {
      "text/html": [
       "<div>\n",
       "<style scoped>\n",
       "    .dataframe tbody tr th:only-of-type {\n",
       "        vertical-align: middle;\n",
       "    }\n",
       "\n",
       "    .dataframe tbody tr th {\n",
       "        vertical-align: top;\n",
       "    }\n",
       "\n",
       "    .dataframe thead th {\n",
       "        text-align: right;\n",
       "    }\n",
       "</style>\n",
       "<table border=\"1\" class=\"dataframe\">\n",
       "  <thead>\n",
       "    <tr style=\"text-align: right;\">\n",
       "      <th></th>\n",
       "      <th>release_date</th>\n",
       "      <th>movie</th>\n",
       "      <th>production_budget</th>\n",
       "      <th>domestic_gross</th>\n",
       "      <th>worldwide_gross</th>\n",
       "    </tr>\n",
       "  </thead>\n",
       "  <tbody>\n",
       "    <tr>\n",
       "      <th>0</th>\n",
       "      <td>Dec 18, 2009</td>\n",
       "      <td>Avatar</td>\n",
       "      <td>425000000</td>\n",
       "      <td>760507625</td>\n",
       "      <td>2776345279</td>\n",
       "    </tr>\n",
       "    <tr>\n",
       "      <th>1</th>\n",
       "      <td>May 20, 2011</td>\n",
       "      <td>Pirates of the Caribbean: On Stranger Tides</td>\n",
       "      <td>410600000</td>\n",
       "      <td>241063875</td>\n",
       "      <td>1045663875</td>\n",
       "    </tr>\n",
       "    <tr>\n",
       "      <th>2</th>\n",
       "      <td>Jun 7, 2019</td>\n",
       "      <td>Dark Phoenix</td>\n",
       "      <td>350000000</td>\n",
       "      <td>42762350</td>\n",
       "      <td>149762350</td>\n",
       "    </tr>\n",
       "    <tr>\n",
       "      <th>3</th>\n",
       "      <td>May 1, 2015</td>\n",
       "      <td>Avengers: Age of Ultron</td>\n",
       "      <td>330600000</td>\n",
       "      <td>459005868</td>\n",
       "      <td>1403013963</td>\n",
       "    </tr>\n",
       "    <tr>\n",
       "      <th>4</th>\n",
       "      <td>Dec 15, 2017</td>\n",
       "      <td>Star Wars Ep. VIII: The Last Jedi</td>\n",
       "      <td>317000000</td>\n",
       "      <td>620181382</td>\n",
       "      <td>1316721747</td>\n",
       "    </tr>\n",
       "  </tbody>\n",
       "</table>\n",
       "</div>"
      ],
      "text/plain": [
       "   release_date                                        movie  \\\n",
       "0  Dec 18, 2009                                       Avatar   \n",
       "1  May 20, 2011  Pirates of the Caribbean: On Stranger Tides   \n",
       "2   Jun 7, 2019                                 Dark Phoenix   \n",
       "3   May 1, 2015                      Avengers: Age of Ultron   \n",
       "4  Dec 15, 2017            Star Wars Ep. VIII: The Last Jedi   \n",
       "\n",
       "   production_budget  domestic_gross  worldwide_gross  \n",
       "0          425000000       760507625       2776345279  \n",
       "1          410600000       241063875       1045663875  \n",
       "2          350000000        42762350        149762350  \n",
       "3          330600000       459005868       1403013963  \n",
       "4          317000000       620181382       1316721747  "
      ]
     },
     "execution_count": 50,
     "metadata": {},
     "output_type": "execute_result"
    }
   ],
   "source": [
    "cleaned_tn = orig_dfs['tn_movie_budgets'].copy()\n",
    "cleaned_tn['production_budget'] = cleaned_tn['production_budget'].apply(lambda x: int(x.replace('$','').replace(',','')))\n",
    "cleaned_tn['domestic_gross'] = cleaned_tn['domestic_gross'].apply(lambda x: int(x.replace('$','').replace(',','')))\n",
    "cleaned_tn['worldwide_gross'] = cleaned_tn['worldwide_gross'].apply(lambda x: int(x.replace('$','').replace(',','')))\n",
    "cleaned_tn.head()"
   ]
  },
  {
   "cell_type": "code",
   "execution_count": 51,
   "metadata": {
    "ExecuteTime": {
     "end_time": "2021-05-01T00:04:03.937501Z",
     "start_time": "2021-05-01T00:04:03.929504Z"
    }
   },
   "outputs": [],
   "source": [
    "cleaned_tn = cleaned_tn.loc[(cleaned_tn['production_budget']!= 0) &\n",
    "                           (cleaned_tn['domestic_gross'] !=0) &\n",
    "                           (cleaned_tn['worldwide_gross'] !=0) ]"
   ]
  },
  {
   "cell_type": "code",
   "execution_count": 52,
   "metadata": {
    "ExecuteTime": {
     "end_time": "2021-05-01T00:04:04.839179Z",
     "start_time": "2021-05-01T00:04:04.827186Z"
    }
   },
   "outputs": [
    {
     "data": {
      "text/plain": [
       "20000000     221\n",
       "10000000     197\n",
       "30000000     171\n",
       "40000000     163\n",
       "15000000     162\n",
       "            ... \n",
       "420000         1\n",
       "7303082        1\n",
       "306000000      1\n",
       "4638783        1\n",
       "28500000       1\n",
       "Name: production_budget, Length: 472, dtype: int64"
      ]
     },
     "execution_count": 52,
     "metadata": {},
     "output_type": "execute_result"
    }
   ],
   "source": [
    "cleaned_tn.production_budget.value_counts()"
   ]
  },
  {
   "cell_type": "code",
   "execution_count": 53,
   "metadata": {
    "ExecuteTime": {
     "end_time": "2021-05-01T00:04:05.519098Z",
     "start_time": "2021-05-01T00:04:05.500642Z"
    }
   },
   "outputs": [
    {
     "data": {
      "text/plain": [
       "8000000      9\n",
       "2000000      6\n",
       "7000000      6\n",
       "11000000     4\n",
       "9000000      4\n",
       "            ..\n",
       "478595       1\n",
       "58545540     1\n",
       "92618117     1\n",
       "3902679      1\n",
       "104267443    1\n",
       "Name: worldwide_gross, Length: 5177, dtype: int64"
      ]
     },
     "execution_count": 53,
     "metadata": {},
     "output_type": "execute_result"
    }
   ],
   "source": [
    "cleaned_tn.worldwide_gross.value_counts()"
   ]
  },
  {
   "cell_type": "code",
   "execution_count": 54,
   "metadata": {
    "ExecuteTime": {
     "end_time": "2021-05-01T00:04:06.556633Z",
     "start_time": "2021-05-01T00:04:06.542138Z"
    }
   },
   "outputs": [
    {
     "data": {
      "text/html": [
       "<div>\n",
       "<style scoped>\n",
       "    .dataframe tbody tr th:only-of-type {\n",
       "        vertical-align: middle;\n",
       "    }\n",
       "\n",
       "    .dataframe tbody tr th {\n",
       "        vertical-align: top;\n",
       "    }\n",
       "\n",
       "    .dataframe thead th {\n",
       "        text-align: right;\n",
       "    }\n",
       "</style>\n",
       "<table border=\"1\" class=\"dataframe\">\n",
       "  <thead>\n",
       "    <tr style=\"text-align: right;\">\n",
       "      <th></th>\n",
       "      <th>release_date</th>\n",
       "      <th>movie</th>\n",
       "      <th>production_budget</th>\n",
       "      <th>domestic_gross</th>\n",
       "      <th>worldwide_gross</th>\n",
       "    </tr>\n",
       "  </thead>\n",
       "  <tbody>\n",
       "    <tr>\n",
       "      <th>0</th>\n",
       "      <td>Dec 18, 2009</td>\n",
       "      <td>Avatar</td>\n",
       "      <td>425000000</td>\n",
       "      <td>760507625</td>\n",
       "      <td>2776345279</td>\n",
       "    </tr>\n",
       "    <tr>\n",
       "      <th>1</th>\n",
       "      <td>May 20, 2011</td>\n",
       "      <td>Pirates of the Caribbean: On Stranger Tides</td>\n",
       "      <td>410600000</td>\n",
       "      <td>241063875</td>\n",
       "      <td>1045663875</td>\n",
       "    </tr>\n",
       "    <tr>\n",
       "      <th>2</th>\n",
       "      <td>Jun 7, 2019</td>\n",
       "      <td>Dark Phoenix</td>\n",
       "      <td>350000000</td>\n",
       "      <td>42762350</td>\n",
       "      <td>149762350</td>\n",
       "    </tr>\n",
       "    <tr>\n",
       "      <th>3</th>\n",
       "      <td>May 1, 2015</td>\n",
       "      <td>Avengers: Age of Ultron</td>\n",
       "      <td>330600000</td>\n",
       "      <td>459005868</td>\n",
       "      <td>1403013963</td>\n",
       "    </tr>\n",
       "    <tr>\n",
       "      <th>4</th>\n",
       "      <td>Dec 15, 2017</td>\n",
       "      <td>Star Wars Ep. VIII: The Last Jedi</td>\n",
       "      <td>317000000</td>\n",
       "      <td>620181382</td>\n",
       "      <td>1316721747</td>\n",
       "    </tr>\n",
       "  </tbody>\n",
       "</table>\n",
       "</div>"
      ],
      "text/plain": [
       "   release_date                                        movie  \\\n",
       "0  Dec 18, 2009                                       Avatar   \n",
       "1  May 20, 2011  Pirates of the Caribbean: On Stranger Tides   \n",
       "2   Jun 7, 2019                                 Dark Phoenix   \n",
       "3   May 1, 2015                      Avengers: Age of Ultron   \n",
       "4  Dec 15, 2017            Star Wars Ep. VIII: The Last Jedi   \n",
       "\n",
       "   production_budget  domestic_gross  worldwide_gross  \n",
       "0          425000000       760507625       2776345279  \n",
       "1          410600000       241063875       1045663875  \n",
       "2          350000000        42762350        149762350  \n",
       "3          330600000       459005868       1403013963  \n",
       "4          317000000       620181382       1316721747  "
      ]
     },
     "execution_count": 54,
     "metadata": {},
     "output_type": "execute_result"
    }
   ],
   "source": [
    "cleaned_tn = cleaned_tn.reset_index()\n",
    "cleaned_tn = cleaned_tn.drop(columns = 'index')\n",
    "cleaned_tn.head()"
   ]
  },
  {
   "cell_type": "markdown",
   "metadata": {},
   "source": [
    "We want to collect as much information as possible about any movie we have budget information for, so first lets look at an outer join between the TN data and the TMDB data."
   ]
  },
  {
   "cell_type": "code",
   "execution_count": 55,
   "metadata": {
    "ExecuteTime": {
     "end_time": "2021-05-01T00:04:10.312876Z",
     "start_time": "2021-05-01T00:04:10.307417Z"
    }
   },
   "outputs": [
    {
     "name": "stdout",
     "output_type": "stream",
     "text": [
      "2143\n",
      "5159\n",
      "(2348, 14)\n",
      "(5234, 5)\n"
     ]
    }
   ],
   "source": [
    "print(cleaned_tmdb.tmdb_id.nunique())\n",
    "print(cleaned_tn.movie.nunique())\n",
    "print(cleaned_tmdb.shape)\n",
    "print(cleaned_tn.shape)"
   ]
  },
  {
   "cell_type": "markdown",
   "metadata": {},
   "source": [
    "Hmm... it looks like there may be some duplicate movie records to take care of. A couple hundred in each, let's remove them."
   ]
  },
  {
   "cell_type": "code",
   "execution_count": 56,
   "metadata": {
    "ExecuteTime": {
     "end_time": "2021-05-01T00:04:14.369327Z",
     "start_time": "2021-05-01T00:04:14.363976Z"
    }
   },
   "outputs": [],
   "source": [
    "cleaned_tmdb = cleaned_tmdb.drop_duplicates(subset = ['tmdb_id'])\n",
    "cleaned_tn = cleaned_tn.drop_duplicates(subset = ['movie','release_date'])"
   ]
  },
  {
   "cell_type": "code",
   "execution_count": 57,
   "metadata": {
    "ExecuteTime": {
     "end_time": "2021-05-01T00:04:15.097056Z",
     "start_time": "2021-05-01T00:04:15.083081Z"
    }
   },
   "outputs": [
    {
     "name": "stdout",
     "output_type": "stream",
     "text": [
      "2143\n",
      "5159\n",
      "(2143, 14)\n",
      "(5234, 5)\n"
     ]
    }
   ],
   "source": [
    "print(cleaned_tmdb.tmdb_id.nunique())\n",
    "print(cleaned_tn.movie.nunique())\n",
    "print(cleaned_tmdb.shape)\n",
    "print(cleaned_tn.shape)"
   ]
  },
  {
   "cell_type": "markdown",
   "metadata": {},
   "source": [
    "I also am noticing that there may be some duplicate movie titles with different release dates that we want to keep as separate records. The easiest way to handle this will be to separate out the release date into three columns each, release day, month, and year, then finally merge on both the movie title and the release year."
   ]
  },
  {
   "cell_type": "code",
   "execution_count": 58,
   "metadata": {
    "ExecuteTime": {
     "end_time": "2021-05-01T00:04:16.764058Z",
     "start_time": "2021-05-01T00:04:16.754054Z"
    }
   },
   "outputs": [],
   "source": [
    "def create_date_cols(row):\n",
    "    datetime_obj = pd.to_datetime(row['release_date'])\n",
    "    day = datetime_obj.day\n",
    "    month = datetime_obj.month\n",
    "    year = datetime_obj.year\n",
    "    return row.append(pd.Series([day, month, year], index = ['release_day','release_month','release_year']))"
   ]
  },
  {
   "cell_type": "code",
   "execution_count": 59,
   "metadata": {
    "ExecuteTime": {
     "end_time": "2021-05-01T00:04:23.057714Z",
     "start_time": "2021-05-01T00:04:18.920044Z"
    }
   },
   "outputs": [],
   "source": [
    "cleaned_tmdb = cleaned_tmdb.apply(create_date_cols,axis=1)\n",
    "cleaned_tn = cleaned_tn.apply(create_date_cols,axis=1)"
   ]
  },
  {
   "cell_type": "code",
   "execution_count": 60,
   "metadata": {
    "ExecuteTime": {
     "end_time": "2021-05-01T00:04:24.607119Z",
     "start_time": "2021-05-01T00:04:24.599637Z"
    }
   },
   "outputs": [],
   "source": [
    "cleaned_tmdb = cleaned_tmdb.drop(columns = 'release_date')\n",
    "cleaned_tn = cleaned_tn.drop(columns = 'release_date')"
   ]
  },
  {
   "cell_type": "code",
   "execution_count": 61,
   "metadata": {
    "ExecuteTime": {
     "end_time": "2021-05-01T00:04:25.070399Z",
     "start_time": "2021-05-01T00:04:25.025284Z"
    }
   },
   "outputs": [
    {
     "data": {
      "text/html": [
       "<div>\n",
       "<style scoped>\n",
       "    .dataframe tbody tr th:only-of-type {\n",
       "        vertical-align: middle;\n",
       "    }\n",
       "\n",
       "    .dataframe tbody tr th {\n",
       "        vertical-align: top;\n",
       "    }\n",
       "\n",
       "    .dataframe thead th {\n",
       "        text-align: right;\n",
       "    }\n",
       "</style>\n",
       "<table border=\"1\" class=\"dataframe\">\n",
       "  <thead>\n",
       "    <tr style=\"text-align: right;\">\n",
       "      <th></th>\n",
       "      <th>genre_ids</th>\n",
       "      <th>tmdb_id</th>\n",
       "      <th>original_language</th>\n",
       "      <th>original_title</th>\n",
       "      <th>popularity</th>\n",
       "      <th>title</th>\n",
       "      <th>vote_average</th>\n",
       "      <th>vote_count</th>\n",
       "      <th>runtime</th>\n",
       "      <th>budget_est</th>\n",
       "      <th>...</th>\n",
       "      <th>production_companies</th>\n",
       "      <th>release_day_x</th>\n",
       "      <th>release_month_x</th>\n",
       "      <th>release_year</th>\n",
       "      <th>movie</th>\n",
       "      <th>production_budget</th>\n",
       "      <th>domestic_gross</th>\n",
       "      <th>worldwide_gross</th>\n",
       "      <th>release_day_y</th>\n",
       "      <th>release_month_y</th>\n",
       "    </tr>\n",
       "  </thead>\n",
       "  <tbody>\n",
       "    <tr>\n",
       "      <th>0</th>\n",
       "      <td>[12, 14, 10751]</td>\n",
       "      <td>12444.0</td>\n",
       "      <td>en</td>\n",
       "      <td>Harry Potter and the Deathly Hallows: Part 1</td>\n",
       "      <td>33.533</td>\n",
       "      <td>Harry Potter and the Deathly Hallows: Part 1</td>\n",
       "      <td>7.7</td>\n",
       "      <td>10788.0</td>\n",
       "      <td>146.0</td>\n",
       "      <td>250000000.0</td>\n",
       "      <td>...</td>\n",
       "      <td>['Warner Bros. Pictures', 'Heyday Films']</td>\n",
       "      <td>19.0</td>\n",
       "      <td>11.0</td>\n",
       "      <td>2010</td>\n",
       "      <td>NaN</td>\n",
       "      <td>NaN</td>\n",
       "      <td>NaN</td>\n",
       "      <td>NaN</td>\n",
       "      <td>NaN</td>\n",
       "      <td>NaN</td>\n",
       "    </tr>\n",
       "    <tr>\n",
       "      <th>1</th>\n",
       "      <td>[14, 12, 16, 10751]</td>\n",
       "      <td>10191.0</td>\n",
       "      <td>en</td>\n",
       "      <td>How to Train Your Dragon</td>\n",
       "      <td>28.734</td>\n",
       "      <td>How to Train Your Dragon</td>\n",
       "      <td>7.7</td>\n",
       "      <td>7610.0</td>\n",
       "      <td>98.0</td>\n",
       "      <td>165000000.0</td>\n",
       "      <td>...</td>\n",
       "      <td>['DreamWorks Animation']</td>\n",
       "      <td>26.0</td>\n",
       "      <td>3.0</td>\n",
       "      <td>2010</td>\n",
       "      <td>How to Train Your Dragon</td>\n",
       "      <td>165000000.0</td>\n",
       "      <td>217581232.0</td>\n",
       "      <td>4.948710e+08</td>\n",
       "      <td>26.0</td>\n",
       "      <td>3.0</td>\n",
       "    </tr>\n",
       "    <tr>\n",
       "      <th>2</th>\n",
       "      <td>[12, 28, 878]</td>\n",
       "      <td>10138.0</td>\n",
       "      <td>en</td>\n",
       "      <td>Iron Man 2</td>\n",
       "      <td>28.515</td>\n",
       "      <td>Iron Man 2</td>\n",
       "      <td>6.8</td>\n",
       "      <td>12368.0</td>\n",
       "      <td>124.0</td>\n",
       "      <td>200000000.0</td>\n",
       "      <td>...</td>\n",
       "      <td>['Marvel Studios', 'Paramount', 'Marvel Entert...</td>\n",
       "      <td>7.0</td>\n",
       "      <td>5.0</td>\n",
       "      <td>2010</td>\n",
       "      <td>Iron Man 2</td>\n",
       "      <td>170000000.0</td>\n",
       "      <td>312433331.0</td>\n",
       "      <td>6.211564e+08</td>\n",
       "      <td>7.0</td>\n",
       "      <td>5.0</td>\n",
       "    </tr>\n",
       "    <tr>\n",
       "      <th>3</th>\n",
       "      <td>[16, 35, 10751]</td>\n",
       "      <td>862.0</td>\n",
       "      <td>en</td>\n",
       "      <td>Toy Story</td>\n",
       "      <td>28.005</td>\n",
       "      <td>Toy Story</td>\n",
       "      <td>7.9</td>\n",
       "      <td>10174.0</td>\n",
       "      <td>81.0</td>\n",
       "      <td>30000000.0</td>\n",
       "      <td>...</td>\n",
       "      <td>['Pixar']</td>\n",
       "      <td>22.0</td>\n",
       "      <td>11.0</td>\n",
       "      <td>1995</td>\n",
       "      <td>Toy Story</td>\n",
       "      <td>30000000.0</td>\n",
       "      <td>191796233.0</td>\n",
       "      <td>3.645455e+08</td>\n",
       "      <td>22.0</td>\n",
       "      <td>11.0</td>\n",
       "    </tr>\n",
       "    <tr>\n",
       "      <th>4</th>\n",
       "      <td>[28, 878, 12]</td>\n",
       "      <td>27205.0</td>\n",
       "      <td>en</td>\n",
       "      <td>Inception</td>\n",
       "      <td>27.920</td>\n",
       "      <td>Inception</td>\n",
       "      <td>8.3</td>\n",
       "      <td>22186.0</td>\n",
       "      <td>148.0</td>\n",
       "      <td>160000000.0</td>\n",
       "      <td>...</td>\n",
       "      <td>['Legendary Pictures', 'Syncopy', 'Warner Bros...</td>\n",
       "      <td>16.0</td>\n",
       "      <td>7.0</td>\n",
       "      <td>2010</td>\n",
       "      <td>Inception</td>\n",
       "      <td>160000000.0</td>\n",
       "      <td>292576195.0</td>\n",
       "      <td>8.355246e+08</td>\n",
       "      <td>16.0</td>\n",
       "      <td>7.0</td>\n",
       "    </tr>\n",
       "    <tr>\n",
       "      <th>5</th>\n",
       "      <td>[12, 14, 10751]</td>\n",
       "      <td>32657.0</td>\n",
       "      <td>en</td>\n",
       "      <td>Percy Jackson &amp; the Olympians: The Lightning T...</td>\n",
       "      <td>26.691</td>\n",
       "      <td>Percy Jackson &amp; the Olympians: The Lightning T...</td>\n",
       "      <td>6.1</td>\n",
       "      <td>4229.0</td>\n",
       "      <td>118.0</td>\n",
       "      <td>95000000.0</td>\n",
       "      <td>...</td>\n",
       "      <td>['20th Century Fox', '1492 Pictures', 'Sunswep...</td>\n",
       "      <td>11.0</td>\n",
       "      <td>2.0</td>\n",
       "      <td>2010</td>\n",
       "      <td>Percy Jackson &amp; the Olympians: The Lightning T...</td>\n",
       "      <td>95000000.0</td>\n",
       "      <td>88768303.0</td>\n",
       "      <td>2.230509e+08</td>\n",
       "      <td>12.0</td>\n",
       "      <td>2.0</td>\n",
       "    </tr>\n",
       "    <tr>\n",
       "      <th>6</th>\n",
       "      <td>[28, 12, 14, 878]</td>\n",
       "      <td>19995.0</td>\n",
       "      <td>en</td>\n",
       "      <td>Avatar</td>\n",
       "      <td>26.526</td>\n",
       "      <td>Avatar</td>\n",
       "      <td>7.4</td>\n",
       "      <td>18676.0</td>\n",
       "      <td>162.0</td>\n",
       "      <td>237000000.0</td>\n",
       "      <td>...</td>\n",
       "      <td>['Dune Entertainment', 'Lightstorm Entertainme...</td>\n",
       "      <td>18.0</td>\n",
       "      <td>12.0</td>\n",
       "      <td>2009</td>\n",
       "      <td>Avatar</td>\n",
       "      <td>425000000.0</td>\n",
       "      <td>760507625.0</td>\n",
       "      <td>2.776345e+09</td>\n",
       "      <td>18.0</td>\n",
       "      <td>12.0</td>\n",
       "    </tr>\n",
       "    <tr>\n",
       "      <th>7</th>\n",
       "      <td>[16, 10751, 35]</td>\n",
       "      <td>10193.0</td>\n",
       "      <td>en</td>\n",
       "      <td>Toy Story 3</td>\n",
       "      <td>24.445</td>\n",
       "      <td>Toy Story 3</td>\n",
       "      <td>7.7</td>\n",
       "      <td>8340.0</td>\n",
       "      <td>103.0</td>\n",
       "      <td>200000000.0</td>\n",
       "      <td>...</td>\n",
       "      <td>['Pixar']</td>\n",
       "      <td>17.0</td>\n",
       "      <td>6.0</td>\n",
       "      <td>2010</td>\n",
       "      <td>Toy Story 3</td>\n",
       "      <td>200000000.0</td>\n",
       "      <td>415004880.0</td>\n",
       "      <td>1.068880e+09</td>\n",
       "      <td>18.0</td>\n",
       "      <td>6.0</td>\n",
       "    </tr>\n",
       "    <tr>\n",
       "      <th>8</th>\n",
       "      <td>[16, 10751, 35]</td>\n",
       "      <td>20352.0</td>\n",
       "      <td>en</td>\n",
       "      <td>Despicable Me</td>\n",
       "      <td>23.673</td>\n",
       "      <td>Despicable Me</td>\n",
       "      <td>7.2</td>\n",
       "      <td>10057.0</td>\n",
       "      <td>95.0</td>\n",
       "      <td>69000000.0</td>\n",
       "      <td>...</td>\n",
       "      <td>['Universal Pictures', 'Illumination Entertain...</td>\n",
       "      <td>9.0</td>\n",
       "      <td>7.0</td>\n",
       "      <td>2010</td>\n",
       "      <td>Despicable Me</td>\n",
       "      <td>69000000.0</td>\n",
       "      <td>251513985.0</td>\n",
       "      <td>5.434646e+08</td>\n",
       "      <td>9.0</td>\n",
       "      <td>7.0</td>\n",
       "    </tr>\n",
       "    <tr>\n",
       "      <th>9</th>\n",
       "      <td>[16, 28, 35, 10751, 878]</td>\n",
       "      <td>38055.0</td>\n",
       "      <td>en</td>\n",
       "      <td>Megamind</td>\n",
       "      <td>22.855</td>\n",
       "      <td>Megamind</td>\n",
       "      <td>6.8</td>\n",
       "      <td>3635.0</td>\n",
       "      <td>96.0</td>\n",
       "      <td>130000000.0</td>\n",
       "      <td>...</td>\n",
       "      <td>['DreamWorks Animation', 'Pacific Data Images'...</td>\n",
       "      <td>4.0</td>\n",
       "      <td>11.0</td>\n",
       "      <td>2010</td>\n",
       "      <td>Megamind</td>\n",
       "      <td>130000000.0</td>\n",
       "      <td>148415853.0</td>\n",
       "      <td>3.218872e+08</td>\n",
       "      <td>5.0</td>\n",
       "      <td>11.0</td>\n",
       "    </tr>\n",
       "    <tr>\n",
       "      <th>10</th>\n",
       "      <td>[16, 35, 10751]</td>\n",
       "      <td>863.0</td>\n",
       "      <td>en</td>\n",
       "      <td>Toy Story 2</td>\n",
       "      <td>22.698</td>\n",
       "      <td>Toy Story 2</td>\n",
       "      <td>7.5</td>\n",
       "      <td>7553.0</td>\n",
       "      <td>92.0</td>\n",
       "      <td>90000000.0</td>\n",
       "      <td>...</td>\n",
       "      <td>['Pixar']</td>\n",
       "      <td>24.0</td>\n",
       "      <td>11.0</td>\n",
       "      <td>1999</td>\n",
       "      <td>Toy Story 2</td>\n",
       "      <td>90000000.0</td>\n",
       "      <td>245852179.0</td>\n",
       "      <td>5.113583e+08</td>\n",
       "      <td>19.0</td>\n",
       "      <td>11.0</td>\n",
       "    </tr>\n",
       "    <tr>\n",
       "      <th>11</th>\n",
       "      <td>[10751, 14, 12]</td>\n",
       "      <td>12155.0</td>\n",
       "      <td>en</td>\n",
       "      <td>Alice in Wonderland</td>\n",
       "      <td>22.020</td>\n",
       "      <td>Alice in Wonderland</td>\n",
       "      <td>6.6</td>\n",
       "      <td>8713.0</td>\n",
       "      <td>108.0</td>\n",
       "      <td>200000000.0</td>\n",
       "      <td>...</td>\n",
       "      <td>['Walt Disney Pictures', 'Roth Films', 'Team T...</td>\n",
       "      <td>5.0</td>\n",
       "      <td>3.0</td>\n",
       "      <td>2010</td>\n",
       "      <td>Alice in Wonderland</td>\n",
       "      <td>200000000.0</td>\n",
       "      <td>334191110.0</td>\n",
       "      <td>1.025491e+09</td>\n",
       "      <td>5.0</td>\n",
       "      <td>3.0</td>\n",
       "    </tr>\n",
       "    <tr>\n",
       "      <th>12</th>\n",
       "      <td>[53, 12, 28]</td>\n",
       "      <td>27578.0</td>\n",
       "      <td>en</td>\n",
       "      <td>The Expendables</td>\n",
       "      <td>21.517</td>\n",
       "      <td>The Expendables</td>\n",
       "      <td>6.1</td>\n",
       "      <td>4647.0</td>\n",
       "      <td>103.0</td>\n",
       "      <td>80000000.0</td>\n",
       "      <td>...</td>\n",
       "      <td>['Nimar Studios', 'Rogue Marble', 'Millennium ...</td>\n",
       "      <td>3.0</td>\n",
       "      <td>8.0</td>\n",
       "      <td>2010</td>\n",
       "      <td>The Expendables</td>\n",
       "      <td>82000000.0</td>\n",
       "      <td>103068524.0</td>\n",
       "      <td>2.682682e+08</td>\n",
       "      <td>13.0</td>\n",
       "      <td>8.0</td>\n",
       "    </tr>\n",
       "    <tr>\n",
       "      <th>13</th>\n",
       "      <td>[16, 10751]</td>\n",
       "      <td>38757.0</td>\n",
       "      <td>en</td>\n",
       "      <td>Tangled</td>\n",
       "      <td>21.511</td>\n",
       "      <td>Tangled</td>\n",
       "      <td>7.5</td>\n",
       "      <td>6407.0</td>\n",
       "      <td>100.0</td>\n",
       "      <td>260000000.0</td>\n",
       "      <td>...</td>\n",
       "      <td>['Walt Disney Animation Studios', 'Walt Disney...</td>\n",
       "      <td>24.0</td>\n",
       "      <td>11.0</td>\n",
       "      <td>2010</td>\n",
       "      <td>Tangled</td>\n",
       "      <td>260000000.0</td>\n",
       "      <td>200821936.0</td>\n",
       "      <td>5.864772e+08</td>\n",
       "      <td>24.0</td>\n",
       "      <td>11.0</td>\n",
       "    </tr>\n",
       "    <tr>\n",
       "      <th>14</th>\n",
       "      <td>[27, 80]</td>\n",
       "      <td>41439.0</td>\n",
       "      <td>en</td>\n",
       "      <td>Saw 3D</td>\n",
       "      <td>20.370</td>\n",
       "      <td>Saw: The Final Chapter</td>\n",
       "      <td>6.0</td>\n",
       "      <td>1488.0</td>\n",
       "      <td>90.0</td>\n",
       "      <td>20000000.0</td>\n",
       "      <td>...</td>\n",
       "      <td>['Lionsgate', 'Twisted Pictures', 'Serendipity...</td>\n",
       "      <td>28.0</td>\n",
       "      <td>10.0</td>\n",
       "      <td>2010</td>\n",
       "      <td>NaN</td>\n",
       "      <td>NaN</td>\n",
       "      <td>NaN</td>\n",
       "      <td>NaN</td>\n",
       "      <td>NaN</td>\n",
       "      <td>NaN</td>\n",
       "    </tr>\n",
       "    <tr>\n",
       "      <th>15</th>\n",
       "      <td>[12, 14, 18, 10749]</td>\n",
       "      <td>24021.0</td>\n",
       "      <td>en</td>\n",
       "      <td>The Twilight Saga: Eclipse</td>\n",
       "      <td>20.340</td>\n",
       "      <td>The Twilight Saga: Eclipse</td>\n",
       "      <td>6.0</td>\n",
       "      <td>4909.0</td>\n",
       "      <td>124.0</td>\n",
       "      <td>68000000.0</td>\n",
       "      <td>...</td>\n",
       "      <td>['Summit Entertainment', 'Temple Hill Entertai...</td>\n",
       "      <td>23.0</td>\n",
       "      <td>6.0</td>\n",
       "      <td>2010</td>\n",
       "      <td>The Twilight Saga: Eclipse</td>\n",
       "      <td>68000000.0</td>\n",
       "      <td>300531751.0</td>\n",
       "      <td>7.061028e+08</td>\n",
       "      <td>30.0</td>\n",
       "      <td>6.0</td>\n",
       "    </tr>\n",
       "    <tr>\n",
       "      <th>16</th>\n",
       "      <td>[28, 53, 878]</td>\n",
       "      <td>20504.0</td>\n",
       "      <td>en</td>\n",
       "      <td>The Book of Eli</td>\n",
       "      <td>18.985</td>\n",
       "      <td>The Book of Eli</td>\n",
       "      <td>6.7</td>\n",
       "      <td>3495.0</td>\n",
       "      <td>118.0</td>\n",
       "      <td>80000000.0</td>\n",
       "      <td>...</td>\n",
       "      <td>['Alcon Entertainment', 'Silver Pictures']</td>\n",
       "      <td>11.0</td>\n",
       "      <td>1.0</td>\n",
       "      <td>2010</td>\n",
       "      <td>The Book of Eli</td>\n",
       "      <td>80000000.0</td>\n",
       "      <td>94835059.0</td>\n",
       "      <td>1.587508e+08</td>\n",
       "      <td>15.0</td>\n",
       "      <td>1.0</td>\n",
       "    </tr>\n",
       "    <tr>\n",
       "      <th>17</th>\n",
       "      <td>[28, 18, 53]</td>\n",
       "      <td>2502.0</td>\n",
       "      <td>en</td>\n",
       "      <td>The Bourne Supremacy</td>\n",
       "      <td>18.199</td>\n",
       "      <td>The Bourne Supremacy</td>\n",
       "      <td>7.3</td>\n",
       "      <td>4367.0</td>\n",
       "      <td>108.0</td>\n",
       "      <td>75000000.0</td>\n",
       "      <td>...</td>\n",
       "      <td>['Universal Pictures', 'The Kennedy/Marshall C...</td>\n",
       "      <td>23.0</td>\n",
       "      <td>7.0</td>\n",
       "      <td>2004</td>\n",
       "      <td>The Bourne Supremacy</td>\n",
       "      <td>85000000.0</td>\n",
       "      <td>176087450.0</td>\n",
       "      <td>3.110011e+08</td>\n",
       "      <td>23.0</td>\n",
       "      <td>7.0</td>\n",
       "    </tr>\n",
       "    <tr>\n",
       "      <th>18</th>\n",
       "      <td>[18, 53, 9648]</td>\n",
       "      <td>11324.0</td>\n",
       "      <td>en</td>\n",
       "      <td>Shutter Island</td>\n",
       "      <td>18.060</td>\n",
       "      <td>Shutter Island</td>\n",
       "      <td>8.1</td>\n",
       "      <td>12625.0</td>\n",
       "      <td>138.0</td>\n",
       "      <td>80000000.0</td>\n",
       "      <td>...</td>\n",
       "      <td>['Phoenix Pictures', 'Paramount', 'Appian Way'...</td>\n",
       "      <td>18.0</td>\n",
       "      <td>2.0</td>\n",
       "      <td>2010</td>\n",
       "      <td>Shutter Island</td>\n",
       "      <td>80000000.0</td>\n",
       "      <td>128012934.0</td>\n",
       "      <td>2.994618e+08</td>\n",
       "      <td>19.0</td>\n",
       "      <td>2.0</td>\n",
       "    </tr>\n",
       "    <tr>\n",
       "      <th>19</th>\n",
       "      <td>[28, 18, 9648, 53]</td>\n",
       "      <td>2501.0</td>\n",
       "      <td>en</td>\n",
       "      <td>The Bourne Identity</td>\n",
       "      <td>17.935</td>\n",
       "      <td>The Bourne Identity</td>\n",
       "      <td>7.4</td>\n",
       "      <td>5406.0</td>\n",
       "      <td>119.0</td>\n",
       "      <td>60000000.0</td>\n",
       "      <td>...</td>\n",
       "      <td>['Universal Pictures', 'Hypnotic', 'Kalima Pro...</td>\n",
       "      <td>14.0</td>\n",
       "      <td>6.0</td>\n",
       "      <td>2002</td>\n",
       "      <td>The Bourne Identity</td>\n",
       "      <td>60000000.0</td>\n",
       "      <td>121468960.0</td>\n",
       "      <td>2.143574e+08</td>\n",
       "      <td>14.0</td>\n",
       "      <td>6.0</td>\n",
       "    </tr>\n",
       "  </tbody>\n",
       "</table>\n",
       "<p>20 rows × 22 columns</p>\n",
       "</div>"
      ],
      "text/plain": [
       "                   genre_ids  tmdb_id original_language  \\\n",
       "0            [12, 14, 10751]  12444.0                en   \n",
       "1        [14, 12, 16, 10751]  10191.0                en   \n",
       "2              [12, 28, 878]  10138.0                en   \n",
       "3            [16, 35, 10751]    862.0                en   \n",
       "4              [28, 878, 12]  27205.0                en   \n",
       "5            [12, 14, 10751]  32657.0                en   \n",
       "6          [28, 12, 14, 878]  19995.0                en   \n",
       "7            [16, 10751, 35]  10193.0                en   \n",
       "8            [16, 10751, 35]  20352.0                en   \n",
       "9   [16, 28, 35, 10751, 878]  38055.0                en   \n",
       "10           [16, 35, 10751]    863.0                en   \n",
       "11           [10751, 14, 12]  12155.0                en   \n",
       "12              [53, 12, 28]  27578.0                en   \n",
       "13               [16, 10751]  38757.0                en   \n",
       "14                  [27, 80]  41439.0                en   \n",
       "15       [12, 14, 18, 10749]  24021.0                en   \n",
       "16             [28, 53, 878]  20504.0                en   \n",
       "17              [28, 18, 53]   2502.0                en   \n",
       "18            [18, 53, 9648]  11324.0                en   \n",
       "19        [28, 18, 9648, 53]   2501.0                en   \n",
       "\n",
       "                                       original_title  popularity  \\\n",
       "0        Harry Potter and the Deathly Hallows: Part 1      33.533   \n",
       "1                            How to Train Your Dragon      28.734   \n",
       "2                                          Iron Man 2      28.515   \n",
       "3                                           Toy Story      28.005   \n",
       "4                                           Inception      27.920   \n",
       "5   Percy Jackson & the Olympians: The Lightning T...      26.691   \n",
       "6                                              Avatar      26.526   \n",
       "7                                         Toy Story 3      24.445   \n",
       "8                                       Despicable Me      23.673   \n",
       "9                                            Megamind      22.855   \n",
       "10                                        Toy Story 2      22.698   \n",
       "11                                Alice in Wonderland      22.020   \n",
       "12                                    The Expendables      21.517   \n",
       "13                                            Tangled      21.511   \n",
       "14                                             Saw 3D      20.370   \n",
       "15                         The Twilight Saga: Eclipse      20.340   \n",
       "16                                    The Book of Eli      18.985   \n",
       "17                               The Bourne Supremacy      18.199   \n",
       "18                                     Shutter Island      18.060   \n",
       "19                                The Bourne Identity      17.935   \n",
       "\n",
       "                                                title  vote_average  \\\n",
       "0        Harry Potter and the Deathly Hallows: Part 1           7.7   \n",
       "1                            How to Train Your Dragon           7.7   \n",
       "2                                          Iron Man 2           6.8   \n",
       "3                                           Toy Story           7.9   \n",
       "4                                           Inception           8.3   \n",
       "5   Percy Jackson & the Olympians: The Lightning T...           6.1   \n",
       "6                                              Avatar           7.4   \n",
       "7                                         Toy Story 3           7.7   \n",
       "8                                       Despicable Me           7.2   \n",
       "9                                            Megamind           6.8   \n",
       "10                                        Toy Story 2           7.5   \n",
       "11                                Alice in Wonderland           6.6   \n",
       "12                                    The Expendables           6.1   \n",
       "13                                            Tangled           7.5   \n",
       "14                             Saw: The Final Chapter           6.0   \n",
       "15                         The Twilight Saga: Eclipse           6.0   \n",
       "16                                    The Book of Eli           6.7   \n",
       "17                               The Bourne Supremacy           7.3   \n",
       "18                                     Shutter Island           8.1   \n",
       "19                                The Bourne Identity           7.4   \n",
       "\n",
       "    vote_count  runtime   budget_est  ...  \\\n",
       "0      10788.0    146.0  250000000.0  ...   \n",
       "1       7610.0     98.0  165000000.0  ...   \n",
       "2      12368.0    124.0  200000000.0  ...   \n",
       "3      10174.0     81.0   30000000.0  ...   \n",
       "4      22186.0    148.0  160000000.0  ...   \n",
       "5       4229.0    118.0   95000000.0  ...   \n",
       "6      18676.0    162.0  237000000.0  ...   \n",
       "7       8340.0    103.0  200000000.0  ...   \n",
       "8      10057.0     95.0   69000000.0  ...   \n",
       "9       3635.0     96.0  130000000.0  ...   \n",
       "10      7553.0     92.0   90000000.0  ...   \n",
       "11      8713.0    108.0  200000000.0  ...   \n",
       "12      4647.0    103.0   80000000.0  ...   \n",
       "13      6407.0    100.0  260000000.0  ...   \n",
       "14      1488.0     90.0   20000000.0  ...   \n",
       "15      4909.0    124.0   68000000.0  ...   \n",
       "16      3495.0    118.0   80000000.0  ...   \n",
       "17      4367.0    108.0   75000000.0  ...   \n",
       "18     12625.0    138.0   80000000.0  ...   \n",
       "19      5406.0    119.0   60000000.0  ...   \n",
       "\n",
       "                                 production_companies release_day_x  \\\n",
       "0           ['Warner Bros. Pictures', 'Heyday Films']          19.0   \n",
       "1                            ['DreamWorks Animation']          26.0   \n",
       "2   ['Marvel Studios', 'Paramount', 'Marvel Entert...           7.0   \n",
       "3                                           ['Pixar']          22.0   \n",
       "4   ['Legendary Pictures', 'Syncopy', 'Warner Bros...          16.0   \n",
       "5   ['20th Century Fox', '1492 Pictures', 'Sunswep...          11.0   \n",
       "6   ['Dune Entertainment', 'Lightstorm Entertainme...          18.0   \n",
       "7                                           ['Pixar']          17.0   \n",
       "8   ['Universal Pictures', 'Illumination Entertain...           9.0   \n",
       "9   ['DreamWorks Animation', 'Pacific Data Images'...           4.0   \n",
       "10                                          ['Pixar']          24.0   \n",
       "11  ['Walt Disney Pictures', 'Roth Films', 'Team T...           5.0   \n",
       "12  ['Nimar Studios', 'Rogue Marble', 'Millennium ...           3.0   \n",
       "13  ['Walt Disney Animation Studios', 'Walt Disney...          24.0   \n",
       "14  ['Lionsgate', 'Twisted Pictures', 'Serendipity...          28.0   \n",
       "15  ['Summit Entertainment', 'Temple Hill Entertai...          23.0   \n",
       "16         ['Alcon Entertainment', 'Silver Pictures']          11.0   \n",
       "17  ['Universal Pictures', 'The Kennedy/Marshall C...          23.0   \n",
       "18  ['Phoenix Pictures', 'Paramount', 'Appian Way'...          18.0   \n",
       "19  ['Universal Pictures', 'Hypnotic', 'Kalima Pro...          14.0   \n",
       "\n",
       "   release_month_x  release_year  \\\n",
       "0             11.0          2010   \n",
       "1              3.0          2010   \n",
       "2              5.0          2010   \n",
       "3             11.0          1995   \n",
       "4              7.0          2010   \n",
       "5              2.0          2010   \n",
       "6             12.0          2009   \n",
       "7              6.0          2010   \n",
       "8              7.0          2010   \n",
       "9             11.0          2010   \n",
       "10            11.0          1999   \n",
       "11             3.0          2010   \n",
       "12             8.0          2010   \n",
       "13            11.0          2010   \n",
       "14            10.0          2010   \n",
       "15             6.0          2010   \n",
       "16             1.0          2010   \n",
       "17             7.0          2004   \n",
       "18             2.0          2010   \n",
       "19             6.0          2002   \n",
       "\n",
       "                                                movie  production_budget  \\\n",
       "0                                                 NaN                NaN   \n",
       "1                            How to Train Your Dragon        165000000.0   \n",
       "2                                          Iron Man 2        170000000.0   \n",
       "3                                           Toy Story         30000000.0   \n",
       "4                                           Inception        160000000.0   \n",
       "5   Percy Jackson & the Olympians: The Lightning T...         95000000.0   \n",
       "6                                              Avatar        425000000.0   \n",
       "7                                         Toy Story 3        200000000.0   \n",
       "8                                       Despicable Me         69000000.0   \n",
       "9                                            Megamind        130000000.0   \n",
       "10                                        Toy Story 2         90000000.0   \n",
       "11                                Alice in Wonderland        200000000.0   \n",
       "12                                    The Expendables         82000000.0   \n",
       "13                                            Tangled        260000000.0   \n",
       "14                                                NaN                NaN   \n",
       "15                         The Twilight Saga: Eclipse         68000000.0   \n",
       "16                                    The Book of Eli         80000000.0   \n",
       "17                               The Bourne Supremacy         85000000.0   \n",
       "18                                     Shutter Island         80000000.0   \n",
       "19                                The Bourne Identity         60000000.0   \n",
       "\n",
       "   domestic_gross  worldwide_gross  release_day_y  release_month_y  \n",
       "0             NaN              NaN            NaN              NaN  \n",
       "1     217581232.0     4.948710e+08           26.0              3.0  \n",
       "2     312433331.0     6.211564e+08            7.0              5.0  \n",
       "3     191796233.0     3.645455e+08           22.0             11.0  \n",
       "4     292576195.0     8.355246e+08           16.0              7.0  \n",
       "5      88768303.0     2.230509e+08           12.0              2.0  \n",
       "6     760507625.0     2.776345e+09           18.0             12.0  \n",
       "7     415004880.0     1.068880e+09           18.0              6.0  \n",
       "8     251513985.0     5.434646e+08            9.0              7.0  \n",
       "9     148415853.0     3.218872e+08            5.0             11.0  \n",
       "10    245852179.0     5.113583e+08           19.0             11.0  \n",
       "11    334191110.0     1.025491e+09            5.0              3.0  \n",
       "12    103068524.0     2.682682e+08           13.0              8.0  \n",
       "13    200821936.0     5.864772e+08           24.0             11.0  \n",
       "14            NaN              NaN            NaN              NaN  \n",
       "15    300531751.0     7.061028e+08           30.0              6.0  \n",
       "16     94835059.0     1.587508e+08           15.0              1.0  \n",
       "17    176087450.0     3.110011e+08           23.0              7.0  \n",
       "18    128012934.0     2.994618e+08           19.0              2.0  \n",
       "19    121468960.0     2.143574e+08           14.0              6.0  \n",
       "\n",
       "[20 rows x 22 columns]"
      ]
     },
     "execution_count": 61,
     "metadata": {},
     "output_type": "execute_result"
    }
   ],
   "source": [
    "movie_collection = cleaned_tmdb.merge(cleaned_tn,\n",
    "                                      how='outer',\n",
    "                                      left_on=['title','release_year'],\n",
    "                                      right_on=['movie','release_year']) \n",
    "movie_collection.head(20)"
   ]
  },
  {
   "cell_type": "markdown",
   "metadata": {},
   "source": [
    "Okay, we can merge them fine. We will have to expand by merging and condense by eliminating / combining like columns. I'm thinking now that I would like to see what other information I can add to the TN dataset before merging. For example, we can use title_basics to add a tconst (better matching), the runtime, and genres. Then, since that table will have tconst, we can add information from the title_ratings dataframe. So, ( cleaned_tn <- title_basics ) <- title_ratings. Let's check them out pre merging:"
   ]
  },
  {
   "cell_type": "code",
   "execution_count": 62,
   "metadata": {
    "ExecuteTime": {
     "end_time": "2021-05-01T00:04:28.809099Z",
     "start_time": "2021-05-01T00:04:28.796165Z"
    }
   },
   "outputs": [
    {
     "data": {
      "text/html": [
       "<div>\n",
       "<style scoped>\n",
       "    .dataframe tbody tr th:only-of-type {\n",
       "        vertical-align: middle;\n",
       "    }\n",
       "\n",
       "    .dataframe tbody tr th {\n",
       "        vertical-align: top;\n",
       "    }\n",
       "\n",
       "    .dataframe thead th {\n",
       "        text-align: right;\n",
       "    }\n",
       "</style>\n",
       "<table border=\"1\" class=\"dataframe\">\n",
       "  <thead>\n",
       "    <tr style=\"text-align: right;\">\n",
       "      <th></th>\n",
       "      <th>tconst</th>\n",
       "      <th>primary_title</th>\n",
       "      <th>original_title</th>\n",
       "      <th>start_year</th>\n",
       "      <th>runtime_minutes</th>\n",
       "      <th>genres</th>\n",
       "    </tr>\n",
       "  </thead>\n",
       "  <tbody>\n",
       "    <tr>\n",
       "      <th>0</th>\n",
       "      <td>tt0063540</td>\n",
       "      <td>Sunghursh</td>\n",
       "      <td>Sunghursh</td>\n",
       "      <td>2013</td>\n",
       "      <td>175.0</td>\n",
       "      <td>Action,Crime,Drama</td>\n",
       "    </tr>\n",
       "    <tr>\n",
       "      <th>1</th>\n",
       "      <td>tt0066787</td>\n",
       "      <td>One Day Before the Rainy Season</td>\n",
       "      <td>Ashad Ka Ek Din</td>\n",
       "      <td>2019</td>\n",
       "      <td>114.0</td>\n",
       "      <td>Biography,Drama</td>\n",
       "    </tr>\n",
       "    <tr>\n",
       "      <th>2</th>\n",
       "      <td>tt0069049</td>\n",
       "      <td>The Other Side of the Wind</td>\n",
       "      <td>The Other Side of the Wind</td>\n",
       "      <td>2018</td>\n",
       "      <td>122.0</td>\n",
       "      <td>Drama</td>\n",
       "    </tr>\n",
       "    <tr>\n",
       "      <th>3</th>\n",
       "      <td>tt0069204</td>\n",
       "      <td>Sabse Bada Sukh</td>\n",
       "      <td>Sabse Bada Sukh</td>\n",
       "      <td>2018</td>\n",
       "      <td>NaN</td>\n",
       "      <td>Comedy,Drama</td>\n",
       "    </tr>\n",
       "    <tr>\n",
       "      <th>4</th>\n",
       "      <td>tt0100275</td>\n",
       "      <td>The Wandering Soap Opera</td>\n",
       "      <td>La Telenovela Errante</td>\n",
       "      <td>2017</td>\n",
       "      <td>80.0</td>\n",
       "      <td>Comedy,Drama,Fantasy</td>\n",
       "    </tr>\n",
       "  </tbody>\n",
       "</table>\n",
       "</div>"
      ],
      "text/plain": [
       "      tconst                    primary_title              original_title  \\\n",
       "0  tt0063540                        Sunghursh                   Sunghursh   \n",
       "1  tt0066787  One Day Before the Rainy Season             Ashad Ka Ek Din   \n",
       "2  tt0069049       The Other Side of the Wind  The Other Side of the Wind   \n",
       "3  tt0069204                  Sabse Bada Sukh             Sabse Bada Sukh   \n",
       "4  tt0100275         The Wandering Soap Opera       La Telenovela Errante   \n",
       "\n",
       "   start_year  runtime_minutes                genres  \n",
       "0        2013            175.0    Action,Crime,Drama  \n",
       "1        2019            114.0       Biography,Drama  \n",
       "2        2018            122.0                 Drama  \n",
       "3        2018              NaN          Comedy,Drama  \n",
       "4        2017             80.0  Comedy,Drama,Fantasy  "
      ]
     },
     "execution_count": 62,
     "metadata": {},
     "output_type": "execute_result"
    }
   ],
   "source": [
    "orig_dfs['title_basics'].head()"
   ]
  },
  {
   "cell_type": "code",
   "execution_count": 63,
   "metadata": {
    "ExecuteTime": {
     "end_time": "2021-05-01T00:04:31.306689Z",
     "start_time": "2021-05-01T00:04:31.282773Z"
    }
   },
   "outputs": [
    {
     "name": "stdout",
     "output_type": "stream",
     "text": [
      "<class 'pandas.core.frame.DataFrame'>\n",
      "RangeIndex: 146144 entries, 0 to 146143\n",
      "Data columns (total 6 columns):\n",
      " #   Column           Non-Null Count   Dtype  \n",
      "---  ------           --------------   -----  \n",
      " 0   tconst           146144 non-null  object \n",
      " 1   primary_title    146144 non-null  object \n",
      " 2   original_title   146123 non-null  object \n",
      " 3   start_year       146144 non-null  int64  \n",
      " 4   runtime_minutes  114405 non-null  float64\n",
      " 5   genres           140736 non-null  object \n",
      "dtypes: float64(1), int64(1), object(4)\n",
      "memory usage: 6.7+ MB\n"
     ]
    }
   ],
   "source": [
    "orig_dfs['title_basics'].info()"
   ]
  },
  {
   "cell_type": "code",
   "execution_count": 64,
   "metadata": {
    "ExecuteTime": {
     "end_time": "2021-05-01T00:04:31.771391Z",
     "start_time": "2021-05-01T00:04:31.740947Z"
    }
   },
   "outputs": [
    {
     "data": {
      "text/plain": [
       "146144"
      ]
     },
     "execution_count": 64,
     "metadata": {},
     "output_type": "execute_result"
    }
   ],
   "source": [
    "orig_dfs['title_basics'].tconst.nunique()"
   ]
  },
  {
   "cell_type": "markdown",
   "metadata": {},
   "source": [
    "Okay, so there are some missing values here and there, but the ones we will want to join on, tconst, titles and start_year are basically all there, and there are no duplicate rows based on tconst."
   ]
  },
  {
   "cell_type": "code",
   "execution_count": 65,
   "metadata": {
    "ExecuteTime": {
     "end_time": "2021-05-01T00:04:32.296245Z",
     "start_time": "2021-05-01T00:04:32.277787Z"
    }
   },
   "outputs": [
    {
     "data": {
      "text/html": [
       "<div>\n",
       "<style scoped>\n",
       "    .dataframe tbody tr th:only-of-type {\n",
       "        vertical-align: middle;\n",
       "    }\n",
       "\n",
       "    .dataframe tbody tr th {\n",
       "        vertical-align: top;\n",
       "    }\n",
       "\n",
       "    .dataframe thead th {\n",
       "        text-align: right;\n",
       "    }\n",
       "</style>\n",
       "<table border=\"1\" class=\"dataframe\">\n",
       "  <thead>\n",
       "    <tr style=\"text-align: right;\">\n",
       "      <th></th>\n",
       "      <th>tconst</th>\n",
       "      <th>averagerating</th>\n",
       "      <th>numvotes</th>\n",
       "    </tr>\n",
       "  </thead>\n",
       "  <tbody>\n",
       "    <tr>\n",
       "      <th>0</th>\n",
       "      <td>tt10356526</td>\n",
       "      <td>8.3</td>\n",
       "      <td>31</td>\n",
       "    </tr>\n",
       "    <tr>\n",
       "      <th>1</th>\n",
       "      <td>tt10384606</td>\n",
       "      <td>8.9</td>\n",
       "      <td>559</td>\n",
       "    </tr>\n",
       "    <tr>\n",
       "      <th>2</th>\n",
       "      <td>tt1042974</td>\n",
       "      <td>6.4</td>\n",
       "      <td>20</td>\n",
       "    </tr>\n",
       "    <tr>\n",
       "      <th>3</th>\n",
       "      <td>tt1043726</td>\n",
       "      <td>4.2</td>\n",
       "      <td>50352</td>\n",
       "    </tr>\n",
       "    <tr>\n",
       "      <th>4</th>\n",
       "      <td>tt1060240</td>\n",
       "      <td>6.5</td>\n",
       "      <td>21</td>\n",
       "    </tr>\n",
       "  </tbody>\n",
       "</table>\n",
       "</div>"
      ],
      "text/plain": [
       "       tconst  averagerating  numvotes\n",
       "0  tt10356526            8.3        31\n",
       "1  tt10384606            8.9       559\n",
       "2   tt1042974            6.4        20\n",
       "3   tt1043726            4.2     50352\n",
       "4   tt1060240            6.5        21"
      ]
     },
     "execution_count": 65,
     "metadata": {},
     "output_type": "execute_result"
    }
   ],
   "source": [
    "orig_dfs['title_ratings'].head()"
   ]
  },
  {
   "cell_type": "code",
   "execution_count": 66,
   "metadata": {
    "ExecuteTime": {
     "end_time": "2021-05-01T00:04:32.774990Z",
     "start_time": "2021-05-01T00:04:32.760491Z"
    }
   },
   "outputs": [
    {
     "name": "stdout",
     "output_type": "stream",
     "text": [
      "<class 'pandas.core.frame.DataFrame'>\n",
      "RangeIndex: 73856 entries, 0 to 73855\n",
      "Data columns (total 3 columns):\n",
      " #   Column         Non-Null Count  Dtype  \n",
      "---  ------         --------------  -----  \n",
      " 0   tconst         73856 non-null  object \n",
      " 1   averagerating  73856 non-null  float64\n",
      " 2   numvotes       73856 non-null  int64  \n",
      "dtypes: float64(1), int64(1), object(1)\n",
      "memory usage: 1.7+ MB\n"
     ]
    }
   ],
   "source": [
    "orig_dfs['title_ratings'].info()"
   ]
  },
  {
   "cell_type": "code",
   "execution_count": 67,
   "metadata": {
    "ExecuteTime": {
     "end_time": "2021-05-01T00:04:33.253812Z",
     "start_time": "2021-05-01T00:04:33.228908Z"
    }
   },
   "outputs": [
    {
     "data": {
      "text/plain": [
       "73856"
      ]
     },
     "execution_count": 67,
     "metadata": {},
     "output_type": "execute_result"
    }
   ],
   "source": [
    "orig_dfs['title_ratings'].tconst.nunique()"
   ]
  },
  {
   "cell_type": "markdown",
   "metadata": {},
   "source": [
    "The same seems to be true for title_ratings as well, though we have ratings information for many less movies than we have title basics for. Anyway, lets quickly merge the two title dataframes:"
   ]
  },
  {
   "cell_type": "code",
   "execution_count": 68,
   "metadata": {
    "ExecuteTime": {
     "end_time": "2021-05-01T00:04:35.638643Z",
     "start_time": "2021-05-01T00:04:35.545887Z"
    }
   },
   "outputs": [
    {
     "data": {
      "text/html": [
       "<div>\n",
       "<style scoped>\n",
       "    .dataframe tbody tr th:only-of-type {\n",
       "        vertical-align: middle;\n",
       "    }\n",
       "\n",
       "    .dataframe tbody tr th {\n",
       "        vertical-align: top;\n",
       "    }\n",
       "\n",
       "    .dataframe thead th {\n",
       "        text-align: right;\n",
       "    }\n",
       "</style>\n",
       "<table border=\"1\" class=\"dataframe\">\n",
       "  <thead>\n",
       "    <tr style=\"text-align: right;\">\n",
       "      <th></th>\n",
       "      <th>tconst</th>\n",
       "      <th>primary_title</th>\n",
       "      <th>original_title</th>\n",
       "      <th>start_year</th>\n",
       "      <th>runtime_minutes</th>\n",
       "      <th>genres</th>\n",
       "      <th>averagerating</th>\n",
       "      <th>numvotes</th>\n",
       "    </tr>\n",
       "  </thead>\n",
       "  <tbody>\n",
       "    <tr>\n",
       "      <th>0</th>\n",
       "      <td>tt0063540</td>\n",
       "      <td>Sunghursh</td>\n",
       "      <td>Sunghursh</td>\n",
       "      <td>2013</td>\n",
       "      <td>175.0</td>\n",
       "      <td>Action,Crime,Drama</td>\n",
       "      <td>7.0</td>\n",
       "      <td>77.0</td>\n",
       "    </tr>\n",
       "    <tr>\n",
       "      <th>1</th>\n",
       "      <td>tt0066787</td>\n",
       "      <td>One Day Before the Rainy Season</td>\n",
       "      <td>Ashad Ka Ek Din</td>\n",
       "      <td>2019</td>\n",
       "      <td>114.0</td>\n",
       "      <td>Biography,Drama</td>\n",
       "      <td>7.2</td>\n",
       "      <td>43.0</td>\n",
       "    </tr>\n",
       "    <tr>\n",
       "      <th>2</th>\n",
       "      <td>tt0069049</td>\n",
       "      <td>The Other Side of the Wind</td>\n",
       "      <td>The Other Side of the Wind</td>\n",
       "      <td>2018</td>\n",
       "      <td>122.0</td>\n",
       "      <td>Drama</td>\n",
       "      <td>6.9</td>\n",
       "      <td>4517.0</td>\n",
       "    </tr>\n",
       "    <tr>\n",
       "      <th>3</th>\n",
       "      <td>tt0069204</td>\n",
       "      <td>Sabse Bada Sukh</td>\n",
       "      <td>Sabse Bada Sukh</td>\n",
       "      <td>2018</td>\n",
       "      <td>NaN</td>\n",
       "      <td>Comedy,Drama</td>\n",
       "      <td>6.1</td>\n",
       "      <td>13.0</td>\n",
       "    </tr>\n",
       "    <tr>\n",
       "      <th>4</th>\n",
       "      <td>tt0100275</td>\n",
       "      <td>The Wandering Soap Opera</td>\n",
       "      <td>La Telenovela Errante</td>\n",
       "      <td>2017</td>\n",
       "      <td>80.0</td>\n",
       "      <td>Comedy,Drama,Fantasy</td>\n",
       "      <td>6.5</td>\n",
       "      <td>119.0</td>\n",
       "    </tr>\n",
       "    <tr>\n",
       "      <th>5</th>\n",
       "      <td>tt0111414</td>\n",
       "      <td>A Thin Life</td>\n",
       "      <td>A Thin Life</td>\n",
       "      <td>2018</td>\n",
       "      <td>75.0</td>\n",
       "      <td>Comedy</td>\n",
       "      <td>NaN</td>\n",
       "      <td>NaN</td>\n",
       "    </tr>\n",
       "    <tr>\n",
       "      <th>6</th>\n",
       "      <td>tt0112502</td>\n",
       "      <td>Bigfoot</td>\n",
       "      <td>Bigfoot</td>\n",
       "      <td>2017</td>\n",
       "      <td>NaN</td>\n",
       "      <td>Horror,Thriller</td>\n",
       "      <td>4.1</td>\n",
       "      <td>32.0</td>\n",
       "    </tr>\n",
       "    <tr>\n",
       "      <th>7</th>\n",
       "      <td>tt0137204</td>\n",
       "      <td>Joe Finds Grace</td>\n",
       "      <td>Joe Finds Grace</td>\n",
       "      <td>2017</td>\n",
       "      <td>83.0</td>\n",
       "      <td>Adventure,Animation,Comedy</td>\n",
       "      <td>8.1</td>\n",
       "      <td>263.0</td>\n",
       "    </tr>\n",
       "    <tr>\n",
       "      <th>8</th>\n",
       "      <td>tt0139613</td>\n",
       "      <td>O Silêncio</td>\n",
       "      <td>O Silêncio</td>\n",
       "      <td>2012</td>\n",
       "      <td>NaN</td>\n",
       "      <td>Documentary,History</td>\n",
       "      <td>NaN</td>\n",
       "      <td>NaN</td>\n",
       "    </tr>\n",
       "    <tr>\n",
       "      <th>9</th>\n",
       "      <td>tt0144449</td>\n",
       "      <td>Nema aviona za Zagreb</td>\n",
       "      <td>Nema aviona za Zagreb</td>\n",
       "      <td>2012</td>\n",
       "      <td>82.0</td>\n",
       "      <td>Biography</td>\n",
       "      <td>NaN</td>\n",
       "      <td>NaN</td>\n",
       "    </tr>\n",
       "    <tr>\n",
       "      <th>10</th>\n",
       "      <td>tt0146592</td>\n",
       "      <td>Pál Adrienn</td>\n",
       "      <td>Pál Adrienn</td>\n",
       "      <td>2010</td>\n",
       "      <td>136.0</td>\n",
       "      <td>Drama</td>\n",
       "      <td>6.8</td>\n",
       "      <td>451.0</td>\n",
       "    </tr>\n",
       "    <tr>\n",
       "      <th>11</th>\n",
       "      <td>tt0154039</td>\n",
       "      <td>So Much for Justice!</td>\n",
       "      <td>Oda az igazság</td>\n",
       "      <td>2010</td>\n",
       "      <td>100.0</td>\n",
       "      <td>History</td>\n",
       "      <td>4.6</td>\n",
       "      <td>64.0</td>\n",
       "    </tr>\n",
       "    <tr>\n",
       "      <th>12</th>\n",
       "      <td>tt0159369</td>\n",
       "      <td>Cooper and Hemingway: The True Gen</td>\n",
       "      <td>Cooper and Hemingway: The True Gen</td>\n",
       "      <td>2013</td>\n",
       "      <td>180.0</td>\n",
       "      <td>Documentary</td>\n",
       "      <td>7.6</td>\n",
       "      <td>53.0</td>\n",
       "    </tr>\n",
       "    <tr>\n",
       "      <th>13</th>\n",
       "      <td>tt0162942</td>\n",
       "      <td>Children of the Green Dragon</td>\n",
       "      <td>A zöld sárkány gyermekei</td>\n",
       "      <td>2010</td>\n",
       "      <td>89.0</td>\n",
       "      <td>Drama</td>\n",
       "      <td>6.9</td>\n",
       "      <td>120.0</td>\n",
       "    </tr>\n",
       "    <tr>\n",
       "      <th>14</th>\n",
       "      <td>tt0170651</td>\n",
       "      <td>T.G.M. - osvoboditel</td>\n",
       "      <td>T.G.M. - osvoboditel</td>\n",
       "      <td>2018</td>\n",
       "      <td>60.0</td>\n",
       "      <td>Documentary</td>\n",
       "      <td>7.5</td>\n",
       "      <td>6.0</td>\n",
       "    </tr>\n",
       "    <tr>\n",
       "      <th>15</th>\n",
       "      <td>tt0176694</td>\n",
       "      <td>The Tragedy of Man</td>\n",
       "      <td>Az ember tragédiája</td>\n",
       "      <td>2011</td>\n",
       "      <td>160.0</td>\n",
       "      <td>Animation,Drama,History</td>\n",
       "      <td>7.8</td>\n",
       "      <td>584.0</td>\n",
       "    </tr>\n",
       "    <tr>\n",
       "      <th>16</th>\n",
       "      <td>tt0187902</td>\n",
       "      <td>How Huang Fei-hong Rescued the Orphan from the...</td>\n",
       "      <td>How Huang Fei-hong Rescued the Orphan from the...</td>\n",
       "      <td>2011</td>\n",
       "      <td>NaN</td>\n",
       "      <td>NaN</td>\n",
       "      <td>NaN</td>\n",
       "      <td>NaN</td>\n",
       "    </tr>\n",
       "    <tr>\n",
       "      <th>17</th>\n",
       "      <td>tt0192528</td>\n",
       "      <td>Heaven &amp; Hell</td>\n",
       "      <td>Reverse Heaven</td>\n",
       "      <td>2018</td>\n",
       "      <td>104.0</td>\n",
       "      <td>Drama</td>\n",
       "      <td>4.0</td>\n",
       "      <td>72.0</td>\n",
       "    </tr>\n",
       "    <tr>\n",
       "      <th>18</th>\n",
       "      <td>tt0230212</td>\n",
       "      <td>The Final Journey</td>\n",
       "      <td>The Final Journey</td>\n",
       "      <td>2010</td>\n",
       "      <td>120.0</td>\n",
       "      <td>Drama</td>\n",
       "      <td>8.8</td>\n",
       "      <td>8.0</td>\n",
       "    </tr>\n",
       "    <tr>\n",
       "      <th>19</th>\n",
       "      <td>tt0247643</td>\n",
       "      <td>Los pájaros se van con la muerte</td>\n",
       "      <td>Los pájaros se van con la muerte</td>\n",
       "      <td>2011</td>\n",
       "      <td>110.0</td>\n",
       "      <td>Drama,Mystery</td>\n",
       "      <td>4.0</td>\n",
       "      <td>12.0</td>\n",
       "    </tr>\n",
       "  </tbody>\n",
       "</table>\n",
       "</div>"
      ],
      "text/plain": [
       "       tconst                                      primary_title  \\\n",
       "0   tt0063540                                          Sunghursh   \n",
       "1   tt0066787                    One Day Before the Rainy Season   \n",
       "2   tt0069049                         The Other Side of the Wind   \n",
       "3   tt0069204                                    Sabse Bada Sukh   \n",
       "4   tt0100275                           The Wandering Soap Opera   \n",
       "5   tt0111414                                        A Thin Life   \n",
       "6   tt0112502                                            Bigfoot   \n",
       "7   tt0137204                                    Joe Finds Grace   \n",
       "8   tt0139613                                         O Silêncio   \n",
       "9   tt0144449                              Nema aviona za Zagreb   \n",
       "10  tt0146592                                        Pál Adrienn   \n",
       "11  tt0154039                               So Much for Justice!   \n",
       "12  tt0159369                 Cooper and Hemingway: The True Gen   \n",
       "13  tt0162942                       Children of the Green Dragon   \n",
       "14  tt0170651                               T.G.M. - osvoboditel   \n",
       "15  tt0176694                                 The Tragedy of Man   \n",
       "16  tt0187902  How Huang Fei-hong Rescued the Orphan from the...   \n",
       "17  tt0192528                                      Heaven & Hell   \n",
       "18  tt0230212                                  The Final Journey   \n",
       "19  tt0247643                   Los pájaros se van con la muerte   \n",
       "\n",
       "                                       original_title  start_year  \\\n",
       "0                                           Sunghursh        2013   \n",
       "1                                     Ashad Ka Ek Din        2019   \n",
       "2                          The Other Side of the Wind        2018   \n",
       "3                                     Sabse Bada Sukh        2018   \n",
       "4                               La Telenovela Errante        2017   \n",
       "5                                         A Thin Life        2018   \n",
       "6                                             Bigfoot        2017   \n",
       "7                                     Joe Finds Grace        2017   \n",
       "8                                          O Silêncio        2012   \n",
       "9                               Nema aviona za Zagreb        2012   \n",
       "10                                        Pál Adrienn        2010   \n",
       "11                                     Oda az igazság        2010   \n",
       "12                 Cooper and Hemingway: The True Gen        2013   \n",
       "13                           A zöld sárkány gyermekei        2010   \n",
       "14                               T.G.M. - osvoboditel        2018   \n",
       "15                                Az ember tragédiája        2011   \n",
       "16  How Huang Fei-hong Rescued the Orphan from the...        2011   \n",
       "17                                     Reverse Heaven        2018   \n",
       "18                                  The Final Journey        2010   \n",
       "19                   Los pájaros se van con la muerte        2011   \n",
       "\n",
       "    runtime_minutes                      genres  averagerating  numvotes  \n",
       "0             175.0          Action,Crime,Drama            7.0      77.0  \n",
       "1             114.0             Biography,Drama            7.2      43.0  \n",
       "2             122.0                       Drama            6.9    4517.0  \n",
       "3               NaN                Comedy,Drama            6.1      13.0  \n",
       "4              80.0        Comedy,Drama,Fantasy            6.5     119.0  \n",
       "5              75.0                      Comedy            NaN       NaN  \n",
       "6               NaN             Horror,Thriller            4.1      32.0  \n",
       "7              83.0  Adventure,Animation,Comedy            8.1     263.0  \n",
       "8               NaN         Documentary,History            NaN       NaN  \n",
       "9              82.0                   Biography            NaN       NaN  \n",
       "10            136.0                       Drama            6.8     451.0  \n",
       "11            100.0                     History            4.6      64.0  \n",
       "12            180.0                 Documentary            7.6      53.0  \n",
       "13             89.0                       Drama            6.9     120.0  \n",
       "14             60.0                 Documentary            7.5       6.0  \n",
       "15            160.0     Animation,Drama,History            7.8     584.0  \n",
       "16              NaN                         NaN            NaN       NaN  \n",
       "17            104.0                       Drama            4.0      72.0  \n",
       "18            120.0                       Drama            8.8       8.0  \n",
       "19            110.0               Drama,Mystery            4.0      12.0  "
      ]
     },
     "execution_count": 68,
     "metadata": {},
     "output_type": "execute_result"
    }
   ],
   "source": [
    "titles_plus_ratings = orig_dfs['title_basics'].merge(orig_dfs['title_ratings'],\n",
    "                                                     how='left',\n",
    "                                                     on='tconst')\n",
    "titles_plus_ratings.head(20)"
   ]
  },
  {
   "cell_type": "code",
   "execution_count": 69,
   "metadata": {
    "ExecuteTime": {
     "end_time": "2021-05-01T00:04:37.590525Z",
     "start_time": "2021-05-01T00:04:37.551603Z"
    }
   },
   "outputs": [
    {
     "data": {
      "text/plain": [
       "80424"
      ]
     },
     "execution_count": 69,
     "metadata": {},
     "output_type": "execute_result"
    }
   ],
   "source": [
    "titles_plus_ratings.shape[0] - titles_plus_ratings.dropna().shape[0]"
   ]
  },
  {
   "cell_type": "code",
   "execution_count": 70,
   "metadata": {
    "ExecuteTime": {
     "end_time": "2021-05-01T00:04:38.084120Z",
     "start_time": "2021-05-01T00:04:38.053832Z"
    }
   },
   "outputs": [
    {
     "data": {
      "text/plain": [
       "146144"
      ]
     },
     "execution_count": 70,
     "metadata": {},
     "output_type": "execute_result"
    }
   ],
   "source": [
    "titles_plus_ratings.tconst.nunique()"
   ]
  },
  {
   "cell_type": "markdown",
   "metadata": {},
   "source": [
    "So, there are a majority of rows without complete information, but when we merge with cleaned_tn it may not matter."
   ]
  },
  {
   "cell_type": "code",
   "execution_count": 71,
   "metadata": {
    "ExecuteTime": {
     "end_time": "2021-05-01T00:04:40.747979Z",
     "start_time": "2021-05-01T00:04:40.744961Z"
    }
   },
   "outputs": [
    {
     "data": {
      "text/plain": [
       "(5234, 7)"
      ]
     },
     "execution_count": 71,
     "metadata": {},
     "output_type": "execute_result"
    }
   ],
   "source": [
    "cleaned_tn.shape"
   ]
  },
  {
   "cell_type": "code",
   "execution_count": 72,
   "metadata": {
    "ExecuteTime": {
     "end_time": "2021-05-01T00:04:41.289889Z",
     "start_time": "2021-05-01T00:04:41.248664Z"
    }
   },
   "outputs": [],
   "source": [
    "diff_titles = titles_plus_ratings.loc[titles_plus_ratings.primary_title != titles_plus_ratings.original_title]\n",
    "same_titles = titles_plus_ratings.loc[titles_plus_ratings.primary_title == titles_plus_ratings.original_title]"
   ]
  },
  {
   "cell_type": "code",
   "execution_count": 73,
   "metadata": {
    "ExecuteTime": {
     "end_time": "2021-05-01T00:04:41.830589Z",
     "start_time": "2021-05-01T00:04:41.784411Z"
    }
   },
   "outputs": [],
   "source": [
    "diff_tn1 = cleaned_tn.merge(diff_titles,\n",
    "                            how='inner',\n",
    "                            left_on=['movie', 'release_year'],\n",
    "                            right_on=['primary_title', 'start_year'])\n",
    "diff_tn2 = cleaned_tn.merge(diff_titles,\n",
    "                            how='inner',\n",
    "                            left_on=['movie', 'release_year'],\n",
    "                            right_on=['original_title', 'start_year'])\n",
    "same_tn1 = cleaned_tn.merge(same_titles,\n",
    "                            how='inner',\n",
    "                            left_on=['movie', 'release_year'],\n",
    "                            right_on=['original_title', 'start_year'])"
   ]
  },
  {
   "cell_type": "code",
   "execution_count": 74,
   "metadata": {
    "ExecuteTime": {
     "end_time": "2021-05-01T00:04:42.463818Z",
     "start_time": "2021-05-01T00:04:42.449257Z"
    }
   },
   "outputs": [
    {
     "data": {
      "text/plain": [
       "(32, 15)"
      ]
     },
     "execution_count": 74,
     "metadata": {},
     "output_type": "execute_result"
    }
   ],
   "source": [
    "diff_tn1.shape"
   ]
  },
  {
   "cell_type": "code",
   "execution_count": 75,
   "metadata": {
    "ExecuteTime": {
     "end_time": "2021-05-01T00:04:43.066119Z",
     "start_time": "2021-05-01T00:04:43.052132Z"
    }
   },
   "outputs": [
    {
     "data": {
      "text/plain": [
       "(18, 15)"
      ]
     },
     "execution_count": 75,
     "metadata": {},
     "output_type": "execute_result"
    }
   ],
   "source": [
    "diff_tn2.shape"
   ]
  },
  {
   "cell_type": "code",
   "execution_count": 76,
   "metadata": {
    "ExecuteTime": {
     "end_time": "2021-05-01T00:04:45.328082Z",
     "start_time": "2021-05-01T00:04:45.321070Z"
    }
   },
   "outputs": [
    {
     "data": {
      "text/plain": [
       "(1338, 15)"
      ]
     },
     "execution_count": 76,
     "metadata": {},
     "output_type": "execute_result"
    }
   ],
   "source": [
    "same_tn1.shape"
   ]
  },
  {
   "cell_type": "code",
   "execution_count": 77,
   "metadata": {
    "ExecuteTime": {
     "end_time": "2021-05-01T00:04:45.943085Z",
     "start_time": "2021-05-01T00:04:45.928499Z"
    }
   },
   "outputs": [],
   "source": [
    "buffed_tn = pd.concat([diff_tn1,diff_tn2,same_tn1])"
   ]
  },
  {
   "cell_type": "code",
   "execution_count": 78,
   "metadata": {
    "ExecuteTime": {
     "end_time": "2021-05-01T00:04:46.574420Z",
     "start_time": "2021-05-01T00:04:46.560481Z"
    }
   },
   "outputs": [
    {
     "data": {
      "text/html": [
       "<div>\n",
       "<style scoped>\n",
       "    .dataframe tbody tr th:only-of-type {\n",
       "        vertical-align: middle;\n",
       "    }\n",
       "\n",
       "    .dataframe tbody tr th {\n",
       "        vertical-align: top;\n",
       "    }\n",
       "\n",
       "    .dataframe thead th {\n",
       "        text-align: right;\n",
       "    }\n",
       "</style>\n",
       "<table border=\"1\" class=\"dataframe\">\n",
       "  <thead>\n",
       "    <tr style=\"text-align: right;\">\n",
       "      <th></th>\n",
       "      <th>movie</th>\n",
       "      <th>production_budget</th>\n",
       "      <th>domestic_gross</th>\n",
       "      <th>worldwide_gross</th>\n",
       "      <th>release_day</th>\n",
       "      <th>release_month</th>\n",
       "      <th>release_year</th>\n",
       "      <th>tconst</th>\n",
       "      <th>primary_title</th>\n",
       "      <th>original_title</th>\n",
       "      <th>start_year</th>\n",
       "      <th>runtime_minutes</th>\n",
       "      <th>genres</th>\n",
       "      <th>averagerating</th>\n",
       "      <th>numvotes</th>\n",
       "    </tr>\n",
       "  </thead>\n",
       "  <tbody>\n",
       "    <tr>\n",
       "      <th>0</th>\n",
       "      <td>Rogue One: A Star Wars Story</td>\n",
       "      <td>200000000</td>\n",
       "      <td>532177324</td>\n",
       "      <td>1049102856</td>\n",
       "      <td>16</td>\n",
       "      <td>12</td>\n",
       "      <td>2016</td>\n",
       "      <td>tt3748528</td>\n",
       "      <td>Rogue One: A Star Wars Story</td>\n",
       "      <td>Rogue One</td>\n",
       "      <td>2016</td>\n",
       "      <td>133.0</td>\n",
       "      <td>Action,Adventure,Sci-Fi</td>\n",
       "      <td>7.8</td>\n",
       "      <td>478592.0</td>\n",
       "    </tr>\n",
       "    <tr>\n",
       "      <th>1</th>\n",
       "      <td>Iron Man 3</td>\n",
       "      <td>200000000</td>\n",
       "      <td>408992272</td>\n",
       "      <td>1215392272</td>\n",
       "      <td>3</td>\n",
       "      <td>5</td>\n",
       "      <td>2013</td>\n",
       "      <td>tt1300854</td>\n",
       "      <td>Iron Man 3</td>\n",
       "      <td>Iron Man Three</td>\n",
       "      <td>2013</td>\n",
       "      <td>130.0</td>\n",
       "      <td>Action,Adventure,Sci-Fi</td>\n",
       "      <td>7.2</td>\n",
       "      <td>692794.0</td>\n",
       "    </tr>\n",
       "    <tr>\n",
       "      <th>2</th>\n",
       "      <td>Furious 7</td>\n",
       "      <td>190000000</td>\n",
       "      <td>353007020</td>\n",
       "      <td>1518722794</td>\n",
       "      <td>3</td>\n",
       "      <td>4</td>\n",
       "      <td>2015</td>\n",
       "      <td>tt2820852</td>\n",
       "      <td>Furious 7</td>\n",
       "      <td>Furious Seven</td>\n",
       "      <td>2015</td>\n",
       "      <td>137.0</td>\n",
       "      <td>Action,Crime,Thriller</td>\n",
       "      <td>7.2</td>\n",
       "      <td>335074.0</td>\n",
       "    </tr>\n",
       "    <tr>\n",
       "      <th>3</th>\n",
       "      <td>X-Men: First Class</td>\n",
       "      <td>160000000</td>\n",
       "      <td>146408305</td>\n",
       "      <td>355408305</td>\n",
       "      <td>3</td>\n",
       "      <td>6</td>\n",
       "      <td>2011</td>\n",
       "      <td>tt1270798</td>\n",
       "      <td>X-Men: First Class</td>\n",
       "      <td>X: First Class</td>\n",
       "      <td>2011</td>\n",
       "      <td>131.0</td>\n",
       "      <td>Action,Adventure,Sci-Fi</td>\n",
       "      <td>7.7</td>\n",
       "      <td>608930.0</td>\n",
       "    </tr>\n",
       "    <tr>\n",
       "      <th>4</th>\n",
       "      <td>Home</td>\n",
       "      <td>130000000</td>\n",
       "      <td>177397510</td>\n",
       "      <td>385997896</td>\n",
       "      <td>27</td>\n",
       "      <td>3</td>\n",
       "      <td>2015</td>\n",
       "      <td>tt5775862</td>\n",
       "      <td>Home</td>\n",
       "      <td>Innocent</td>\n",
       "      <td>2015</td>\n",
       "      <td>4.0</td>\n",
       "      <td>Drama</td>\n",
       "      <td>NaN</td>\n",
       "      <td>NaN</td>\n",
       "    </tr>\n",
       "  </tbody>\n",
       "</table>\n",
       "</div>"
      ],
      "text/plain": [
       "                          movie  production_budget  domestic_gross  \\\n",
       "0  Rogue One: A Star Wars Story          200000000       532177324   \n",
       "1                    Iron Man 3          200000000       408992272   \n",
       "2                     Furious 7          190000000       353007020   \n",
       "3            X-Men: First Class          160000000       146408305   \n",
       "4                          Home          130000000       177397510   \n",
       "\n",
       "   worldwide_gross  release_day  release_month  release_year     tconst  \\\n",
       "0       1049102856           16             12          2016  tt3748528   \n",
       "1       1215392272            3              5          2013  tt1300854   \n",
       "2       1518722794            3              4          2015  tt2820852   \n",
       "3        355408305            3              6          2011  tt1270798   \n",
       "4        385997896           27              3          2015  tt5775862   \n",
       "\n",
       "                  primary_title  original_title  start_year  runtime_minutes  \\\n",
       "0  Rogue One: A Star Wars Story       Rogue One        2016            133.0   \n",
       "1                    Iron Man 3  Iron Man Three        2013            130.0   \n",
       "2                     Furious 7   Furious Seven        2015            137.0   \n",
       "3            X-Men: First Class  X: First Class        2011            131.0   \n",
       "4                          Home        Innocent        2015              4.0   \n",
       "\n",
       "                    genres  averagerating  numvotes  \n",
       "0  Action,Adventure,Sci-Fi            7.8  478592.0  \n",
       "1  Action,Adventure,Sci-Fi            7.2  692794.0  \n",
       "2    Action,Crime,Thriller            7.2  335074.0  \n",
       "3  Action,Adventure,Sci-Fi            7.7  608930.0  \n",
       "4                    Drama            NaN       NaN  "
      ]
     },
     "execution_count": 78,
     "metadata": {},
     "output_type": "execute_result"
    }
   ],
   "source": [
    "buffed_tn.head()"
   ]
  },
  {
   "cell_type": "code",
   "execution_count": 79,
   "metadata": {
    "ExecuteTime": {
     "end_time": "2021-05-01T00:04:48.292359Z",
     "start_time": "2021-05-01T00:04:48.275833Z"
    }
   },
   "outputs": [
    {
     "data": {
      "text/plain": [
       "(1388, 15)"
      ]
     },
     "execution_count": 79,
     "metadata": {},
     "output_type": "execute_result"
    }
   ],
   "source": [
    "buffed_tn.shape"
   ]
  },
  {
   "cell_type": "code",
   "execution_count": 80,
   "metadata": {
    "ExecuteTime": {
     "end_time": "2021-05-01T00:04:48.939811Z",
     "start_time": "2021-05-01T00:04:48.925303Z"
    }
   },
   "outputs": [
    {
     "name": "stdout",
     "output_type": "stream",
     "text": [
      "<class 'pandas.core.frame.DataFrame'>\n",
      "Int64Index: 1388 entries, 0 to 1337\n",
      "Data columns (total 15 columns):\n",
      " #   Column             Non-Null Count  Dtype  \n",
      "---  ------             --------------  -----  \n",
      " 0   movie              1388 non-null   object \n",
      " 1   production_budget  1388 non-null   int64  \n",
      " 2   domestic_gross     1388 non-null   int64  \n",
      " 3   worldwide_gross    1388 non-null   int64  \n",
      " 4   release_day        1388 non-null   int64  \n",
      " 5   release_month      1388 non-null   int64  \n",
      " 6   release_year       1388 non-null   int64  \n",
      " 7   tconst             1388 non-null   object \n",
      " 8   primary_title      1388 non-null   object \n",
      " 9   original_title     1388 non-null   object \n",
      " 10  start_year         1388 non-null   int64  \n",
      " 11  runtime_minutes    1375 non-null   float64\n",
      " 12  genres             1385 non-null   object \n",
      " 13  averagerating      1360 non-null   float64\n",
      " 14  numvotes           1360 non-null   float64\n",
      "dtypes: float64(3), int64(7), object(5)\n",
      "memory usage: 173.5+ KB\n"
     ]
    }
   ],
   "source": [
    "buffed_tn.info()"
   ]
  },
  {
   "cell_type": "markdown",
   "metadata": {},
   "source": [
    "Okay, we had a few rows sneak in from titles_plus_ratings where we had nulls for some of the values, so let's ditch those few rows."
   ]
  },
  {
   "cell_type": "code",
   "execution_count": 81,
   "metadata": {
    "ExecuteTime": {
     "end_time": "2021-05-01T00:04:50.316706Z",
     "start_time": "2021-05-01T00:04:50.306226Z"
    }
   },
   "outputs": [
    {
     "name": "stdout",
     "output_type": "stream",
     "text": [
      "<class 'pandas.core.frame.DataFrame'>\n",
      "RangeIndex: 1355 entries, 0 to 1354\n",
      "Data columns (total 15 columns):\n",
      " #   Column             Non-Null Count  Dtype  \n",
      "---  ------             --------------  -----  \n",
      " 0   movie              1355 non-null   object \n",
      " 1   production_budget  1355 non-null   int64  \n",
      " 2   domestic_gross     1355 non-null   int64  \n",
      " 3   worldwide_gross    1355 non-null   int64  \n",
      " 4   release_day        1355 non-null   int64  \n",
      " 5   release_month      1355 non-null   int64  \n",
      " 6   release_year       1355 non-null   int64  \n",
      " 7   tconst             1355 non-null   object \n",
      " 8   primary_title      1355 non-null   object \n",
      " 9   original_title     1355 non-null   object \n",
      " 10  start_year         1355 non-null   int64  \n",
      " 11  runtime_minutes    1355 non-null   float64\n",
      " 12  genres             1355 non-null   object \n",
      " 13  averagerating      1355 non-null   float64\n",
      " 14  numvotes           1355 non-null   float64\n",
      "dtypes: float64(3), int64(7), object(5)\n",
      "memory usage: 158.9+ KB\n"
     ]
    }
   ],
   "source": [
    "buffed_tn = buffed_tn.dropna(axis = 0)\n",
    "buffed_tn = buffed_tn.reset_index()\n",
    "buffed_tn = buffed_tn.drop(columns = 'index')\n",
    "buffed_tn.info()"
   ]
  },
  {
   "cell_type": "code",
   "execution_count": 82,
   "metadata": {
    "ExecuteTime": {
     "end_time": "2021-05-01T00:04:52.079113Z",
     "start_time": "2021-05-01T00:04:52.057157Z"
    }
   },
   "outputs": [
    {
     "data": {
      "text/html": [
       "<div>\n",
       "<style scoped>\n",
       "    .dataframe tbody tr th:only-of-type {\n",
       "        vertical-align: middle;\n",
       "    }\n",
       "\n",
       "    .dataframe tbody tr th {\n",
       "        vertical-align: top;\n",
       "    }\n",
       "\n",
       "    .dataframe thead th {\n",
       "        text-align: right;\n",
       "    }\n",
       "</style>\n",
       "<table border=\"1\" class=\"dataframe\">\n",
       "  <thead>\n",
       "    <tr style=\"text-align: right;\">\n",
       "      <th></th>\n",
       "      <th>movie</th>\n",
       "      <th>production_budget</th>\n",
       "      <th>domestic_gross</th>\n",
       "      <th>worldwide_gross</th>\n",
       "      <th>release_day</th>\n",
       "      <th>release_month</th>\n",
       "      <th>release_year</th>\n",
       "      <th>tconst</th>\n",
       "      <th>primary_title</th>\n",
       "      <th>original_title</th>\n",
       "      <th>start_year</th>\n",
       "      <th>runtime_minutes</th>\n",
       "      <th>genres</th>\n",
       "      <th>averagerating</th>\n",
       "      <th>numvotes</th>\n",
       "    </tr>\n",
       "  </thead>\n",
       "  <tbody>\n",
       "    <tr>\n",
       "      <th>0</th>\n",
       "      <td>Rogue One: A Star Wars Story</td>\n",
       "      <td>200000000</td>\n",
       "      <td>532177324</td>\n",
       "      <td>1049102856</td>\n",
       "      <td>16</td>\n",
       "      <td>12</td>\n",
       "      <td>2016</td>\n",
       "      <td>tt3748528</td>\n",
       "      <td>Rogue One: A Star Wars Story</td>\n",
       "      <td>Rogue One</td>\n",
       "      <td>2016</td>\n",
       "      <td>133.0</td>\n",
       "      <td>Action,Adventure,Sci-Fi</td>\n",
       "      <td>7.8</td>\n",
       "      <td>478592.0</td>\n",
       "    </tr>\n",
       "    <tr>\n",
       "      <th>1</th>\n",
       "      <td>Iron Man 3</td>\n",
       "      <td>200000000</td>\n",
       "      <td>408992272</td>\n",
       "      <td>1215392272</td>\n",
       "      <td>3</td>\n",
       "      <td>5</td>\n",
       "      <td>2013</td>\n",
       "      <td>tt1300854</td>\n",
       "      <td>Iron Man 3</td>\n",
       "      <td>Iron Man Three</td>\n",
       "      <td>2013</td>\n",
       "      <td>130.0</td>\n",
       "      <td>Action,Adventure,Sci-Fi</td>\n",
       "      <td>7.2</td>\n",
       "      <td>692794.0</td>\n",
       "    </tr>\n",
       "    <tr>\n",
       "      <th>2</th>\n",
       "      <td>Furious 7</td>\n",
       "      <td>190000000</td>\n",
       "      <td>353007020</td>\n",
       "      <td>1518722794</td>\n",
       "      <td>3</td>\n",
       "      <td>4</td>\n",
       "      <td>2015</td>\n",
       "      <td>tt2820852</td>\n",
       "      <td>Furious 7</td>\n",
       "      <td>Furious Seven</td>\n",
       "      <td>2015</td>\n",
       "      <td>137.0</td>\n",
       "      <td>Action,Crime,Thriller</td>\n",
       "      <td>7.2</td>\n",
       "      <td>335074.0</td>\n",
       "    </tr>\n",
       "    <tr>\n",
       "      <th>3</th>\n",
       "      <td>X-Men: First Class</td>\n",
       "      <td>160000000</td>\n",
       "      <td>146408305</td>\n",
       "      <td>355408305</td>\n",
       "      <td>3</td>\n",
       "      <td>6</td>\n",
       "      <td>2011</td>\n",
       "      <td>tt1270798</td>\n",
       "      <td>X-Men: First Class</td>\n",
       "      <td>X: First Class</td>\n",
       "      <td>2011</td>\n",
       "      <td>131.0</td>\n",
       "      <td>Action,Adventure,Sci-Fi</td>\n",
       "      <td>7.7</td>\n",
       "      <td>608930.0</td>\n",
       "    </tr>\n",
       "    <tr>\n",
       "      <th>4</th>\n",
       "      <td>The Promise</td>\n",
       "      <td>90000000</td>\n",
       "      <td>8224288</td>\n",
       "      <td>10551417</td>\n",
       "      <td>21</td>\n",
       "      <td>4</td>\n",
       "      <td>2017</td>\n",
       "      <td>tt7232438</td>\n",
       "      <td>The Promise</td>\n",
       "      <td>Puen Tee Raluek</td>\n",
       "      <td>2017</td>\n",
       "      <td>114.0</td>\n",
       "      <td>Drama,Horror,Thriller</td>\n",
       "      <td>6.1</td>\n",
       "      <td>629.0</td>\n",
       "    </tr>\n",
       "  </tbody>\n",
       "</table>\n",
       "</div>"
      ],
      "text/plain": [
       "                          movie  production_budget  domestic_gross  \\\n",
       "0  Rogue One: A Star Wars Story          200000000       532177324   \n",
       "1                    Iron Man 3          200000000       408992272   \n",
       "2                     Furious 7          190000000       353007020   \n",
       "3            X-Men: First Class          160000000       146408305   \n",
       "4                   The Promise           90000000         8224288   \n",
       "\n",
       "   worldwide_gross  release_day  release_month  release_year     tconst  \\\n",
       "0       1049102856           16             12          2016  tt3748528   \n",
       "1       1215392272            3              5          2013  tt1300854   \n",
       "2       1518722794            3              4          2015  tt2820852   \n",
       "3        355408305            3              6          2011  tt1270798   \n",
       "4         10551417           21              4          2017  tt7232438   \n",
       "\n",
       "                  primary_title   original_title  start_year  runtime_minutes  \\\n",
       "0  Rogue One: A Star Wars Story        Rogue One        2016            133.0   \n",
       "1                    Iron Man 3   Iron Man Three        2013            130.0   \n",
       "2                     Furious 7    Furious Seven        2015            137.0   \n",
       "3            X-Men: First Class   X: First Class        2011            131.0   \n",
       "4                   The Promise  Puen Tee Raluek        2017            114.0   \n",
       "\n",
       "                    genres  averagerating  numvotes  \n",
       "0  Action,Adventure,Sci-Fi            7.8  478592.0  \n",
       "1  Action,Adventure,Sci-Fi            7.2  692794.0  \n",
       "2    Action,Crime,Thriller            7.2  335074.0  \n",
       "3  Action,Adventure,Sci-Fi            7.7  608930.0  \n",
       "4    Drama,Horror,Thriller            6.1     629.0  "
      ]
     },
     "execution_count": 82,
     "metadata": {},
     "output_type": "execute_result"
    }
   ],
   "source": [
    "buffed_tn.head()"
   ]
  },
  {
   "cell_type": "markdown",
   "metadata": {},
   "source": [
    "Okay, so now we finally have two dataframes with as much categorical and numerical information for their repective movies as is currently possible, buffed_tn and cleaned_tmdb. We should be able to easily concatenate these and then remove duplicate rows based on tconst. Let's make them both contain all the same columns in the same order to prepare for concatenating."
   ]
  },
  {
   "cell_type": "code",
   "execution_count": 83,
   "metadata": {
    "ExecuteTime": {
     "end_time": "2021-05-01T00:04:55.687674Z",
     "start_time": "2021-05-01T00:04:55.662236Z"
    }
   },
   "outputs": [
    {
     "data": {
      "text/html": [
       "<div>\n",
       "<style scoped>\n",
       "    .dataframe tbody tr th:only-of-type {\n",
       "        vertical-align: middle;\n",
       "    }\n",
       "\n",
       "    .dataframe tbody tr th {\n",
       "        vertical-align: top;\n",
       "    }\n",
       "\n",
       "    .dataframe thead th {\n",
       "        text-align: right;\n",
       "    }\n",
       "</style>\n",
       "<table border=\"1\" class=\"dataframe\">\n",
       "  <thead>\n",
       "    <tr style=\"text-align: right;\">\n",
       "      <th></th>\n",
       "      <th>genre_ids</th>\n",
       "      <th>tmdb_id</th>\n",
       "      <th>original_language</th>\n",
       "      <th>original_title</th>\n",
       "      <th>popularity</th>\n",
       "      <th>title</th>\n",
       "      <th>vote_average</th>\n",
       "      <th>vote_count</th>\n",
       "      <th>runtime</th>\n",
       "      <th>budget_est</th>\n",
       "      <th>revenue</th>\n",
       "      <th>imdb_id</th>\n",
       "      <th>production_companies</th>\n",
       "      <th>release_day</th>\n",
       "      <th>release_month</th>\n",
       "      <th>release_year</th>\n",
       "    </tr>\n",
       "  </thead>\n",
       "  <tbody>\n",
       "    <tr>\n",
       "      <th>0</th>\n",
       "      <td>[12, 14, 10751]</td>\n",
       "      <td>12444</td>\n",
       "      <td>en</td>\n",
       "      <td>Harry Potter and the Deathly Hallows: Part 1</td>\n",
       "      <td>33.533</td>\n",
       "      <td>Harry Potter and the Deathly Hallows: Part 1</td>\n",
       "      <td>7.7</td>\n",
       "      <td>10788</td>\n",
       "      <td>146.0</td>\n",
       "      <td>250000000.0</td>\n",
       "      <td>954305868.0</td>\n",
       "      <td>tt0926084</td>\n",
       "      <td>['Warner Bros. Pictures', 'Heyday Films']</td>\n",
       "      <td>19</td>\n",
       "      <td>11</td>\n",
       "      <td>2010</td>\n",
       "    </tr>\n",
       "    <tr>\n",
       "      <th>1</th>\n",
       "      <td>[14, 12, 16, 10751]</td>\n",
       "      <td>10191</td>\n",
       "      <td>en</td>\n",
       "      <td>How to Train Your Dragon</td>\n",
       "      <td>28.734</td>\n",
       "      <td>How to Train Your Dragon</td>\n",
       "      <td>7.7</td>\n",
       "      <td>7610</td>\n",
       "      <td>98.0</td>\n",
       "      <td>165000000.0</td>\n",
       "      <td>494878759.0</td>\n",
       "      <td>tt0892769</td>\n",
       "      <td>['DreamWorks Animation']</td>\n",
       "      <td>26</td>\n",
       "      <td>3</td>\n",
       "      <td>2010</td>\n",
       "    </tr>\n",
       "    <tr>\n",
       "      <th>2</th>\n",
       "      <td>[12, 28, 878]</td>\n",
       "      <td>10138</td>\n",
       "      <td>en</td>\n",
       "      <td>Iron Man 2</td>\n",
       "      <td>28.515</td>\n",
       "      <td>Iron Man 2</td>\n",
       "      <td>6.8</td>\n",
       "      <td>12368</td>\n",
       "      <td>124.0</td>\n",
       "      <td>200000000.0</td>\n",
       "      <td>623933331.0</td>\n",
       "      <td>tt1228705</td>\n",
       "      <td>['Marvel Studios', 'Paramount', 'Marvel Entert...</td>\n",
       "      <td>7</td>\n",
       "      <td>5</td>\n",
       "      <td>2010</td>\n",
       "    </tr>\n",
       "    <tr>\n",
       "      <th>3</th>\n",
       "      <td>[16, 35, 10751]</td>\n",
       "      <td>862</td>\n",
       "      <td>en</td>\n",
       "      <td>Toy Story</td>\n",
       "      <td>28.005</td>\n",
       "      <td>Toy Story</td>\n",
       "      <td>7.9</td>\n",
       "      <td>10174</td>\n",
       "      <td>81.0</td>\n",
       "      <td>30000000.0</td>\n",
       "      <td>373554033.0</td>\n",
       "      <td>tt0114709</td>\n",
       "      <td>['Pixar']</td>\n",
       "      <td>22</td>\n",
       "      <td>11</td>\n",
       "      <td>1995</td>\n",
       "    </tr>\n",
       "    <tr>\n",
       "      <th>4</th>\n",
       "      <td>[28, 878, 12]</td>\n",
       "      <td>27205</td>\n",
       "      <td>en</td>\n",
       "      <td>Inception</td>\n",
       "      <td>27.920</td>\n",
       "      <td>Inception</td>\n",
       "      <td>8.3</td>\n",
       "      <td>22186</td>\n",
       "      <td>148.0</td>\n",
       "      <td>160000000.0</td>\n",
       "      <td>825532764.0</td>\n",
       "      <td>tt1375666</td>\n",
       "      <td>['Legendary Pictures', 'Syncopy', 'Warner Bros...</td>\n",
       "      <td>16</td>\n",
       "      <td>7</td>\n",
       "      <td>2010</td>\n",
       "    </tr>\n",
       "  </tbody>\n",
       "</table>\n",
       "</div>"
      ],
      "text/plain": [
       "             genre_ids  tmdb_id original_language  \\\n",
       "0      [12, 14, 10751]    12444                en   \n",
       "1  [14, 12, 16, 10751]    10191                en   \n",
       "2        [12, 28, 878]    10138                en   \n",
       "3      [16, 35, 10751]      862                en   \n",
       "4        [28, 878, 12]    27205                en   \n",
       "\n",
       "                                 original_title  popularity  \\\n",
       "0  Harry Potter and the Deathly Hallows: Part 1      33.533   \n",
       "1                      How to Train Your Dragon      28.734   \n",
       "2                                    Iron Man 2      28.515   \n",
       "3                                     Toy Story      28.005   \n",
       "4                                     Inception      27.920   \n",
       "\n",
       "                                          title  vote_average  vote_count  \\\n",
       "0  Harry Potter and the Deathly Hallows: Part 1           7.7       10788   \n",
       "1                      How to Train Your Dragon           7.7        7610   \n",
       "2                                    Iron Man 2           6.8       12368   \n",
       "3                                     Toy Story           7.9       10174   \n",
       "4                                     Inception           8.3       22186   \n",
       "\n",
       "   runtime   budget_est      revenue    imdb_id  \\\n",
       "0    146.0  250000000.0  954305868.0  tt0926084   \n",
       "1     98.0  165000000.0  494878759.0  tt0892769   \n",
       "2    124.0  200000000.0  623933331.0  tt1228705   \n",
       "3     81.0   30000000.0  373554033.0  tt0114709   \n",
       "4    148.0  160000000.0  825532764.0  tt1375666   \n",
       "\n",
       "                                production_companies  release_day  \\\n",
       "0          ['Warner Bros. Pictures', 'Heyday Films']           19   \n",
       "1                           ['DreamWorks Animation']           26   \n",
       "2  ['Marvel Studios', 'Paramount', 'Marvel Entert...            7   \n",
       "3                                          ['Pixar']           22   \n",
       "4  ['Legendary Pictures', 'Syncopy', 'Warner Bros...           16   \n",
       "\n",
       "   release_month  release_year  \n",
       "0             11          2010  \n",
       "1              3          2010  \n",
       "2              5          2010  \n",
       "3             11          1995  \n",
       "4              7          2010  "
      ]
     },
     "execution_count": 83,
     "metadata": {},
     "output_type": "execute_result"
    }
   ],
   "source": [
    "cleaned_tmdb.head()"
   ]
  },
  {
   "cell_type": "code",
   "execution_count": 84,
   "metadata": {
    "ExecuteTime": {
     "end_time": "2021-05-01T00:04:56.921318Z",
     "start_time": "2021-05-01T00:04:56.913318Z"
    }
   },
   "outputs": [
    {
     "data": {
      "text/plain": [
       "Index(['genre_ids', 'tmdb_id', 'original_language', 'original_title',\n",
       "       'popularity', 'title', 'vote_average', 'vote_count', 'runtime',\n",
       "       'budget_est', 'revenue', 'imdb_id', 'production_companies',\n",
       "       'release_day', 'release_month', 'release_year'],\n",
       "      dtype='object')"
      ]
     },
     "execution_count": 84,
     "metadata": {},
     "output_type": "execute_result"
    }
   ],
   "source": [
    "cleaned_tmdb.columns"
   ]
  },
  {
   "cell_type": "code",
   "execution_count": 85,
   "metadata": {
    "ExecuteTime": {
     "end_time": "2021-05-01T00:05:02.847924Z",
     "start_time": "2021-05-01T00:05:02.830952Z"
    }
   },
   "outputs": [],
   "source": [
    "cleaned_tmdb = cleaned_tmdb.drop(columns = ['tmdb_id','original_language','original_title','popularity','production_companies'])"
   ]
  },
  {
   "cell_type": "code",
   "execution_count": 86,
   "metadata": {
    "ExecuteTime": {
     "end_time": "2021-05-01T00:05:04.104838Z",
     "start_time": "2021-05-01T00:05:04.095862Z"
    }
   },
   "outputs": [
    {
     "data": {
      "text/plain": [
       "Index(['genre_ids', 'title', 'vote_average', 'vote_count', 'runtime',\n",
       "       'budget_est', 'revenue', 'imdb_id', 'release_day', 'release_month',\n",
       "       'release_year'],\n",
       "      dtype='object')"
      ]
     },
     "execution_count": 86,
     "metadata": {},
     "output_type": "execute_result"
    }
   ],
   "source": [
    "cleaned_tmdb.columns"
   ]
  },
  {
   "cell_type": "code",
   "execution_count": 87,
   "metadata": {
    "ExecuteTime": {
     "end_time": "2021-05-01T00:05:04.752732Z",
     "start_time": "2021-05-01T00:05:04.738492Z"
    }
   },
   "outputs": [
    {
     "data": {
      "text/plain": [
       "Index(['movie', 'production_budget', 'domestic_gross', 'worldwide_gross',\n",
       "       'release_day', 'release_month', 'release_year', 'tconst',\n",
       "       'primary_title', 'original_title', 'start_year', 'runtime_minutes',\n",
       "       'genres', 'averagerating', 'numvotes'],\n",
       "      dtype='object')"
      ]
     },
     "execution_count": 87,
     "metadata": {},
     "output_type": "execute_result"
    }
   ],
   "source": [
    "buffed_tn.columns"
   ]
  },
  {
   "cell_type": "code",
   "execution_count": 88,
   "metadata": {
    "ExecuteTime": {
     "end_time": "2021-05-01T00:05:05.386468Z",
     "start_time": "2021-05-01T00:05:05.372517Z"
    }
   },
   "outputs": [],
   "source": [
    "buffed_tn = buffed_tn.drop(columns = ['primary_title','original_title','domestic_gross','start_year'])"
   ]
  },
  {
   "cell_type": "code",
   "execution_count": 89,
   "metadata": {
    "ExecuteTime": {
     "end_time": "2021-05-01T00:05:10.493746Z",
     "start_time": "2021-05-01T00:05:10.487485Z"
    }
   },
   "outputs": [
    {
     "data": {
      "text/plain": [
       "Index(['movie', 'production_budget', 'worldwide_gross', 'release_day',\n",
       "       'release_month', 'release_year', 'tconst', 'runtime_minutes', 'genres',\n",
       "       'averagerating', 'numvotes'],\n",
       "      dtype='object')"
      ]
     },
     "execution_count": 89,
     "metadata": {},
     "output_type": "execute_result"
    }
   ],
   "source": [
    "buffed_tn.columns"
   ]
  },
  {
   "cell_type": "code",
   "execution_count": 90,
   "metadata": {
    "ExecuteTime": {
     "end_time": "2021-05-01T00:05:11.188919Z",
     "start_time": "2021-05-01T00:05:11.171423Z"
    }
   },
   "outputs": [],
   "source": [
    "cleaned_tmdb = cleaned_tmdb.rename(columns={'genre_ids': 'Genres', 'title': 'Title',\n",
    "                    'runtime': 'runtime_minutes', 'revenue': 'worldwide_gross', 'imdb_id': 'tconst'})"
   ]
  },
  {
   "cell_type": "code",
   "execution_count": 91,
   "metadata": {
    "ExecuteTime": {
     "end_time": "2021-05-01T00:05:11.821558Z",
     "start_time": "2021-05-01T00:05:11.806576Z"
    }
   },
   "outputs": [
    {
     "data": {
      "text/plain": [
       "Index(['Genres', 'Title', 'vote_average', 'vote_count', 'runtime_minutes',\n",
       "       'budget_est', 'worldwide_gross', 'tconst', 'release_day',\n",
       "       'release_month', 'release_year'],\n",
       "      dtype='object')"
      ]
     },
     "execution_count": 91,
     "metadata": {},
     "output_type": "execute_result"
    }
   ],
   "source": [
    "cleaned_tmdb.columns"
   ]
  },
  {
   "cell_type": "code",
   "execution_count": 92,
   "metadata": {
    "ExecuteTime": {
     "end_time": "2021-05-01T00:05:12.454425Z",
     "start_time": "2021-05-01T00:05:12.442200Z"
    }
   },
   "outputs": [],
   "source": [
    "buffed_tn = buffed_tn.rename(\n",
    "    columns={'movie': 'Title', 'production_budget': 'budget_est', 'genres': 'Genres',\n",
    "             'averagerating': 'vote_average', 'numvotes': 'vote_count'})"
   ]
  },
  {
   "cell_type": "code",
   "execution_count": 93,
   "metadata": {
    "ExecuteTime": {
     "end_time": "2021-05-01T00:05:15.541923Z",
     "start_time": "2021-05-01T00:05:15.536750Z"
    }
   },
   "outputs": [
    {
     "data": {
      "text/plain": [
       "Index(['Title', 'budget_est', 'worldwide_gross', 'release_day',\n",
       "       'release_month', 'release_year', 'tconst', 'runtime_minutes', 'Genres',\n",
       "       'vote_average', 'vote_count'],\n",
       "      dtype='object')"
      ]
     },
     "execution_count": 93,
     "metadata": {},
     "output_type": "execute_result"
    }
   ],
   "source": [
    "buffed_tn.columns"
   ]
  },
  {
   "cell_type": "code",
   "execution_count": 94,
   "metadata": {
    "ExecuteTime": {
     "end_time": "2021-05-01T00:05:16.312708Z",
     "start_time": "2021-05-01T00:05:16.295724Z"
    }
   },
   "outputs": [
    {
     "data": {
      "text/plain": [
       "11"
      ]
     },
     "execution_count": 94,
     "metadata": {},
     "output_type": "execute_result"
    }
   ],
   "source": [
    "len(buffed_tn.columns)"
   ]
  },
  {
   "cell_type": "code",
   "execution_count": 95,
   "metadata": {
    "ExecuteTime": {
     "end_time": "2021-05-01T00:05:17.023671Z",
     "start_time": "2021-05-01T00:05:17.008711Z"
    }
   },
   "outputs": [
    {
     "data": {
      "text/plain": [
       "11"
      ]
     },
     "execution_count": 95,
     "metadata": {},
     "output_type": "execute_result"
    }
   ],
   "source": [
    "len(cleaned_tmdb.columns)"
   ]
  },
  {
   "cell_type": "code",
   "execution_count": 96,
   "metadata": {
    "ExecuteTime": {
     "end_time": "2021-05-01T00:05:17.688932Z",
     "start_time": "2021-05-01T00:05:17.683946Z"
    }
   },
   "outputs": [],
   "source": [
    "cleaned_tmdb = cleaned_tmdb[['tconst', 'Title', 'Genres', 'runtime_minutes',\n",
    "                             'vote_average', 'vote_count', 'budget_est', 'worldwide_gross',\n",
    "                             'release_day', 'release_month', 'release_year']]"
   ]
  },
  {
   "cell_type": "code",
   "execution_count": 97,
   "metadata": {
    "ExecuteTime": {
     "end_time": "2021-05-01T00:05:18.354643Z",
     "start_time": "2021-05-01T00:05:18.327694Z"
    }
   },
   "outputs": [
    {
     "data": {
      "text/html": [
       "<div>\n",
       "<style scoped>\n",
       "    .dataframe tbody tr th:only-of-type {\n",
       "        vertical-align: middle;\n",
       "    }\n",
       "\n",
       "    .dataframe tbody tr th {\n",
       "        vertical-align: top;\n",
       "    }\n",
       "\n",
       "    .dataframe thead th {\n",
       "        text-align: right;\n",
       "    }\n",
       "</style>\n",
       "<table border=\"1\" class=\"dataframe\">\n",
       "  <thead>\n",
       "    <tr style=\"text-align: right;\">\n",
       "      <th></th>\n",
       "      <th>tconst</th>\n",
       "      <th>Title</th>\n",
       "      <th>Genres</th>\n",
       "      <th>runtime_minutes</th>\n",
       "      <th>vote_average</th>\n",
       "      <th>vote_count</th>\n",
       "      <th>budget_est</th>\n",
       "      <th>worldwide_gross</th>\n",
       "      <th>release_day</th>\n",
       "      <th>release_month</th>\n",
       "      <th>release_year</th>\n",
       "    </tr>\n",
       "  </thead>\n",
       "  <tbody>\n",
       "    <tr>\n",
       "      <th>0</th>\n",
       "      <td>tt0926084</td>\n",
       "      <td>Harry Potter and the Deathly Hallows: Part 1</td>\n",
       "      <td>[12, 14, 10751]</td>\n",
       "      <td>146.0</td>\n",
       "      <td>7.7</td>\n",
       "      <td>10788</td>\n",
       "      <td>250000000.0</td>\n",
       "      <td>954305868.0</td>\n",
       "      <td>19</td>\n",
       "      <td>11</td>\n",
       "      <td>2010</td>\n",
       "    </tr>\n",
       "    <tr>\n",
       "      <th>1</th>\n",
       "      <td>tt0892769</td>\n",
       "      <td>How to Train Your Dragon</td>\n",
       "      <td>[14, 12, 16, 10751]</td>\n",
       "      <td>98.0</td>\n",
       "      <td>7.7</td>\n",
       "      <td>7610</td>\n",
       "      <td>165000000.0</td>\n",
       "      <td>494878759.0</td>\n",
       "      <td>26</td>\n",
       "      <td>3</td>\n",
       "      <td>2010</td>\n",
       "    </tr>\n",
       "    <tr>\n",
       "      <th>2</th>\n",
       "      <td>tt1228705</td>\n",
       "      <td>Iron Man 2</td>\n",
       "      <td>[12, 28, 878]</td>\n",
       "      <td>124.0</td>\n",
       "      <td>6.8</td>\n",
       "      <td>12368</td>\n",
       "      <td>200000000.0</td>\n",
       "      <td>623933331.0</td>\n",
       "      <td>7</td>\n",
       "      <td>5</td>\n",
       "      <td>2010</td>\n",
       "    </tr>\n",
       "    <tr>\n",
       "      <th>3</th>\n",
       "      <td>tt0114709</td>\n",
       "      <td>Toy Story</td>\n",
       "      <td>[16, 35, 10751]</td>\n",
       "      <td>81.0</td>\n",
       "      <td>7.9</td>\n",
       "      <td>10174</td>\n",
       "      <td>30000000.0</td>\n",
       "      <td>373554033.0</td>\n",
       "      <td>22</td>\n",
       "      <td>11</td>\n",
       "      <td>1995</td>\n",
       "    </tr>\n",
       "    <tr>\n",
       "      <th>4</th>\n",
       "      <td>tt1375666</td>\n",
       "      <td>Inception</td>\n",
       "      <td>[28, 878, 12]</td>\n",
       "      <td>148.0</td>\n",
       "      <td>8.3</td>\n",
       "      <td>22186</td>\n",
       "      <td>160000000.0</td>\n",
       "      <td>825532764.0</td>\n",
       "      <td>16</td>\n",
       "      <td>7</td>\n",
       "      <td>2010</td>\n",
       "    </tr>\n",
       "  </tbody>\n",
       "</table>\n",
       "</div>"
      ],
      "text/plain": [
       "      tconst                                         Title  \\\n",
       "0  tt0926084  Harry Potter and the Deathly Hallows: Part 1   \n",
       "1  tt0892769                      How to Train Your Dragon   \n",
       "2  tt1228705                                    Iron Man 2   \n",
       "3  tt0114709                                     Toy Story   \n",
       "4  tt1375666                                     Inception   \n",
       "\n",
       "                Genres  runtime_minutes  vote_average  vote_count  \\\n",
       "0      [12, 14, 10751]            146.0           7.7       10788   \n",
       "1  [14, 12, 16, 10751]             98.0           7.7        7610   \n",
       "2        [12, 28, 878]            124.0           6.8       12368   \n",
       "3      [16, 35, 10751]             81.0           7.9       10174   \n",
       "4        [28, 878, 12]            148.0           8.3       22186   \n",
       "\n",
       "    budget_est  worldwide_gross  release_day  release_month  release_year  \n",
       "0  250000000.0      954305868.0           19             11          2010  \n",
       "1  165000000.0      494878759.0           26              3          2010  \n",
       "2  200000000.0      623933331.0            7              5          2010  \n",
       "3   30000000.0      373554033.0           22             11          1995  \n",
       "4  160000000.0      825532764.0           16              7          2010  "
      ]
     },
     "execution_count": 97,
     "metadata": {},
     "output_type": "execute_result"
    }
   ],
   "source": [
    "cleaned_tmdb.head()"
   ]
  },
  {
   "cell_type": "code",
   "execution_count": 98,
   "metadata": {
    "ExecuteTime": {
     "end_time": "2021-05-01T00:05:20.227438Z",
     "start_time": "2021-05-01T00:05:20.219463Z"
    }
   },
   "outputs": [],
   "source": [
    "buffed_tn = buffed_tn[['tconst', 'Title', 'Genres', 'runtime_minutes',\n",
    "                             'vote_average', 'vote_count', 'budget_est', 'worldwide_gross',\n",
    "                             'release_day', 'release_month', 'release_year']]"
   ]
  },
  {
   "cell_type": "code",
   "execution_count": 99,
   "metadata": {
    "ExecuteTime": {
     "end_time": "2021-05-01T00:05:21.914726Z",
     "start_time": "2021-05-01T00:05:21.890796Z"
    }
   },
   "outputs": [
    {
     "data": {
      "text/html": [
       "<div>\n",
       "<style scoped>\n",
       "    .dataframe tbody tr th:only-of-type {\n",
       "        vertical-align: middle;\n",
       "    }\n",
       "\n",
       "    .dataframe tbody tr th {\n",
       "        vertical-align: top;\n",
       "    }\n",
       "\n",
       "    .dataframe thead th {\n",
       "        text-align: right;\n",
       "    }\n",
       "</style>\n",
       "<table border=\"1\" class=\"dataframe\">\n",
       "  <thead>\n",
       "    <tr style=\"text-align: right;\">\n",
       "      <th></th>\n",
       "      <th>tconst</th>\n",
       "      <th>Title</th>\n",
       "      <th>Genres</th>\n",
       "      <th>runtime_minutes</th>\n",
       "      <th>vote_average</th>\n",
       "      <th>vote_count</th>\n",
       "      <th>budget_est</th>\n",
       "      <th>worldwide_gross</th>\n",
       "      <th>release_day</th>\n",
       "      <th>release_month</th>\n",
       "      <th>release_year</th>\n",
       "    </tr>\n",
       "  </thead>\n",
       "  <tbody>\n",
       "    <tr>\n",
       "      <th>0</th>\n",
       "      <td>tt3748528</td>\n",
       "      <td>Rogue One: A Star Wars Story</td>\n",
       "      <td>Action,Adventure,Sci-Fi</td>\n",
       "      <td>133.0</td>\n",
       "      <td>7.8</td>\n",
       "      <td>478592.0</td>\n",
       "      <td>200000000</td>\n",
       "      <td>1049102856</td>\n",
       "      <td>16</td>\n",
       "      <td>12</td>\n",
       "      <td>2016</td>\n",
       "    </tr>\n",
       "    <tr>\n",
       "      <th>1</th>\n",
       "      <td>tt1300854</td>\n",
       "      <td>Iron Man 3</td>\n",
       "      <td>Action,Adventure,Sci-Fi</td>\n",
       "      <td>130.0</td>\n",
       "      <td>7.2</td>\n",
       "      <td>692794.0</td>\n",
       "      <td>200000000</td>\n",
       "      <td>1215392272</td>\n",
       "      <td>3</td>\n",
       "      <td>5</td>\n",
       "      <td>2013</td>\n",
       "    </tr>\n",
       "    <tr>\n",
       "      <th>2</th>\n",
       "      <td>tt2820852</td>\n",
       "      <td>Furious 7</td>\n",
       "      <td>Action,Crime,Thriller</td>\n",
       "      <td>137.0</td>\n",
       "      <td>7.2</td>\n",
       "      <td>335074.0</td>\n",
       "      <td>190000000</td>\n",
       "      <td>1518722794</td>\n",
       "      <td>3</td>\n",
       "      <td>4</td>\n",
       "      <td>2015</td>\n",
       "    </tr>\n",
       "    <tr>\n",
       "      <th>3</th>\n",
       "      <td>tt1270798</td>\n",
       "      <td>X-Men: First Class</td>\n",
       "      <td>Action,Adventure,Sci-Fi</td>\n",
       "      <td>131.0</td>\n",
       "      <td>7.7</td>\n",
       "      <td>608930.0</td>\n",
       "      <td>160000000</td>\n",
       "      <td>355408305</td>\n",
       "      <td>3</td>\n",
       "      <td>6</td>\n",
       "      <td>2011</td>\n",
       "    </tr>\n",
       "    <tr>\n",
       "      <th>4</th>\n",
       "      <td>tt7232438</td>\n",
       "      <td>The Promise</td>\n",
       "      <td>Drama,Horror,Thriller</td>\n",
       "      <td>114.0</td>\n",
       "      <td>6.1</td>\n",
       "      <td>629.0</td>\n",
       "      <td>90000000</td>\n",
       "      <td>10551417</td>\n",
       "      <td>21</td>\n",
       "      <td>4</td>\n",
       "      <td>2017</td>\n",
       "    </tr>\n",
       "  </tbody>\n",
       "</table>\n",
       "</div>"
      ],
      "text/plain": [
       "      tconst                         Title                   Genres  \\\n",
       "0  tt3748528  Rogue One: A Star Wars Story  Action,Adventure,Sci-Fi   \n",
       "1  tt1300854                    Iron Man 3  Action,Adventure,Sci-Fi   \n",
       "2  tt2820852                     Furious 7    Action,Crime,Thriller   \n",
       "3  tt1270798            X-Men: First Class  Action,Adventure,Sci-Fi   \n",
       "4  tt7232438                   The Promise    Drama,Horror,Thriller   \n",
       "\n",
       "   runtime_minutes  vote_average  vote_count  budget_est  worldwide_gross  \\\n",
       "0            133.0           7.8    478592.0   200000000       1049102856   \n",
       "1            130.0           7.2    692794.0   200000000       1215392272   \n",
       "2            137.0           7.2    335074.0   190000000       1518722794   \n",
       "3            131.0           7.7    608930.0   160000000        355408305   \n",
       "4            114.0           6.1       629.0    90000000         10551417   \n",
       "\n",
       "   release_day  release_month  release_year  \n",
       "0           16             12          2016  \n",
       "1            3              5          2013  \n",
       "2            3              4          2015  \n",
       "3            3              6          2011  \n",
       "4           21              4          2017  "
      ]
     },
     "execution_count": 99,
     "metadata": {},
     "output_type": "execute_result"
    }
   ],
   "source": [
    "buffed_tn.head()"
   ]
  },
  {
   "cell_type": "markdown",
   "metadata": {},
   "source": [
    "There is one last thing to do before we can work with these. We need to fix that in buffed_tn Genres is a comma separated string and in cleaned_tmdb it is a list of integer IDs. For buffed_tn, we need to simply turn the string into a list using a comma as a delimiter. For cleaned_tmdb we have a dictionary that we can convert the integer ID's into string values for, and then leave as a list. Thus a list of genres as strings in both dataframes."
   ]
  },
  {
   "cell_type": "code",
   "execution_count": 100,
   "metadata": {
    "ExecuteTime": {
     "end_time": "2021-05-01T00:06:16.494736Z",
     "start_time": "2021-05-01T00:06:16.484763Z"
    }
   },
   "outputs": [],
   "source": [
    "buffed_tn['Genres'] = buffed_tn['Genres'].apply( lambda x: x.split(',') )"
   ]
  },
  {
   "cell_type": "code",
   "execution_count": 101,
   "metadata": {
    "ExecuteTime": {
     "end_time": "2021-05-01T00:06:17.155097Z",
     "start_time": "2021-05-01T00:06:17.141135Z"
    }
   },
   "outputs": [
    {
     "data": {
      "text/html": [
       "<div>\n",
       "<style scoped>\n",
       "    .dataframe tbody tr th:only-of-type {\n",
       "        vertical-align: middle;\n",
       "    }\n",
       "\n",
       "    .dataframe tbody tr th {\n",
       "        vertical-align: top;\n",
       "    }\n",
       "\n",
       "    .dataframe thead th {\n",
       "        text-align: right;\n",
       "    }\n",
       "</style>\n",
       "<table border=\"1\" class=\"dataframe\">\n",
       "  <thead>\n",
       "    <tr style=\"text-align: right;\">\n",
       "      <th></th>\n",
       "      <th>tconst</th>\n",
       "      <th>Title</th>\n",
       "      <th>Genres</th>\n",
       "      <th>runtime_minutes</th>\n",
       "      <th>vote_average</th>\n",
       "      <th>vote_count</th>\n",
       "      <th>budget_est</th>\n",
       "      <th>worldwide_gross</th>\n",
       "      <th>release_day</th>\n",
       "      <th>release_month</th>\n",
       "      <th>release_year</th>\n",
       "    </tr>\n",
       "  </thead>\n",
       "  <tbody>\n",
       "    <tr>\n",
       "      <th>0</th>\n",
       "      <td>tt3748528</td>\n",
       "      <td>Rogue One: A Star Wars Story</td>\n",
       "      <td>[Action, Adventure, Sci-Fi]</td>\n",
       "      <td>133.0</td>\n",
       "      <td>7.8</td>\n",
       "      <td>478592.0</td>\n",
       "      <td>200000000</td>\n",
       "      <td>1049102856</td>\n",
       "      <td>16</td>\n",
       "      <td>12</td>\n",
       "      <td>2016</td>\n",
       "    </tr>\n",
       "    <tr>\n",
       "      <th>1</th>\n",
       "      <td>tt1300854</td>\n",
       "      <td>Iron Man 3</td>\n",
       "      <td>[Action, Adventure, Sci-Fi]</td>\n",
       "      <td>130.0</td>\n",
       "      <td>7.2</td>\n",
       "      <td>692794.0</td>\n",
       "      <td>200000000</td>\n",
       "      <td>1215392272</td>\n",
       "      <td>3</td>\n",
       "      <td>5</td>\n",
       "      <td>2013</td>\n",
       "    </tr>\n",
       "    <tr>\n",
       "      <th>2</th>\n",
       "      <td>tt2820852</td>\n",
       "      <td>Furious 7</td>\n",
       "      <td>[Action, Crime, Thriller]</td>\n",
       "      <td>137.0</td>\n",
       "      <td>7.2</td>\n",
       "      <td>335074.0</td>\n",
       "      <td>190000000</td>\n",
       "      <td>1518722794</td>\n",
       "      <td>3</td>\n",
       "      <td>4</td>\n",
       "      <td>2015</td>\n",
       "    </tr>\n",
       "    <tr>\n",
       "      <th>3</th>\n",
       "      <td>tt1270798</td>\n",
       "      <td>X-Men: First Class</td>\n",
       "      <td>[Action, Adventure, Sci-Fi]</td>\n",
       "      <td>131.0</td>\n",
       "      <td>7.7</td>\n",
       "      <td>608930.0</td>\n",
       "      <td>160000000</td>\n",
       "      <td>355408305</td>\n",
       "      <td>3</td>\n",
       "      <td>6</td>\n",
       "      <td>2011</td>\n",
       "    </tr>\n",
       "    <tr>\n",
       "      <th>4</th>\n",
       "      <td>tt7232438</td>\n",
       "      <td>The Promise</td>\n",
       "      <td>[Drama, Horror, Thriller]</td>\n",
       "      <td>114.0</td>\n",
       "      <td>6.1</td>\n",
       "      <td>629.0</td>\n",
       "      <td>90000000</td>\n",
       "      <td>10551417</td>\n",
       "      <td>21</td>\n",
       "      <td>4</td>\n",
       "      <td>2017</td>\n",
       "    </tr>\n",
       "  </tbody>\n",
       "</table>\n",
       "</div>"
      ],
      "text/plain": [
       "      tconst                         Title                       Genres  \\\n",
       "0  tt3748528  Rogue One: A Star Wars Story  [Action, Adventure, Sci-Fi]   \n",
       "1  tt1300854                    Iron Man 3  [Action, Adventure, Sci-Fi]   \n",
       "2  tt2820852                     Furious 7    [Action, Crime, Thriller]   \n",
       "3  tt1270798            X-Men: First Class  [Action, Adventure, Sci-Fi]   \n",
       "4  tt7232438                   The Promise    [Drama, Horror, Thriller]   \n",
       "\n",
       "   runtime_minutes  vote_average  vote_count  budget_est  worldwide_gross  \\\n",
       "0            133.0           7.8    478592.0   200000000       1049102856   \n",
       "1            130.0           7.2    692794.0   200000000       1215392272   \n",
       "2            137.0           7.2    335074.0   190000000       1518722794   \n",
       "3            131.0           7.7    608930.0   160000000        355408305   \n",
       "4            114.0           6.1       629.0    90000000         10551417   \n",
       "\n",
       "   release_day  release_month  release_year  \n",
       "0           16             12          2016  \n",
       "1            3              5          2013  \n",
       "2            3              4          2015  \n",
       "3            3              6          2011  \n",
       "4           21              4          2017  "
      ]
     },
     "execution_count": 101,
     "metadata": {},
     "output_type": "execute_result"
    }
   ],
   "source": [
    "buffed_tn.head()"
   ]
  },
  {
   "cell_type": "code",
   "execution_count": 108,
   "metadata": {
    "ExecuteTime": {
     "end_time": "2021-05-01T00:13:24.091214Z",
     "start_time": "2021-05-01T00:13:24.085230Z"
    }
   },
   "outputs": [
    {
     "data": {
      "text/plain": [
       "['Action', 'Adventure', 'Sci-Fi']"
      ]
     },
     "execution_count": 108,
     "metadata": {},
     "output_type": "execute_result"
    }
   ],
   "source": [
    "buffed_tn.Genres[0]"
   ]
  },
  {
   "cell_type": "code",
   "execution_count": 103,
   "metadata": {
    "ExecuteTime": {
     "end_time": "2021-05-01T00:08:25.825296Z",
     "start_time": "2021-05-01T00:08:25.817317Z"
    }
   },
   "outputs": [],
   "source": [
    "import ast"
   ]
  },
  {
   "cell_type": "code",
   "execution_count": 104,
   "metadata": {
    "ExecuteTime": {
     "end_time": "2021-05-01T00:08:48.236084Z",
     "start_time": "2021-05-01T00:08:48.220071Z"
    }
   },
   "outputs": [
    {
     "data": {
      "text/plain": [
       "[12, 14, 10751]"
      ]
     },
     "execution_count": 104,
     "metadata": {},
     "output_type": "execute_result"
    }
   ],
   "source": [
    "ast.literal_eval(cleaned_tmdb.Genres[0])"
   ]
  },
  {
   "cell_type": "code",
   "execution_count": 109,
   "metadata": {
    "ExecuteTime": {
     "end_time": "2021-05-01T00:14:26.601385Z",
     "start_time": "2021-05-01T00:14:26.545067Z"
    }
   },
   "outputs": [],
   "source": [
    "genre_dict = {28: 'Action',\n",
    "              12: 'Adventure',\n",
    "              16: 'Animation',\n",
    "              35: 'Comedy',\n",
    "              80: 'Crime',\n",
    "              99: 'Documentary',\n",
    "              18: 'Drama',\n",
    "              10751: 'Family',\n",
    "              14: 'Fantasy',\n",
    "              36: 'History',\n",
    "              27: 'Horror',\n",
    "              10402: 'Music',\n",
    "              9648: 'Mystery',\n",
    "              10749: 'Romance',\n",
    "              878: 'Science Fiction',\n",
    "              10770: 'TV Movie',\n",
    "              53: 'Thriller',\n",
    "              10752: 'War',\n",
    "              37: 'Western'}\n",
    "cleaned_tmdb['Genres'] = cleaned_tmdb['Genres'].apply(\n",
    "    lambda x: [genre_dict[genre_id] for genre_id in ast.literal_eval(x)])"
   ]
  },
  {
   "cell_type": "code",
   "execution_count": 110,
   "metadata": {
    "ExecuteTime": {
     "end_time": "2021-05-01T00:14:29.191491Z",
     "start_time": "2021-05-01T00:14:29.178523Z"
    }
   },
   "outputs": [
    {
     "data": {
      "text/plain": [
       "['Adventure', 'Fantasy', 'Family']"
      ]
     },
     "execution_count": 110,
     "metadata": {},
     "output_type": "execute_result"
    }
   ],
   "source": [
    "cleaned_tmdb.Genres[0]"
   ]
  },
  {
   "cell_type": "code",
   "execution_count": 111,
   "metadata": {
    "ExecuteTime": {
     "end_time": "2021-05-01T00:14:52.973811Z",
     "start_time": "2021-05-01T00:14:52.957830Z"
    }
   },
   "outputs": [
    {
     "data": {
      "text/html": [
       "<div>\n",
       "<style scoped>\n",
       "    .dataframe tbody tr th:only-of-type {\n",
       "        vertical-align: middle;\n",
       "    }\n",
       "\n",
       "    .dataframe tbody tr th {\n",
       "        vertical-align: top;\n",
       "    }\n",
       "\n",
       "    .dataframe thead th {\n",
       "        text-align: right;\n",
       "    }\n",
       "</style>\n",
       "<table border=\"1\" class=\"dataframe\">\n",
       "  <thead>\n",
       "    <tr style=\"text-align: right;\">\n",
       "      <th></th>\n",
       "      <th>tconst</th>\n",
       "      <th>Title</th>\n",
       "      <th>Genres</th>\n",
       "      <th>runtime_minutes</th>\n",
       "      <th>vote_average</th>\n",
       "      <th>vote_count</th>\n",
       "      <th>budget_est</th>\n",
       "      <th>worldwide_gross</th>\n",
       "      <th>release_day</th>\n",
       "      <th>release_month</th>\n",
       "      <th>release_year</th>\n",
       "    </tr>\n",
       "  </thead>\n",
       "  <tbody>\n",
       "    <tr>\n",
       "      <th>0</th>\n",
       "      <td>tt0926084</td>\n",
       "      <td>Harry Potter and the Deathly Hallows: Part 1</td>\n",
       "      <td>[Adventure, Fantasy, Family]</td>\n",
       "      <td>146.0</td>\n",
       "      <td>7.7</td>\n",
       "      <td>10788</td>\n",
       "      <td>250000000.0</td>\n",
       "      <td>954305868.0</td>\n",
       "      <td>19</td>\n",
       "      <td>11</td>\n",
       "      <td>2010</td>\n",
       "    </tr>\n",
       "    <tr>\n",
       "      <th>1</th>\n",
       "      <td>tt0892769</td>\n",
       "      <td>How to Train Your Dragon</td>\n",
       "      <td>[Fantasy, Adventure, Animation, Family]</td>\n",
       "      <td>98.0</td>\n",
       "      <td>7.7</td>\n",
       "      <td>7610</td>\n",
       "      <td>165000000.0</td>\n",
       "      <td>494878759.0</td>\n",
       "      <td>26</td>\n",
       "      <td>3</td>\n",
       "      <td>2010</td>\n",
       "    </tr>\n",
       "    <tr>\n",
       "      <th>2</th>\n",
       "      <td>tt1228705</td>\n",
       "      <td>Iron Man 2</td>\n",
       "      <td>[Adventure, Action, Science Fiction]</td>\n",
       "      <td>124.0</td>\n",
       "      <td>6.8</td>\n",
       "      <td>12368</td>\n",
       "      <td>200000000.0</td>\n",
       "      <td>623933331.0</td>\n",
       "      <td>7</td>\n",
       "      <td>5</td>\n",
       "      <td>2010</td>\n",
       "    </tr>\n",
       "    <tr>\n",
       "      <th>3</th>\n",
       "      <td>tt0114709</td>\n",
       "      <td>Toy Story</td>\n",
       "      <td>[Animation, Comedy, Family]</td>\n",
       "      <td>81.0</td>\n",
       "      <td>7.9</td>\n",
       "      <td>10174</td>\n",
       "      <td>30000000.0</td>\n",
       "      <td>373554033.0</td>\n",
       "      <td>22</td>\n",
       "      <td>11</td>\n",
       "      <td>1995</td>\n",
       "    </tr>\n",
       "    <tr>\n",
       "      <th>4</th>\n",
       "      <td>tt1375666</td>\n",
       "      <td>Inception</td>\n",
       "      <td>[Action, Science Fiction, Adventure]</td>\n",
       "      <td>148.0</td>\n",
       "      <td>8.3</td>\n",
       "      <td>22186</td>\n",
       "      <td>160000000.0</td>\n",
       "      <td>825532764.0</td>\n",
       "      <td>16</td>\n",
       "      <td>7</td>\n",
       "      <td>2010</td>\n",
       "    </tr>\n",
       "  </tbody>\n",
       "</table>\n",
       "</div>"
      ],
      "text/plain": [
       "      tconst                                         Title  \\\n",
       "0  tt0926084  Harry Potter and the Deathly Hallows: Part 1   \n",
       "1  tt0892769                      How to Train Your Dragon   \n",
       "2  tt1228705                                    Iron Man 2   \n",
       "3  tt0114709                                     Toy Story   \n",
       "4  tt1375666                                     Inception   \n",
       "\n",
       "                                    Genres  runtime_minutes  vote_average  \\\n",
       "0             [Adventure, Fantasy, Family]            146.0           7.7   \n",
       "1  [Fantasy, Adventure, Animation, Family]             98.0           7.7   \n",
       "2     [Adventure, Action, Science Fiction]            124.0           6.8   \n",
       "3              [Animation, Comedy, Family]             81.0           7.9   \n",
       "4     [Action, Science Fiction, Adventure]            148.0           8.3   \n",
       "\n",
       "   vote_count   budget_est  worldwide_gross  release_day  release_month  \\\n",
       "0       10788  250000000.0      954305868.0           19             11   \n",
       "1        7610  165000000.0      494878759.0           26              3   \n",
       "2       12368  200000000.0      623933331.0            7              5   \n",
       "3       10174   30000000.0      373554033.0           22             11   \n",
       "4       22186  160000000.0      825532764.0           16              7   \n",
       "\n",
       "   release_year  \n",
       "0          2010  \n",
       "1          2010  \n",
       "2          2010  \n",
       "3          1995  \n",
       "4          2010  "
      ]
     },
     "execution_count": 111,
     "metadata": {},
     "output_type": "execute_result"
    }
   ],
   "source": [
    "cleaned_tmdb.head()"
   ]
  },
  {
   "cell_type": "code",
   "execution_count": 112,
   "metadata": {
    "ExecuteTime": {
     "end_time": "2021-05-01T00:15:01.310086Z",
     "start_time": "2021-05-01T00:15:01.304102Z"
    }
   },
   "outputs": [],
   "source": [
    "movie_collection_w_dups = pd.concat([cleaned_tmdb,buffed_tn])"
   ]
  },
  {
   "cell_type": "code",
   "execution_count": 113,
   "metadata": {
    "ExecuteTime": {
     "end_time": "2021-05-01T00:15:01.972266Z",
     "start_time": "2021-05-01T00:15:01.957305Z"
    }
   },
   "outputs": [
    {
     "data": {
      "text/html": [
       "<div>\n",
       "<style scoped>\n",
       "    .dataframe tbody tr th:only-of-type {\n",
       "        vertical-align: middle;\n",
       "    }\n",
       "\n",
       "    .dataframe tbody tr th {\n",
       "        vertical-align: top;\n",
       "    }\n",
       "\n",
       "    .dataframe thead th {\n",
       "        text-align: right;\n",
       "    }\n",
       "</style>\n",
       "<table border=\"1\" class=\"dataframe\">\n",
       "  <thead>\n",
       "    <tr style=\"text-align: right;\">\n",
       "      <th></th>\n",
       "      <th>tconst</th>\n",
       "      <th>Title</th>\n",
       "      <th>Genres</th>\n",
       "      <th>runtime_minutes</th>\n",
       "      <th>vote_average</th>\n",
       "      <th>vote_count</th>\n",
       "      <th>budget_est</th>\n",
       "      <th>worldwide_gross</th>\n",
       "      <th>release_day</th>\n",
       "      <th>release_month</th>\n",
       "      <th>release_year</th>\n",
       "    </tr>\n",
       "  </thead>\n",
       "  <tbody>\n",
       "    <tr>\n",
       "      <th>0</th>\n",
       "      <td>tt0926084</td>\n",
       "      <td>Harry Potter and the Deathly Hallows: Part 1</td>\n",
       "      <td>[Adventure, Fantasy, Family]</td>\n",
       "      <td>146.0</td>\n",
       "      <td>7.7</td>\n",
       "      <td>10788.0</td>\n",
       "      <td>250000000.0</td>\n",
       "      <td>954305868.0</td>\n",
       "      <td>19</td>\n",
       "      <td>11</td>\n",
       "      <td>2010</td>\n",
       "    </tr>\n",
       "    <tr>\n",
       "      <th>1</th>\n",
       "      <td>tt0892769</td>\n",
       "      <td>How to Train Your Dragon</td>\n",
       "      <td>[Fantasy, Adventure, Animation, Family]</td>\n",
       "      <td>98.0</td>\n",
       "      <td>7.7</td>\n",
       "      <td>7610.0</td>\n",
       "      <td>165000000.0</td>\n",
       "      <td>494878759.0</td>\n",
       "      <td>26</td>\n",
       "      <td>3</td>\n",
       "      <td>2010</td>\n",
       "    </tr>\n",
       "    <tr>\n",
       "      <th>2</th>\n",
       "      <td>tt1228705</td>\n",
       "      <td>Iron Man 2</td>\n",
       "      <td>[Adventure, Action, Science Fiction]</td>\n",
       "      <td>124.0</td>\n",
       "      <td>6.8</td>\n",
       "      <td>12368.0</td>\n",
       "      <td>200000000.0</td>\n",
       "      <td>623933331.0</td>\n",
       "      <td>7</td>\n",
       "      <td>5</td>\n",
       "      <td>2010</td>\n",
       "    </tr>\n",
       "    <tr>\n",
       "      <th>3</th>\n",
       "      <td>tt0114709</td>\n",
       "      <td>Toy Story</td>\n",
       "      <td>[Animation, Comedy, Family]</td>\n",
       "      <td>81.0</td>\n",
       "      <td>7.9</td>\n",
       "      <td>10174.0</td>\n",
       "      <td>30000000.0</td>\n",
       "      <td>373554033.0</td>\n",
       "      <td>22</td>\n",
       "      <td>11</td>\n",
       "      <td>1995</td>\n",
       "    </tr>\n",
       "    <tr>\n",
       "      <th>4</th>\n",
       "      <td>tt1375666</td>\n",
       "      <td>Inception</td>\n",
       "      <td>[Action, Science Fiction, Adventure]</td>\n",
       "      <td>148.0</td>\n",
       "      <td>8.3</td>\n",
       "      <td>22186.0</td>\n",
       "      <td>160000000.0</td>\n",
       "      <td>825532764.0</td>\n",
       "      <td>16</td>\n",
       "      <td>7</td>\n",
       "      <td>2010</td>\n",
       "    </tr>\n",
       "  </tbody>\n",
       "</table>\n",
       "</div>"
      ],
      "text/plain": [
       "      tconst                                         Title  \\\n",
       "0  tt0926084  Harry Potter and the Deathly Hallows: Part 1   \n",
       "1  tt0892769                      How to Train Your Dragon   \n",
       "2  tt1228705                                    Iron Man 2   \n",
       "3  tt0114709                                     Toy Story   \n",
       "4  tt1375666                                     Inception   \n",
       "\n",
       "                                    Genres  runtime_minutes  vote_average  \\\n",
       "0             [Adventure, Fantasy, Family]            146.0           7.7   \n",
       "1  [Fantasy, Adventure, Animation, Family]             98.0           7.7   \n",
       "2     [Adventure, Action, Science Fiction]            124.0           6.8   \n",
       "3              [Animation, Comedy, Family]             81.0           7.9   \n",
       "4     [Action, Science Fiction, Adventure]            148.0           8.3   \n",
       "\n",
       "   vote_count   budget_est  worldwide_gross  release_day  release_month  \\\n",
       "0     10788.0  250000000.0      954305868.0           19             11   \n",
       "1      7610.0  165000000.0      494878759.0           26              3   \n",
       "2     12368.0  200000000.0      623933331.0            7              5   \n",
       "3     10174.0   30000000.0      373554033.0           22             11   \n",
       "4     22186.0  160000000.0      825532764.0           16              7   \n",
       "\n",
       "   release_year  \n",
       "0          2010  \n",
       "1          2010  \n",
       "2          2010  \n",
       "3          1995  \n",
       "4          2010  "
      ]
     },
     "execution_count": 113,
     "metadata": {},
     "output_type": "execute_result"
    }
   ],
   "source": [
    "movie_collection_w_dups.head()"
   ]
  },
  {
   "cell_type": "code",
   "execution_count": 114,
   "metadata": {
    "ExecuteTime": {
     "end_time": "2021-05-01T00:15:06.933040Z",
     "start_time": "2021-05-01T00:15:06.914069Z"
    }
   },
   "outputs": [
    {
     "name": "stdout",
     "output_type": "stream",
     "text": [
      "<class 'pandas.core.frame.DataFrame'>\n",
      "Int64Index: 3498 entries, 0 to 1354\n",
      "Data columns (total 11 columns):\n",
      " #   Column           Non-Null Count  Dtype  \n",
      "---  ------           --------------  -----  \n",
      " 0   tconst           3498 non-null   object \n",
      " 1   Title            3498 non-null   object \n",
      " 2   Genres           3498 non-null   object \n",
      " 3   runtime_minutes  3498 non-null   float64\n",
      " 4   vote_average     3498 non-null   float64\n",
      " 5   vote_count       3498 non-null   float64\n",
      " 6   budget_est       3498 non-null   float64\n",
      " 7   worldwide_gross  3498 non-null   float64\n",
      " 8   release_day      3498 non-null   int64  \n",
      " 9   release_month    3498 non-null   int64  \n",
      " 10  release_year     3498 non-null   int64  \n",
      "dtypes: float64(5), int64(3), object(3)\n",
      "memory usage: 327.9+ KB\n"
     ]
    }
   ],
   "source": [
    "movie_collection_w_dups.info()"
   ]
  },
  {
   "cell_type": "code",
   "execution_count": 115,
   "metadata": {
    "ExecuteTime": {
     "end_time": "2021-05-01T00:15:11.876425Z",
     "start_time": "2021-05-01T00:15:11.869447Z"
    }
   },
   "outputs": [
    {
     "data": {
      "text/plain": [
       "2373"
      ]
     },
     "execution_count": 115,
     "metadata": {},
     "output_type": "execute_result"
    }
   ],
   "source": [
    "movie_collection_w_dups.tconst.nunique()"
   ]
  },
  {
   "cell_type": "code",
   "execution_count": 116,
   "metadata": {
    "ExecuteTime": {
     "end_time": "2021-05-01T00:15:15.516847Z",
     "start_time": "2021-05-01T00:15:15.511387Z"
    }
   },
   "outputs": [],
   "source": [
    "inner_sect = cleaned_tmdb.merge(buffed_tn, on = 'tconst')"
   ]
  },
  {
   "cell_type": "code",
   "execution_count": 117,
   "metadata": {
    "ExecuteTime": {
     "end_time": "2021-05-01T00:15:16.766739Z",
     "start_time": "2021-05-01T00:15:16.744795Z"
    }
   },
   "outputs": [
    {
     "name": "stdout",
     "output_type": "stream",
     "text": [
      "<class 'pandas.core.frame.DataFrame'>\n",
      "Int64Index: 1125 entries, 0 to 1124\n",
      "Data columns (total 21 columns):\n",
      " #   Column             Non-Null Count  Dtype  \n",
      "---  ------             --------------  -----  \n",
      " 0   tconst             1125 non-null   object \n",
      " 1   Title_x            1125 non-null   object \n",
      " 2   Genres_x           1125 non-null   object \n",
      " 3   runtime_minutes_x  1125 non-null   float64\n",
      " 4   vote_average_x     1125 non-null   float64\n",
      " 5   vote_count_x       1125 non-null   int64  \n",
      " 6   budget_est_x       1125 non-null   float64\n",
      " 7   worldwide_gross_x  1125 non-null   float64\n",
      " 8   release_day_x      1125 non-null   int64  \n",
      " 9   release_month_x    1125 non-null   int64  \n",
      " 10  release_year_x     1125 non-null   int64  \n",
      " 11  Title_y            1125 non-null   object \n",
      " 12  Genres_y           1125 non-null   object \n",
      " 13  runtime_minutes_y  1125 non-null   float64\n",
      " 14  vote_average_y     1125 non-null   float64\n",
      " 15  vote_count_y       1125 non-null   float64\n",
      " 16  budget_est_y       1125 non-null   int64  \n",
      " 17  worldwide_gross_y  1125 non-null   int64  \n",
      " 18  release_day_y      1125 non-null   int64  \n",
      " 19  release_month_y    1125 non-null   int64  \n",
      " 20  release_year_y     1125 non-null   int64  \n",
      "dtypes: float64(7), int64(9), object(5)\n",
      "memory usage: 193.4+ KB\n"
     ]
    }
   ],
   "source": [
    "inner_sect.info()"
   ]
  },
  {
   "cell_type": "code",
   "execution_count": 118,
   "metadata": {
    "ExecuteTime": {
     "end_time": "2021-05-01T00:15:20.484818Z",
     "start_time": "2021-05-01T00:15:20.462326Z"
    }
   },
   "outputs": [
    {
     "data": {
      "text/html": [
       "<div>\n",
       "<style scoped>\n",
       "    .dataframe tbody tr th:only-of-type {\n",
       "        vertical-align: middle;\n",
       "    }\n",
       "\n",
       "    .dataframe tbody tr th {\n",
       "        vertical-align: top;\n",
       "    }\n",
       "\n",
       "    .dataframe thead th {\n",
       "        text-align: right;\n",
       "    }\n",
       "</style>\n",
       "<table border=\"1\" class=\"dataframe\">\n",
       "  <thead>\n",
       "    <tr style=\"text-align: right;\">\n",
       "      <th></th>\n",
       "      <th>tconst</th>\n",
       "      <th>Title_x</th>\n",
       "      <th>Genres_x</th>\n",
       "      <th>runtime_minutes_x</th>\n",
       "      <th>vote_average_x</th>\n",
       "      <th>vote_count_x</th>\n",
       "      <th>budget_est_x</th>\n",
       "      <th>worldwide_gross_x</th>\n",
       "      <th>release_day_x</th>\n",
       "      <th>release_month_x</th>\n",
       "      <th>...</th>\n",
       "      <th>Title_y</th>\n",
       "      <th>Genres_y</th>\n",
       "      <th>runtime_minutes_y</th>\n",
       "      <th>vote_average_y</th>\n",
       "      <th>vote_count_y</th>\n",
       "      <th>budget_est_y</th>\n",
       "      <th>worldwide_gross_y</th>\n",
       "      <th>release_day_y</th>\n",
       "      <th>release_month_y</th>\n",
       "      <th>release_year_y</th>\n",
       "    </tr>\n",
       "  </thead>\n",
       "  <tbody>\n",
       "    <tr>\n",
       "      <th>0</th>\n",
       "      <td>tt0892769</td>\n",
       "      <td>How to Train Your Dragon</td>\n",
       "      <td>[Fantasy, Adventure, Animation, Family]</td>\n",
       "      <td>98.0</td>\n",
       "      <td>7.7</td>\n",
       "      <td>7610</td>\n",
       "      <td>165000000.0</td>\n",
       "      <td>4.948788e+08</td>\n",
       "      <td>26</td>\n",
       "      <td>3</td>\n",
       "      <td>...</td>\n",
       "      <td>How to Train Your Dragon</td>\n",
       "      <td>[Action, Adventure, Animation]</td>\n",
       "      <td>98.0</td>\n",
       "      <td>8.1</td>\n",
       "      <td>611299.0</td>\n",
       "      <td>165000000</td>\n",
       "      <td>494870992</td>\n",
       "      <td>26</td>\n",
       "      <td>3</td>\n",
       "      <td>2010</td>\n",
       "    </tr>\n",
       "    <tr>\n",
       "      <th>1</th>\n",
       "      <td>tt1228705</td>\n",
       "      <td>Iron Man 2</td>\n",
       "      <td>[Adventure, Action, Science Fiction]</td>\n",
       "      <td>124.0</td>\n",
       "      <td>6.8</td>\n",
       "      <td>12368</td>\n",
       "      <td>200000000.0</td>\n",
       "      <td>6.239333e+08</td>\n",
       "      <td>7</td>\n",
       "      <td>5</td>\n",
       "      <td>...</td>\n",
       "      <td>Iron Man 2</td>\n",
       "      <td>[Action, Adventure, Sci-Fi]</td>\n",
       "      <td>124.0</td>\n",
       "      <td>7.0</td>\n",
       "      <td>657690.0</td>\n",
       "      <td>170000000</td>\n",
       "      <td>621156389</td>\n",
       "      <td>7</td>\n",
       "      <td>5</td>\n",
       "      <td>2010</td>\n",
       "    </tr>\n",
       "    <tr>\n",
       "      <th>2</th>\n",
       "      <td>tt1375666</td>\n",
       "      <td>Inception</td>\n",
       "      <td>[Action, Science Fiction, Adventure]</td>\n",
       "      <td>148.0</td>\n",
       "      <td>8.3</td>\n",
       "      <td>22186</td>\n",
       "      <td>160000000.0</td>\n",
       "      <td>8.255328e+08</td>\n",
       "      <td>16</td>\n",
       "      <td>7</td>\n",
       "      <td>...</td>\n",
       "      <td>Inception</td>\n",
       "      <td>[Action, Adventure, Sci-Fi]</td>\n",
       "      <td>148.0</td>\n",
       "      <td>8.8</td>\n",
       "      <td>1841066.0</td>\n",
       "      <td>160000000</td>\n",
       "      <td>835524642</td>\n",
       "      <td>16</td>\n",
       "      <td>7</td>\n",
       "      <td>2010</td>\n",
       "    </tr>\n",
       "    <tr>\n",
       "      <th>3</th>\n",
       "      <td>tt0814255</td>\n",
       "      <td>Percy Jackson &amp; the Olympians: The Lightning T...</td>\n",
       "      <td>[Adventure, Fantasy, Family]</td>\n",
       "      <td>118.0</td>\n",
       "      <td>6.1</td>\n",
       "      <td>4229</td>\n",
       "      <td>95000000.0</td>\n",
       "      <td>2.264972e+08</td>\n",
       "      <td>11</td>\n",
       "      <td>2</td>\n",
       "      <td>...</td>\n",
       "      <td>Percy Jackson &amp; the Olympians: The Lightning T...</td>\n",
       "      <td>[Adventure, Family, Fantasy]</td>\n",
       "      <td>118.0</td>\n",
       "      <td>5.9</td>\n",
       "      <td>165108.0</td>\n",
       "      <td>95000000</td>\n",
       "      <td>223050874</td>\n",
       "      <td>12</td>\n",
       "      <td>2</td>\n",
       "      <td>2010</td>\n",
       "    </tr>\n",
       "    <tr>\n",
       "      <th>4</th>\n",
       "      <td>tt0435761</td>\n",
       "      <td>Toy Story 3</td>\n",
       "      <td>[Animation, Family, Comedy]</td>\n",
       "      <td>103.0</td>\n",
       "      <td>7.7</td>\n",
       "      <td>8340</td>\n",
       "      <td>200000000.0</td>\n",
       "      <td>1.066970e+09</td>\n",
       "      <td>17</td>\n",
       "      <td>6</td>\n",
       "      <td>...</td>\n",
       "      <td>Toy Story 3</td>\n",
       "      <td>[Adventure, Animation, Comedy]</td>\n",
       "      <td>103.0</td>\n",
       "      <td>8.3</td>\n",
       "      <td>682218.0</td>\n",
       "      <td>200000000</td>\n",
       "      <td>1068879522</td>\n",
       "      <td>18</td>\n",
       "      <td>6</td>\n",
       "      <td>2010</td>\n",
       "    </tr>\n",
       "  </tbody>\n",
       "</table>\n",
       "<p>5 rows × 21 columns</p>\n",
       "</div>"
      ],
      "text/plain": [
       "      tconst                                            Title_x  \\\n",
       "0  tt0892769                           How to Train Your Dragon   \n",
       "1  tt1228705                                         Iron Man 2   \n",
       "2  tt1375666                                          Inception   \n",
       "3  tt0814255  Percy Jackson & the Olympians: The Lightning T...   \n",
       "4  tt0435761                                        Toy Story 3   \n",
       "\n",
       "                                  Genres_x  runtime_minutes_x  vote_average_x  \\\n",
       "0  [Fantasy, Adventure, Animation, Family]               98.0             7.7   \n",
       "1     [Adventure, Action, Science Fiction]              124.0             6.8   \n",
       "2     [Action, Science Fiction, Adventure]              148.0             8.3   \n",
       "3             [Adventure, Fantasy, Family]              118.0             6.1   \n",
       "4              [Animation, Family, Comedy]              103.0             7.7   \n",
       "\n",
       "   vote_count_x  budget_est_x  worldwide_gross_x  release_day_x  \\\n",
       "0          7610   165000000.0       4.948788e+08             26   \n",
       "1         12368   200000000.0       6.239333e+08              7   \n",
       "2         22186   160000000.0       8.255328e+08             16   \n",
       "3          4229    95000000.0       2.264972e+08             11   \n",
       "4          8340   200000000.0       1.066970e+09             17   \n",
       "\n",
       "   release_month_x  ...                                            Title_y  \\\n",
       "0                3  ...                           How to Train Your Dragon   \n",
       "1                5  ...                                         Iron Man 2   \n",
       "2                7  ...                                          Inception   \n",
       "3                2  ...  Percy Jackson & the Olympians: The Lightning T...   \n",
       "4                6  ...                                        Toy Story 3   \n",
       "\n",
       "                         Genres_y runtime_minutes_y  vote_average_y  \\\n",
       "0  [Action, Adventure, Animation]              98.0             8.1   \n",
       "1     [Action, Adventure, Sci-Fi]             124.0             7.0   \n",
       "2     [Action, Adventure, Sci-Fi]             148.0             8.8   \n",
       "3    [Adventure, Family, Fantasy]             118.0             5.9   \n",
       "4  [Adventure, Animation, Comedy]             103.0             8.3   \n",
       "\n",
       "   vote_count_y  budget_est_y  worldwide_gross_y  release_day_y  \\\n",
       "0      611299.0     165000000          494870992             26   \n",
       "1      657690.0     170000000          621156389              7   \n",
       "2     1841066.0     160000000          835524642             16   \n",
       "3      165108.0      95000000          223050874             12   \n",
       "4      682218.0     200000000         1068879522             18   \n",
       "\n",
       "   release_month_y  release_year_y  \n",
       "0                3            2010  \n",
       "1                5            2010  \n",
       "2                7            2010  \n",
       "3                2            2010  \n",
       "4                6            2010  \n",
       "\n",
       "[5 rows x 21 columns]"
      ]
     },
     "execution_count": 118,
     "metadata": {},
     "output_type": "execute_result"
    }
   ],
   "source": [
    "inner_sect.head()"
   ]
  },
  {
   "cell_type": "code",
   "execution_count": 120,
   "metadata": {
    "ExecuteTime": {
     "end_time": "2021-05-01T00:16:33.834420Z",
     "start_time": "2021-05-01T00:16:33.765604Z"
    }
   },
   "outputs": [],
   "source": [
    "common_tconst = pd.DataFrame([inner_sect.tconst,\n",
    "                              inner_sect.Title_x,\n",
    "                              inner_sect.Genres_x,\n",
    "                              (inner_sect.runtime_minutes_x + inner_sect.runtime_minutes_y) / 2,\n",
    "                             (((inner_sect.vote_average_x * inner_sect.vote_count_x) + (inner_sect.vote_average_y * inner_sect.vote_count_y)) / (inner_sect.vote_count_x + inner_sect.vote_count_y)),\n",
    "                             (inner_sect.vote_count_x + inner_sect.vote_count_y),\n",
    "                             (inner_sect.budget_est_x + inner_sect.budget_est_y) / 2,\n",
    "                             (inner_sect.worldwide_gross_x + inner_sect.worldwide_gross_y) / 2,\n",
    "                            inner_sect.release_day_x, inner_sect.release_month_x, inner_sect.release_year_x]).T"
   ]
  },
  {
   "cell_type": "code",
   "execution_count": 121,
   "metadata": {
    "ExecuteTime": {
     "end_time": "2021-05-01T00:16:34.622879Z",
     "start_time": "2021-05-01T00:16:34.602936Z"
    }
   },
   "outputs": [
    {
     "data": {
      "text/html": [
       "<div>\n",
       "<style scoped>\n",
       "    .dataframe tbody tr th:only-of-type {\n",
       "        vertical-align: middle;\n",
       "    }\n",
       "\n",
       "    .dataframe tbody tr th {\n",
       "        vertical-align: top;\n",
       "    }\n",
       "\n",
       "    .dataframe thead th {\n",
       "        text-align: right;\n",
       "    }\n",
       "</style>\n",
       "<table border=\"1\" class=\"dataframe\">\n",
       "  <thead>\n",
       "    <tr style=\"text-align: right;\">\n",
       "      <th></th>\n",
       "      <th>tconst</th>\n",
       "      <th>Title_x</th>\n",
       "      <th>Genres_x</th>\n",
       "      <th>Unnamed 0</th>\n",
       "      <th>Unnamed 1</th>\n",
       "      <th>Unnamed 2</th>\n",
       "      <th>Unnamed 3</th>\n",
       "      <th>Unnamed 4</th>\n",
       "      <th>release_day_x</th>\n",
       "      <th>release_month_x</th>\n",
       "      <th>release_year_x</th>\n",
       "    </tr>\n",
       "  </thead>\n",
       "  <tbody>\n",
       "    <tr>\n",
       "      <th>0</th>\n",
       "      <td>tt0892769</td>\n",
       "      <td>How to Train Your Dragon</td>\n",
       "      <td>[Fantasy, Adventure, Animation, Family]</td>\n",
       "      <td>98</td>\n",
       "      <td>8.09508</td>\n",
       "      <td>618909</td>\n",
       "      <td>1.65e+08</td>\n",
       "      <td>4.94875e+08</td>\n",
       "      <td>26</td>\n",
       "      <td>3</td>\n",
       "      <td>2010</td>\n",
       "    </tr>\n",
       "    <tr>\n",
       "      <th>1</th>\n",
       "      <td>tt1228705</td>\n",
       "      <td>Iron Man 2</td>\n",
       "      <td>[Adventure, Action, Science Fiction]</td>\n",
       "      <td>124</td>\n",
       "      <td>6.99631</td>\n",
       "      <td>670058</td>\n",
       "      <td>1.85e+08</td>\n",
       "      <td>6.22545e+08</td>\n",
       "      <td>7</td>\n",
       "      <td>5</td>\n",
       "      <td>2010</td>\n",
       "    </tr>\n",
       "    <tr>\n",
       "      <th>2</th>\n",
       "      <td>tt1375666</td>\n",
       "      <td>Inception</td>\n",
       "      <td>[Action, Science Fiction, Adventure]</td>\n",
       "      <td>148</td>\n",
       "      <td>8.79405</td>\n",
       "      <td>1.86325e+06</td>\n",
       "      <td>1.6e+08</td>\n",
       "      <td>8.30529e+08</td>\n",
       "      <td>16</td>\n",
       "      <td>7</td>\n",
       "      <td>2010</td>\n",
       "    </tr>\n",
       "    <tr>\n",
       "      <th>3</th>\n",
       "      <td>tt0814255</td>\n",
       "      <td>Percy Jackson &amp; the Olympians: The Lightning T...</td>\n",
       "      <td>[Adventure, Fantasy, Family]</td>\n",
       "      <td>118</td>\n",
       "      <td>5.90499</td>\n",
       "      <td>169337</td>\n",
       "      <td>9.5e+07</td>\n",
       "      <td>2.24774e+08</td>\n",
       "      <td>11</td>\n",
       "      <td>2</td>\n",
       "      <td>2010</td>\n",
       "    </tr>\n",
       "    <tr>\n",
       "      <th>4</th>\n",
       "      <td>tt0435761</td>\n",
       "      <td>Toy Story 3</td>\n",
       "      <td>[Animation, Family, Comedy]</td>\n",
       "      <td>103</td>\n",
       "      <td>8.29275</td>\n",
       "      <td>690558</td>\n",
       "      <td>2e+08</td>\n",
       "      <td>1.06792e+09</td>\n",
       "      <td>17</td>\n",
       "      <td>6</td>\n",
       "      <td>2010</td>\n",
       "    </tr>\n",
       "  </tbody>\n",
       "</table>\n",
       "</div>"
      ],
      "text/plain": [
       "      tconst                                            Title_x  \\\n",
       "0  tt0892769                           How to Train Your Dragon   \n",
       "1  tt1228705                                         Iron Man 2   \n",
       "2  tt1375666                                          Inception   \n",
       "3  tt0814255  Percy Jackson & the Olympians: The Lightning T...   \n",
       "4  tt0435761                                        Toy Story 3   \n",
       "\n",
       "                                  Genres_x Unnamed 0 Unnamed 1    Unnamed 2  \\\n",
       "0  [Fantasy, Adventure, Animation, Family]        98   8.09508       618909   \n",
       "1     [Adventure, Action, Science Fiction]       124   6.99631       670058   \n",
       "2     [Action, Science Fiction, Adventure]       148   8.79405  1.86325e+06   \n",
       "3             [Adventure, Fantasy, Family]       118   5.90499       169337   \n",
       "4              [Animation, Family, Comedy]       103   8.29275       690558   \n",
       "\n",
       "  Unnamed 3    Unnamed 4 release_day_x release_month_x release_year_x  \n",
       "0  1.65e+08  4.94875e+08            26               3           2010  \n",
       "1  1.85e+08  6.22545e+08             7               5           2010  \n",
       "2   1.6e+08  8.30529e+08            16               7           2010  \n",
       "3   9.5e+07  2.24774e+08            11               2           2010  \n",
       "4     2e+08  1.06792e+09            17               6           2010  "
      ]
     },
     "execution_count": 121,
     "metadata": {},
     "output_type": "execute_result"
    }
   ],
   "source": [
    "common_tconst.head()"
   ]
  },
  {
   "cell_type": "code",
   "execution_count": 122,
   "metadata": {
    "ExecuteTime": {
     "end_time": "2021-05-01T00:16:43.112904Z",
     "start_time": "2021-05-01T00:16:43.095947Z"
    }
   },
   "outputs": [],
   "source": [
    "common_tconst.columns = cleaned_tmdb.columns"
   ]
  },
  {
   "cell_type": "code",
   "execution_count": 123,
   "metadata": {
    "ExecuteTime": {
     "end_time": "2021-05-01T00:16:43.855346Z",
     "start_time": "2021-05-01T00:16:43.840386Z"
    }
   },
   "outputs": [
    {
     "data": {
      "text/html": [
       "<div>\n",
       "<style scoped>\n",
       "    .dataframe tbody tr th:only-of-type {\n",
       "        vertical-align: middle;\n",
       "    }\n",
       "\n",
       "    .dataframe tbody tr th {\n",
       "        vertical-align: top;\n",
       "    }\n",
       "\n",
       "    .dataframe thead th {\n",
       "        text-align: right;\n",
       "    }\n",
       "</style>\n",
       "<table border=\"1\" class=\"dataframe\">\n",
       "  <thead>\n",
       "    <tr style=\"text-align: right;\">\n",
       "      <th></th>\n",
       "      <th>tconst</th>\n",
       "      <th>Title</th>\n",
       "      <th>Genres</th>\n",
       "      <th>runtime_minutes</th>\n",
       "      <th>vote_average</th>\n",
       "      <th>vote_count</th>\n",
       "      <th>budget_est</th>\n",
       "      <th>worldwide_gross</th>\n",
       "      <th>release_day</th>\n",
       "      <th>release_month</th>\n",
       "      <th>release_year</th>\n",
       "    </tr>\n",
       "  </thead>\n",
       "  <tbody>\n",
       "    <tr>\n",
       "      <th>0</th>\n",
       "      <td>tt0892769</td>\n",
       "      <td>How to Train Your Dragon</td>\n",
       "      <td>[Fantasy, Adventure, Animation, Family]</td>\n",
       "      <td>98</td>\n",
       "      <td>8.09508</td>\n",
       "      <td>618909</td>\n",
       "      <td>1.65e+08</td>\n",
       "      <td>4.94875e+08</td>\n",
       "      <td>26</td>\n",
       "      <td>3</td>\n",
       "      <td>2010</td>\n",
       "    </tr>\n",
       "    <tr>\n",
       "      <th>1</th>\n",
       "      <td>tt1228705</td>\n",
       "      <td>Iron Man 2</td>\n",
       "      <td>[Adventure, Action, Science Fiction]</td>\n",
       "      <td>124</td>\n",
       "      <td>6.99631</td>\n",
       "      <td>670058</td>\n",
       "      <td>1.85e+08</td>\n",
       "      <td>6.22545e+08</td>\n",
       "      <td>7</td>\n",
       "      <td>5</td>\n",
       "      <td>2010</td>\n",
       "    </tr>\n",
       "    <tr>\n",
       "      <th>2</th>\n",
       "      <td>tt1375666</td>\n",
       "      <td>Inception</td>\n",
       "      <td>[Action, Science Fiction, Adventure]</td>\n",
       "      <td>148</td>\n",
       "      <td>8.79405</td>\n",
       "      <td>1.86325e+06</td>\n",
       "      <td>1.6e+08</td>\n",
       "      <td>8.30529e+08</td>\n",
       "      <td>16</td>\n",
       "      <td>7</td>\n",
       "      <td>2010</td>\n",
       "    </tr>\n",
       "    <tr>\n",
       "      <th>3</th>\n",
       "      <td>tt0814255</td>\n",
       "      <td>Percy Jackson &amp; the Olympians: The Lightning T...</td>\n",
       "      <td>[Adventure, Fantasy, Family]</td>\n",
       "      <td>118</td>\n",
       "      <td>5.90499</td>\n",
       "      <td>169337</td>\n",
       "      <td>9.5e+07</td>\n",
       "      <td>2.24774e+08</td>\n",
       "      <td>11</td>\n",
       "      <td>2</td>\n",
       "      <td>2010</td>\n",
       "    </tr>\n",
       "    <tr>\n",
       "      <th>4</th>\n",
       "      <td>tt0435761</td>\n",
       "      <td>Toy Story 3</td>\n",
       "      <td>[Animation, Family, Comedy]</td>\n",
       "      <td>103</td>\n",
       "      <td>8.29275</td>\n",
       "      <td>690558</td>\n",
       "      <td>2e+08</td>\n",
       "      <td>1.06792e+09</td>\n",
       "      <td>17</td>\n",
       "      <td>6</td>\n",
       "      <td>2010</td>\n",
       "    </tr>\n",
       "  </tbody>\n",
       "</table>\n",
       "</div>"
      ],
      "text/plain": [
       "      tconst                                              Title  \\\n",
       "0  tt0892769                           How to Train Your Dragon   \n",
       "1  tt1228705                                         Iron Man 2   \n",
       "2  tt1375666                                          Inception   \n",
       "3  tt0814255  Percy Jackson & the Olympians: The Lightning T...   \n",
       "4  tt0435761                                        Toy Story 3   \n",
       "\n",
       "                                    Genres runtime_minutes vote_average  \\\n",
       "0  [Fantasy, Adventure, Animation, Family]              98      8.09508   \n",
       "1     [Adventure, Action, Science Fiction]             124      6.99631   \n",
       "2     [Action, Science Fiction, Adventure]             148      8.79405   \n",
       "3             [Adventure, Fantasy, Family]             118      5.90499   \n",
       "4              [Animation, Family, Comedy]             103      8.29275   \n",
       "\n",
       "    vote_count budget_est worldwide_gross release_day release_month  \\\n",
       "0       618909   1.65e+08     4.94875e+08          26             3   \n",
       "1       670058   1.85e+08     6.22545e+08           7             5   \n",
       "2  1.86325e+06    1.6e+08     8.30529e+08          16             7   \n",
       "3       169337    9.5e+07     2.24774e+08          11             2   \n",
       "4       690558      2e+08     1.06792e+09          17             6   \n",
       "\n",
       "  release_year  \n",
       "0         2010  \n",
       "1         2010  \n",
       "2         2010  \n",
       "3         2010  \n",
       "4         2010  "
      ]
     },
     "execution_count": 123,
     "metadata": {},
     "output_type": "execute_result"
    }
   ],
   "source": [
    "common_tconst.head()"
   ]
  },
  {
   "cell_type": "code",
   "execution_count": 124,
   "metadata": {
    "ExecuteTime": {
     "end_time": "2021-05-01T00:17:08.375255Z",
     "start_time": "2021-05-01T00:17:08.363779Z"
    }
   },
   "outputs": [],
   "source": [
    "outer_sect = movie_collection_w_dups.loc[~movie_collection_w_dups.tconst.isin(common_tconst.tconst)]"
   ]
  },
  {
   "cell_type": "code",
   "execution_count": 125,
   "metadata": {
    "ExecuteTime": {
     "end_time": "2021-05-01T00:17:09.222768Z",
     "start_time": "2021-05-01T00:17:09.200820Z"
    }
   },
   "outputs": [
    {
     "data": {
      "text/html": [
       "<div>\n",
       "<style scoped>\n",
       "    .dataframe tbody tr th:only-of-type {\n",
       "        vertical-align: middle;\n",
       "    }\n",
       "\n",
       "    .dataframe tbody tr th {\n",
       "        vertical-align: top;\n",
       "    }\n",
       "\n",
       "    .dataframe thead th {\n",
       "        text-align: right;\n",
       "    }\n",
       "</style>\n",
       "<table border=\"1\" class=\"dataframe\">\n",
       "  <thead>\n",
       "    <tr style=\"text-align: right;\">\n",
       "      <th></th>\n",
       "      <th>tconst</th>\n",
       "      <th>Title</th>\n",
       "      <th>Genres</th>\n",
       "      <th>runtime_minutes</th>\n",
       "      <th>vote_average</th>\n",
       "      <th>vote_count</th>\n",
       "      <th>budget_est</th>\n",
       "      <th>worldwide_gross</th>\n",
       "      <th>release_day</th>\n",
       "      <th>release_month</th>\n",
       "      <th>release_year</th>\n",
       "    </tr>\n",
       "  </thead>\n",
       "  <tbody>\n",
       "    <tr>\n",
       "      <th>0</th>\n",
       "      <td>tt0926084</td>\n",
       "      <td>Harry Potter and the Deathly Hallows: Part 1</td>\n",
       "      <td>[Adventure, Fantasy, Family]</td>\n",
       "      <td>146.0</td>\n",
       "      <td>7.7</td>\n",
       "      <td>10788.0</td>\n",
       "      <td>250000000.0</td>\n",
       "      <td>9.543059e+08</td>\n",
       "      <td>19</td>\n",
       "      <td>11</td>\n",
       "      <td>2010</td>\n",
       "    </tr>\n",
       "    <tr>\n",
       "      <th>3</th>\n",
       "      <td>tt0114709</td>\n",
       "      <td>Toy Story</td>\n",
       "      <td>[Animation, Comedy, Family]</td>\n",
       "      <td>81.0</td>\n",
       "      <td>7.9</td>\n",
       "      <td>10174.0</td>\n",
       "      <td>30000000.0</td>\n",
       "      <td>3.735540e+08</td>\n",
       "      <td>22</td>\n",
       "      <td>11</td>\n",
       "      <td>1995</td>\n",
       "    </tr>\n",
       "    <tr>\n",
       "      <th>6</th>\n",
       "      <td>tt0499549</td>\n",
       "      <td>Avatar</td>\n",
       "      <td>[Action, Adventure, Fantasy, Science Fiction]</td>\n",
       "      <td>162.0</td>\n",
       "      <td>7.4</td>\n",
       "      <td>18676.0</td>\n",
       "      <td>237000000.0</td>\n",
       "      <td>2.787965e+09</td>\n",
       "      <td>18</td>\n",
       "      <td>12</td>\n",
       "      <td>2009</td>\n",
       "    </tr>\n",
       "    <tr>\n",
       "      <th>10</th>\n",
       "      <td>tt0120363</td>\n",
       "      <td>Toy Story 2</td>\n",
       "      <td>[Animation, Comedy, Family]</td>\n",
       "      <td>92.0</td>\n",
       "      <td>7.5</td>\n",
       "      <td>7553.0</td>\n",
       "      <td>90000000.0</td>\n",
       "      <td>4.973669e+08</td>\n",
       "      <td>24</td>\n",
       "      <td>11</td>\n",
       "      <td>1999</td>\n",
       "    </tr>\n",
       "    <tr>\n",
       "      <th>17</th>\n",
       "      <td>tt0372183</td>\n",
       "      <td>The Bourne Supremacy</td>\n",
       "      <td>[Action, Drama, Thriller]</td>\n",
       "      <td>108.0</td>\n",
       "      <td>7.3</td>\n",
       "      <td>4367.0</td>\n",
       "      <td>75000000.0</td>\n",
       "      <td>2.885002e+08</td>\n",
       "      <td>23</td>\n",
       "      <td>7</td>\n",
       "      <td>2004</td>\n",
       "    </tr>\n",
       "  </tbody>\n",
       "</table>\n",
       "</div>"
      ],
      "text/plain": [
       "       tconst                                         Title  \\\n",
       "0   tt0926084  Harry Potter and the Deathly Hallows: Part 1   \n",
       "3   tt0114709                                     Toy Story   \n",
       "6   tt0499549                                        Avatar   \n",
       "10  tt0120363                                   Toy Story 2   \n",
       "17  tt0372183                          The Bourne Supremacy   \n",
       "\n",
       "                                           Genres  runtime_minutes  \\\n",
       "0                    [Adventure, Fantasy, Family]            146.0   \n",
       "3                     [Animation, Comedy, Family]             81.0   \n",
       "6   [Action, Adventure, Fantasy, Science Fiction]            162.0   \n",
       "10                    [Animation, Comedy, Family]             92.0   \n",
       "17                      [Action, Drama, Thriller]            108.0   \n",
       "\n",
       "    vote_average  vote_count   budget_est  worldwide_gross  release_day  \\\n",
       "0            7.7     10788.0  250000000.0     9.543059e+08           19   \n",
       "3            7.9     10174.0   30000000.0     3.735540e+08           22   \n",
       "6            7.4     18676.0  237000000.0     2.787965e+09           18   \n",
       "10           7.5      7553.0   90000000.0     4.973669e+08           24   \n",
       "17           7.3      4367.0   75000000.0     2.885002e+08           23   \n",
       "\n",
       "    release_month  release_year  \n",
       "0              11          2010  \n",
       "3              11          1995  \n",
       "6              12          2009  \n",
       "10             11          1999  \n",
       "17              7          2004  "
      ]
     },
     "execution_count": 125,
     "metadata": {},
     "output_type": "execute_result"
    }
   ],
   "source": [
    "outer_sect.head()"
   ]
  },
  {
   "cell_type": "code",
   "execution_count": 126,
   "metadata": {
    "ExecuteTime": {
     "end_time": "2021-05-01T00:17:14.076061Z",
     "start_time": "2021-05-01T00:17:14.059599Z"
    }
   },
   "outputs": [
    {
     "name": "stdout",
     "output_type": "stream",
     "text": [
      "<class 'pandas.core.frame.DataFrame'>\n",
      "Int64Index: 1248 entries, 0 to 1354\n",
      "Data columns (total 11 columns):\n",
      " #   Column           Non-Null Count  Dtype  \n",
      "---  ------           --------------  -----  \n",
      " 0   tconst           1248 non-null   object \n",
      " 1   Title            1248 non-null   object \n",
      " 2   Genres           1248 non-null   object \n",
      " 3   runtime_minutes  1248 non-null   float64\n",
      " 4   vote_average     1248 non-null   float64\n",
      " 5   vote_count       1248 non-null   float64\n",
      " 6   budget_est       1248 non-null   float64\n",
      " 7   worldwide_gross  1248 non-null   float64\n",
      " 8   release_day      1248 non-null   int64  \n",
      " 9   release_month    1248 non-null   int64  \n",
      " 10  release_year     1248 non-null   int64  \n",
      "dtypes: float64(5), int64(3), object(3)\n",
      "memory usage: 117.0+ KB\n"
     ]
    }
   ],
   "source": [
    "outer_sect.info()"
   ]
  },
  {
   "cell_type": "code",
   "execution_count": 127,
   "metadata": {
    "ExecuteTime": {
     "end_time": "2021-05-01T00:17:17.144978Z",
     "start_time": "2021-05-01T00:17:17.131979Z"
    }
   },
   "outputs": [
    {
     "name": "stdout",
     "output_type": "stream",
     "text": [
      "<class 'pandas.core.frame.DataFrame'>\n",
      "Int64Index: 1125 entries, 0 to 1124\n",
      "Data columns (total 11 columns):\n",
      " #   Column           Non-Null Count  Dtype \n",
      "---  ------           --------------  ----- \n",
      " 0   tconst           1125 non-null   object\n",
      " 1   Title            1125 non-null   object\n",
      " 2   Genres           1125 non-null   object\n",
      " 3   runtime_minutes  1125 non-null   object\n",
      " 4   vote_average     1125 non-null   object\n",
      " 5   vote_count       1125 non-null   object\n",
      " 6   budget_est       1125 non-null   object\n",
      " 7   worldwide_gross  1125 non-null   object\n",
      " 8   release_day      1125 non-null   object\n",
      " 9   release_month    1125 non-null   object\n",
      " 10  release_year     1125 non-null   object\n",
      "dtypes: object(11)\n",
      "memory usage: 145.5+ KB\n"
     ]
    }
   ],
   "source": [
    "common_tconst.info()"
   ]
  },
  {
   "cell_type": "code",
   "execution_count": 128,
   "metadata": {
    "ExecuteTime": {
     "end_time": "2021-05-01T00:17:21.356381Z",
     "start_time": "2021-05-01T00:17:21.346408Z"
    }
   },
   "outputs": [],
   "source": [
    "movie_collection = pd.concat([common_tconst,outer_sect])"
   ]
  },
  {
   "cell_type": "code",
   "execution_count": 129,
   "metadata": {
    "ExecuteTime": {
     "end_time": "2021-05-01T00:17:22.870721Z",
     "start_time": "2021-05-01T00:17:22.845788Z"
    }
   },
   "outputs": [
    {
     "data": {
      "text/html": [
       "<div>\n",
       "<style scoped>\n",
       "    .dataframe tbody tr th:only-of-type {\n",
       "        vertical-align: middle;\n",
       "    }\n",
       "\n",
       "    .dataframe tbody tr th {\n",
       "        vertical-align: top;\n",
       "    }\n",
       "\n",
       "    .dataframe thead th {\n",
       "        text-align: right;\n",
       "    }\n",
       "</style>\n",
       "<table border=\"1\" class=\"dataframe\">\n",
       "  <thead>\n",
       "    <tr style=\"text-align: right;\">\n",
       "      <th></th>\n",
       "      <th>tconst</th>\n",
       "      <th>Title</th>\n",
       "      <th>Genres</th>\n",
       "      <th>runtime_minutes</th>\n",
       "      <th>vote_average</th>\n",
       "      <th>vote_count</th>\n",
       "      <th>budget_est</th>\n",
       "      <th>worldwide_gross</th>\n",
       "      <th>release_day</th>\n",
       "      <th>release_month</th>\n",
       "      <th>release_year</th>\n",
       "    </tr>\n",
       "  </thead>\n",
       "  <tbody>\n",
       "    <tr>\n",
       "      <th>0</th>\n",
       "      <td>tt0892769</td>\n",
       "      <td>How to Train Your Dragon</td>\n",
       "      <td>[Fantasy, Adventure, Animation, Family]</td>\n",
       "      <td>98</td>\n",
       "      <td>8.09508</td>\n",
       "      <td>618909</td>\n",
       "      <td>1.65e+08</td>\n",
       "      <td>4.94875e+08</td>\n",
       "      <td>26</td>\n",
       "      <td>3</td>\n",
       "      <td>2010</td>\n",
       "    </tr>\n",
       "    <tr>\n",
       "      <th>1</th>\n",
       "      <td>tt1228705</td>\n",
       "      <td>Iron Man 2</td>\n",
       "      <td>[Adventure, Action, Science Fiction]</td>\n",
       "      <td>124</td>\n",
       "      <td>6.99631</td>\n",
       "      <td>670058</td>\n",
       "      <td>1.85e+08</td>\n",
       "      <td>6.22545e+08</td>\n",
       "      <td>7</td>\n",
       "      <td>5</td>\n",
       "      <td>2010</td>\n",
       "    </tr>\n",
       "    <tr>\n",
       "      <th>2</th>\n",
       "      <td>tt1375666</td>\n",
       "      <td>Inception</td>\n",
       "      <td>[Action, Science Fiction, Adventure]</td>\n",
       "      <td>148</td>\n",
       "      <td>8.79405</td>\n",
       "      <td>1.86325e+06</td>\n",
       "      <td>1.6e+08</td>\n",
       "      <td>8.30529e+08</td>\n",
       "      <td>16</td>\n",
       "      <td>7</td>\n",
       "      <td>2010</td>\n",
       "    </tr>\n",
       "    <tr>\n",
       "      <th>3</th>\n",
       "      <td>tt0814255</td>\n",
       "      <td>Percy Jackson &amp; the Olympians: The Lightning T...</td>\n",
       "      <td>[Adventure, Fantasy, Family]</td>\n",
       "      <td>118</td>\n",
       "      <td>5.90499</td>\n",
       "      <td>169337</td>\n",
       "      <td>9.5e+07</td>\n",
       "      <td>2.24774e+08</td>\n",
       "      <td>11</td>\n",
       "      <td>2</td>\n",
       "      <td>2010</td>\n",
       "    </tr>\n",
       "    <tr>\n",
       "      <th>4</th>\n",
       "      <td>tt0435761</td>\n",
       "      <td>Toy Story 3</td>\n",
       "      <td>[Animation, Family, Comedy]</td>\n",
       "      <td>103</td>\n",
       "      <td>8.29275</td>\n",
       "      <td>690558</td>\n",
       "      <td>2e+08</td>\n",
       "      <td>1.06792e+09</td>\n",
       "      <td>17</td>\n",
       "      <td>6</td>\n",
       "      <td>2010</td>\n",
       "    </tr>\n",
       "  </tbody>\n",
       "</table>\n",
       "</div>"
      ],
      "text/plain": [
       "      tconst                                              Title  \\\n",
       "0  tt0892769                           How to Train Your Dragon   \n",
       "1  tt1228705                                         Iron Man 2   \n",
       "2  tt1375666                                          Inception   \n",
       "3  tt0814255  Percy Jackson & the Olympians: The Lightning T...   \n",
       "4  tt0435761                                        Toy Story 3   \n",
       "\n",
       "                                    Genres runtime_minutes vote_average  \\\n",
       "0  [Fantasy, Adventure, Animation, Family]              98      8.09508   \n",
       "1     [Adventure, Action, Science Fiction]             124      6.99631   \n",
       "2     [Action, Science Fiction, Adventure]             148      8.79405   \n",
       "3             [Adventure, Fantasy, Family]             118      5.90499   \n",
       "4              [Animation, Family, Comedy]             103      8.29275   \n",
       "\n",
       "    vote_count budget_est worldwide_gross release_day release_month  \\\n",
       "0       618909   1.65e+08     4.94875e+08          26             3   \n",
       "1       670058   1.85e+08     6.22545e+08           7             5   \n",
       "2  1.86325e+06    1.6e+08     8.30529e+08          16             7   \n",
       "3       169337    9.5e+07     2.24774e+08          11             2   \n",
       "4       690558      2e+08     1.06792e+09          17             6   \n",
       "\n",
       "  release_year  \n",
       "0         2010  \n",
       "1         2010  \n",
       "2         2010  \n",
       "3         2010  \n",
       "4         2010  "
      ]
     },
     "execution_count": 129,
     "metadata": {},
     "output_type": "execute_result"
    }
   ],
   "source": [
    "movie_collection.head()"
   ]
  },
  {
   "cell_type": "code",
   "execution_count": 130,
   "metadata": {
    "ExecuteTime": {
     "end_time": "2021-05-01T00:17:26.074444Z",
     "start_time": "2021-05-01T00:17:26.062943Z"
    }
   },
   "outputs": [
    {
     "name": "stdout",
     "output_type": "stream",
     "text": [
      "<class 'pandas.core.frame.DataFrame'>\n",
      "Int64Index: 2373 entries, 0 to 1354\n",
      "Data columns (total 11 columns):\n",
      " #   Column           Non-Null Count  Dtype \n",
      "---  ------           --------------  ----- \n",
      " 0   tconst           2373 non-null   object\n",
      " 1   Title            2373 non-null   object\n",
      " 2   Genres           2373 non-null   object\n",
      " 3   runtime_minutes  2373 non-null   object\n",
      " 4   vote_average     2373 non-null   object\n",
      " 5   vote_count       2373 non-null   object\n",
      " 6   budget_est       2373 non-null   object\n",
      " 7   worldwide_gross  2373 non-null   object\n",
      " 8   release_day      2373 non-null   object\n",
      " 9   release_month    2373 non-null   object\n",
      " 10  release_year     2373 non-null   object\n",
      "dtypes: object(11)\n",
      "memory usage: 222.5+ KB\n"
     ]
    }
   ],
   "source": [
    "movie_collection.info()"
   ]
  },
  {
   "cell_type": "code",
   "execution_count": 131,
   "metadata": {
    "ExecuteTime": {
     "end_time": "2021-05-01T00:17:33.569219Z",
     "start_time": "2021-05-01T00:17:33.559025Z"
    }
   },
   "outputs": [
    {
     "data": {
      "text/plain": [
       "2373"
      ]
     },
     "execution_count": 131,
     "metadata": {},
     "output_type": "execute_result"
    }
   ],
   "source": [
    "movie_collection.tconst.nunique()"
   ]
  },
  {
   "cell_type": "code",
   "execution_count": 132,
   "metadata": {
    "ExecuteTime": {
     "end_time": "2021-05-01T00:18:15.883300Z",
     "start_time": "2021-05-01T00:18:15.860331Z"
    }
   },
   "outputs": [],
   "source": [
    "movie_collection.to_csv('./dataFiles/movie_collection.csv',index=False)"
   ]
  }
 ],
 "metadata": {
  "kernelspec": {
   "display_name": "learn-env",
   "language": "python",
   "name": "learn-env"
  },
  "language_info": {
   "codemirror_mode": {
    "name": "ipython",
    "version": 3
   },
   "file_extension": ".py",
   "mimetype": "text/x-python",
   "name": "python",
   "nbconvert_exporter": "python",
   "pygments_lexer": "ipython3",
   "version": "3.8.5"
  },
  "toc": {
   "base_numbering": 1,
   "nav_menu": {},
   "number_sections": true,
   "sideBar": true,
   "skip_h1_title": false,
   "title_cell": "Table of Contents",
   "title_sidebar": "Contents",
   "toc_cell": false,
   "toc_position": {},
   "toc_section_display": true,
   "toc_window_display": false
  },
  "varInspector": {
   "cols": {
    "lenName": 16,
    "lenType": 16,
    "lenVar": 40
   },
   "kernels_config": {
    "python": {
     "delete_cmd_postfix": "",
     "delete_cmd_prefix": "del ",
     "library": "var_list.py",
     "varRefreshCmd": "print(var_dic_list())"
    },
    "r": {
     "delete_cmd_postfix": ") ",
     "delete_cmd_prefix": "rm(",
     "library": "var_list.r",
     "varRefreshCmd": "cat(var_dic_list()) "
    }
   },
   "types_to_exclude": [
    "module",
    "function",
    "builtin_function_or_method",
    "instance",
    "_Feature"
   ],
   "window_display": false
  }
 },
 "nbformat": 4,
 "nbformat_minor": 4
}
